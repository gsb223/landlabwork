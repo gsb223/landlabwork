{
 "cells": [
  {
   "cell_type": "code",
   "execution_count": 3,
   "metadata": {},
   "outputs": [],
   "source": [
    "import numpy as np #basic python library\n",
    "import matplotlib.pyplot as plt #For plotting results\n",
    "from matplotlib.pyplot import figure, legend, plot, show, title, xlabel, ylabel, ylim\n",
    "import cv2 \n",
    "import glob\n",
    "\n",
    "## Import Landlab components\n",
    "from landlab.components import DepressionFinderAndRouter #Pit filling\n",
    "from landlab.components import PriorityFloodFlowRouter #Flow routing\n",
    "from landlab.components import FlowAccumulator #FlowAccumulator \n",
    "from landlab.components import ChannelProfiler \n",
    "from landlab.components import SteepnessFinder\n",
    "from landlab.components import ChiFinder\n",
    "from landlab.components import ExponentialWeatherer\n",
    "from landlab.components import DepthDependentDiffuser\n",
    "from landlab.components import SinkFillerBarnes\n",
    "\n",
    "#SPACE model\n",
    "from landlab.components import Space #SPACE model\n",
    "from landlab.components import SpaceLargeScaleEroder #basically SPACE 2.0 -- use this \n",
    "from landlab.components import FastscapeEroder #calculates the amount of erosion at each node\n",
    "from landlab.components import SinkFillerBarnes #replaces pits with shallow gradients for draining\n",
    "\n",
    "## Import Landlab utilities\n",
    "from landlab import RasterModelGrid #Grid utility\n",
    "from landlab import imshow_grid #For plotting results\n",
    "from landlab.io import read_esri_ascii #to read in an ascii file\n",
    "from landlab.io import read_asc_header #to read in the header of the ascii file\n",
    "from landlab.io import write_esri_ascii \n",
    "\n",
    "%matplotlib inline"
   ]
  },
  {
   "cell_type": "code",
   "execution_count": 4,
   "metadata": {},
   "outputs": [
    {
     "ename": "TypeError",
     "evalue": "__init__() missing 1 required positional argument: 'shape'",
     "output_type": "error",
     "traceback": [
      "\u001b[1;31m---------------------------------------------------------------------------\u001b[0m",
      "\u001b[1;31mTypeError\u001b[0m                                 Traceback (most recent call last)",
      "Input \u001b[1;32mIn [4]\u001b[0m, in \u001b[0;36m<cell line: 1>\u001b[1;34m()\u001b[0m\n\u001b[1;32m----> 1\u001b[0m mg \u001b[38;5;241m=\u001b[39m \u001b[43mRasterModelGrid\u001b[49m\u001b[43m(\u001b[49m\u001b[43m)\u001b[49m\n\u001b[0;32m      2\u001b[0m \u001b[38;5;66;03m#Set directory paths to retrieve the asc file\u001b[39;00m\n\u001b[0;32m      3\u001b[0m path_project \u001b[38;5;241m=\u001b[39m \u001b[38;5;124mr\u001b[39m\u001b[38;5;124m\"\u001b[39m\u001b[38;5;124mC:/Users/gsbir/Documents/EES_393/Export/\u001b[39m\u001b[38;5;124m\"\u001b[39m \u001b[38;5;66;03m# add the path to the asc file    #this should access my H drive\u001b[39;00m\n",
      "\u001b[1;31mTypeError\u001b[0m: __init__() missing 1 required positional argument: 'shape'"
     ]
    }
   ],
   "source": [
    "mg = RasterModelGrid()\n",
    "#Set directory paths to retrieve the asc file\n",
    "path_project = r\"C:/Users/gsbir/Documents/EES_393/Export/\" # add the path to the asc file    #this should access my H drive\n",
    "topo_dem = \"alex_final.txt\" #the name of the ascii file\n",
    "#soil_dem = \"sample_topo2_soil__depth.txt\"\n",
    "#bedrock_dem = \"sample_topo2_bedrock__elevation.txt\"\n",
    "topo_path = path_project + topo_dem\n",
    "#soil_path = path_project + soil_dem\n",
    "#bedrock_path = path_project + bedrock_dem\n",
    "\n",
    "#now read the header of the asc file (where there is ncols nrows cell size and nodata value) into the string variable dem_header\n",
    "topo_header = read_asc_header(open(topo_path, 'r'))\n",
    "#soil_header = read_asc_header(open(soil_path, 'r'))\n",
    "#bedrock_header = read_asc_header(open(bedrock_path, 'r'))\n",
    "#use the above to see your grid dimensions, what the no data value is etc...\n",
    "\n",
    "#generate new grid and add DEM values into 'topographic__elevation'\n",
    "(mg, z) = read_esri_ascii(topo_path, name= 'topographic__elevation', halo = 1)\n",
    "#(mg, x) = read_esri_ascii(soil_path, name= 'soil__depth', halo = 1)\n",
    "#(mg, y) = read_esri_ascii(bedrock_path, name= 'bedrock__elevation', halo = 1)\n",
    "\n",
    "#set the watershed boundary condition and the function returns a integer which is the outlet_id so this is set equal to a variable so we can view this\n",
    "outlet_id = mg.set_watershed_boundary_condition(z, nodata_value = -9999, return_outlet_id=True)\n",
    "#This should find your outlet node automatically and outlet_id will be empty if a single outlet was not found\n",
    "\n",
    "print(outlet_id) #prints out the outlet_id\n",
    "\n",
    "#print(mg.at_node.keys()) #Shows the node attributes\n",
    "\n",
    "# %% Hydrologically condition DEM (fill sinks)\n",
    "sfb = SinkFillerBarnes(mg, surface=z, method='D8', fill_flat=False) #creating an instance of sinkfillerbarnes \n",
    "sfb.run_one_step() #This is important to ensure that your future flow routing will work properly. - run the sinkfiller barnes once\n",
    "\n",
    "imshow_grid(mg, mg.status_at_node, color_for_closed = 'blue') #creates a graph showing the red and the closed boundaries are set to blue, black is the landscape and white is the outlet ID (cannot see it at this level)"
   ]
  },
  {
   "cell_type": "code",
   "execution_count": null,
   "metadata": {},
   "outputs": [],
   "source": [
    "#Close all model boundary edges\n",
    "mg.set_closed_boundaries_at_grid_edges(bottom_is_closed=True,left_is_closed=True,right_is_closed=True,top_is_closed=True)\n",
    "mg.set_watershed_boundary_condition_outlet_id(0,mg['node']['topographic__elevation'], -9999.)"
   ]
  },
  {
   "cell_type": "code",
   "execution_count": null,
   "metadata": {},
   "outputs": [],
   "source": [
    "#Instantiate figure as empty plot\n",
    "figelev = plt.figure()\n",
    "\n",
    "#Instantiate subplot as empty plot\n",
    "plot = plt.subplot()\n",
    "\n",
    "#Create a topographic elevation plot that shows the elevation of the landscape in diff colors - using landlab utility imshow_grid\n",
    "imshow_grid(mg, 'topographic__elevation', plot_name='Topographic Elevation', var_name = 'Elevation', var_units=r'm', grid_units=('m', 'm'), cmap='terrain',color_for_background=None)"
   ]
  },
  {
   "cell_type": "code",
   "execution_count": null,
   "metadata": {},
   "outputs": [],
   "source": []
  },
  {
   "cell_type": "code",
   "execution_count": null,
   "metadata": {},
   "outputs": [],
   "source": []
  },
  {
   "cell_type": "code",
   "execution_count": null,
   "metadata": {},
   "outputs": [],
   "source": []
  },
  {
   "cell_type": "code",
   "execution_count": null,
   "metadata": {},
   "outputs": [],
   "source": []
  }
 ],
 "metadata": {
  "kernelspec": {
   "display_name": "Python 3 (ipykernel)",
   "language": "python",
   "name": "python3"
  },
  "language_info": {
   "codemirror_mode": {
    "name": "ipython",
    "version": 3
   },
   "file_extension": ".py",
   "mimetype": "text/x-python",
   "name": "python",
   "nbconvert_exporter": "python",
   "pygments_lexer": "ipython3",
   "version": "3.9.12"
  },
  "vscode": {
   "interpreter": {
    "hash": "f0af7f0a68121cf4db8c5c6aa3bf3c33af80f9ab950506efefed885bdbaceb43"
   }
  }
 },
 "nbformat": 4,
 "nbformat_minor": 2
}
