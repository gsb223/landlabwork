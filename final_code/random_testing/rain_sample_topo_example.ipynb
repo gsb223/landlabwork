{
 "cells": [
  {
   "attachments": {},
   "cell_type": "markdown",
   "metadata": {},
   "source": [
    "This has code from online examples with landlab\n",
    "see other rain_sample_topo file for a more integrated rain and overland flow model"
   ]
  },
  {
   "cell_type": "code",
   "execution_count": null,
   "metadata": {},
   "outputs": [],
   "source": [
    "# PYTHON IMPORTS\n",
    "import numpy as np #basic python library\n",
    "import matplotlib.pyplot as plt #For plotting results\n",
    "from matplotlib.pyplot import figure, legend, plot, show, title, xlabel, ylabel, ylim\n",
    "import cv2 \n",
    "from random import randint\n",
    "\n",
    "# LANDLAB COMPONENTS \n",
    "from landlab.components import DepressionFinderAndRouter #Pit filling\n",
    "from landlab.components import PriorityFloodFlowRouter #Flow routing\n",
    "from landlab.components import FlowAccumulator #FlowAccumulator \n",
    "from landlab.components import ChannelProfiler \n",
    "from landlab.components import SteepnessFinder\n",
    "from landlab.components import ChiFinder\n",
    "from landlab.components import ExponentialWeatherer\n",
    "from landlab.components import DepthDependentDiffuser\n",
    "from landlab.components import SpatialPrecipitationDistribution\n",
    "from landlab.components import OverlandFlow\n",
    "from landlab.utils.flow__distance import calculate_flow__distance\n",
    "\n",
    "# SPACE COMPONENTS \n",
    "from landlab.components import Space #SPACE model\n",
    "from landlab.components import SpaceLargeScaleEroder #basically SPACE 2.0 -- use this \n",
    "from landlab.components import FastscapeEroder #calculates the amount of erosion at each node\n",
    "from landlab.components import SinkFillerBarnes #replaces pits with shallow gradients for draining\n",
    "\n",
    "# LANDLAB UTILITIES \n",
    "from landlab import RasterModelGrid #Grid utility\n",
    "from landlab import imshow_grid #For plotting results\n",
    "from landlab.io import read_esri_ascii #to read in an ascii file\n",
    "from landlab.io import read_asc_header #to read in the header of the ascii file\n",
    "from landlab.io import write_esri_ascii \n",
    "\n",
    "%matplotlib inline"
   ]
  },
  {
   "cell_type": "code",
   "execution_count": null,
   "metadata": {},
   "outputs": [],
   "source": [
    "# GRID SPECS\n",
    "ncols = 100\n",
    "nrows = 100\n",
    "cellsize = 10\n",
    "\n",
    "# RETREIEV TOPO FROM ASCII\n",
    "#path_project = r\"C:/Users/gsbir/Documents/EES_393/Export/\" # add the path to the asc file    #this should access my H drive\n",
    "topo_dem = \"sample_topo2_topographic__elevation.txt\" #the name of the ascii file\n",
    "topo_path = topo_dem\n",
    "topo_header = read_asc_header(open(topo_path, 'r'))\n",
    "(mg, z) = read_esri_ascii(topo_path, name = 'topographic__elevation', halo = 0) #generating the new grid\n",
    "\n",
    "# FIND OUTLET\n",
    "open_nodes = mg.core_nodes\n",
    "min_topo = mg['node']['topographic__elevation'].argmin()\n",
    "min_topo_ID = open_nodes[min_topo]\n",
    "outlet_id = mg.set_watershed_boundary_condition_outlet_id(min_topo_ID, mg['node']['topographic__elevation'], -9999)\n",
    "outlet_id = min_topo_ID\n",
    "\n",
    "# HYDROLOGICALLY FILL THE DEM\n",
    "sfb = SinkFillerBarnes(mg, surface=z, method='D8', fill_flat=False) #creating an instance of sinkfillerbarnes \n",
    "sfb.run_one_step() #This is important to ensure that your future flow routing will work properly. - run the sinkfiller barnes once\n",
    "\n",
    "# CLOSE BOUNDARIES\n",
    "mg.set_closed_boundaries_at_grid_edges(bottom_is_closed=True,left_is_closed=True,right_is_closed=True,top_is_closed=True)\n",
    "\n",
    "# PLOT THE TOPOGRAPHY \n",
    "figelev = plt.figure()#Instantiate figure as empty plot\n",
    "plot = plt.subplot()#Instantiate subplot as empty plot\n",
    "imshow_grid(mg, 'topographic__elevation', plot_name='Topographic Elevation', var_name = 'Elevation', var_units=r'm', grid_units=('m', 'm'), cmap='terrain',color_for_background=None)"
   ]
  },
  {
   "cell_type": "code",
   "execution_count": null,
   "metadata": {},
   "outputs": [],
   "source": [
    "# PARAMETERS FOR SPACE\n",
    "K_sed = 0.0001\n",
    "K_sp = 0.001\n",
    "K_br = 0.0001\n",
    "F_f = 0.0\n",
    "phi = 0.0\n",
    "H_star = 1.0\n",
    "v_s = 5.0\n",
    "m_sp = 0.5\n",
    "n_sp = 1.0\n",
    "sp_crit_sed = 0\n",
    "sp_crit_br = 0\n",
    "\n",
    "#INSTANTIATING COMPONENTS \n",
    "fr = PriorityFloodFlowRouter(mg, flow_metric='D8', suppress_out = True)\n",
    "\n",
    "fa = FlowAccumulator(mg, flow_director='D8') \n",
    "\n",
    "df = DepressionFinderAndRouter(mg,pits = 'flow__sink_flag', reroute_flow = True) \n",
    "\n",
    "fsc = FastscapeEroder(mg, K_sp, m_sp, n_sp)\n",
    "\n",
    "#RUNNING FSC FOR 1 YEAR TO IDENTIFY CHANNELS \n",
    "fa.run_one_step()\n",
    "df.map_depressions()\n",
    "fsc.run_one_step(1)\n",
    "\n",
    "# SET UP CHANNEL PROFILER AND RUN \n",
    "profiler = ChannelProfiler(mg,number_of_watersheds=1,minimum_channel_threshold=0,main_channel_only=True)\n",
    "profiler.run_one_step()\n",
    "profiler.data_structure.keys() #is [101]\n",
    "profiler.data_structure[101].keys()\n",
    "profiler.data_structure[101][(101,9687)][\"ids\"] #produces array of id values for the channel\n"
   ]
  },
  {
   "cell_type": "markdown",
   "metadata": {},
   "source": []
  },
  {
   "cell_type": "code",
   "execution_count": null,
   "metadata": {},
   "outputs": [],
   "source": [
    "#ADDING REST OF THE FIELDS\n",
    "#Add field 'soil__depth' to the grid\n",
    "mg.add_zeros('node', 'soil__depth')\n",
    "mg.at_node['soil__depth'][:] = 2  #Set 2 m of initial soil depth at core nodes\n",
    "\n",
    "#Add field 'bedrock__elevation' to the grid\n",
    "mg.add_zeros('bedrock__elevation', at='node')\n",
    "mg.at_node[\"bedrock__elevation\"][:] = mg.at_node[\"topographic__elevation\"] - mg.at_node['soil__depth']\n",
    "#mg.at_node[\"bedrock__elevation\"][:] -= mg.at_node['soil__depth']\n",
    "\n",
    "mg.at_node['bedrock__elevation'][outlet_id] = 0\n",
    "mg.at_node['topographic__elevation'][outlet_id] = 0\n",
    "mg.at_node['soil__depth'][outlet_id] = 0\n",
    "#Add field 'bedrock__elevation' to the grid\n",
    "mg.add_zeros('surface_water__depth', at='node')\n",
    "print(outlet_id)\n"
   ]
  },
  {
   "attachments": {},
   "cell_type": "markdown",
   "metadata": {},
   "source": [
    "Setting Up Rain and Overland Flow Parameters"
   ]
  },
  {
   "cell_type": "code",
   "execution_count": null,
   "metadata": {},
   "outputs": [],
   "source": [
    "of = OverlandFlow(mg, steep_slopes=True)\n",
    "rain = SpatialPrecipitationDistribution(mg, number_of_years=1)\n",
    "#storm_t = 1.5 #durration of a storm in hr\n",
    "#interstorm_t = 8 #time between storms in hr\n",
    "rain.total_time = 1 #this is for the rain.yield_storms (hr)\n",
    "of_total_time = 3600 * 8#my own variable for how long overland flow runs in (s) -> 3600 s in 1 h\n",
    "\n"
   ]
  },
  {
   "attachments": {},
   "cell_type": "markdown",
   "metadata": {},
   "source": [
    "use precipitation component"
   ]
  },
  {
   "attachments": {},
   "cell_type": "markdown",
   "metadata": {},
   "source": [
    "the following code created a series of random storm events ( diff amt of storms each iteration )\n",
    "- each plot produced is one storms' rainfall"
   ]
  },
  {
   "cell_type": "code",
   "execution_count": null,
   "metadata": {},
   "outputs": [],
   "source": [
    "\n",
    "np.random.seed(randint(0, 100)) \n",
    "\n",
    "# get the storm simulator to provide a storm\n",
    "\n",
    "storm_time_data = []\n",
    "interstorm_time_data = []\n",
    "storm_amt_data = []\n",
    "x = 1 #to keep track of each iteration of loop\n",
    "\n",
    "\n",
    "#this is running for a year\n",
    "for (storm_t, interstorm_t) in rain.yield_storms(style=\"whole_year\"):  # storm lengths in hrs\n",
    "    \n",
    "    storm_time_data.append(storm_t)\n",
    "    interstorm_time_data.append(interstorm_t*.041)\n",
    "    storm_amt_data.append(x)\n",
    "    mg.at_node['rainfall__flux'] *= 0.001  # because the rainfall comes out in mm/h\n",
    "    mg.at_node['rainfall__flux'] *= 2.0  # to make the storm heavier\n",
    "    print(rain.median_total_rainfall_this_year)\n",
    "    print(rain.total_time)\n",
    "    plt.figure()# plot up this storm\n",
    "    imshow_grid(mg, 'rainfall__flux', cmap='gist_ncar', colorbar_label='Rainfall flux (mm/h)')\n",
    "    plt.show()\n",
    "    x+=1"
   ]
  },
  {
   "attachments": {},
   "cell_type": "markdown",
   "metadata": {},
   "source": [
    "PLOT OVERALL PRECIPITATION TIME VS. STORM LENGTH"
   ]
  },
  {
   "attachments": {},
   "cell_type": "markdown",
   "metadata": {},
   "source": [
    "each dot on the graph corresponds to a rainflux plot above"
   ]
  },
  {
   "cell_type": "code",
   "execution_count": null,
   "metadata": {},
   "outputs": [],
   "source": [
    "#show graphs of storm time and interstorm data\n",
    "#Instantiate figure as empty plot\n",
    "figelev = plt.figure()\n",
    "\n",
    "#Instantiate subplot as empty plot\n",
    "plot = plt.subplot()\n",
    "plot.plot(storm_amt_data, storm_time_data,linestyle='--', marker='o')\n",
    "plt.xlabel(\"Storm Event\")\n",
    "plt.ylabel(\"Duration of Storm (hr)\")\n",
    "plt.xticks(np.arange(1,x,1))\n",
    "print(storm_time_data)\n",
    "total_t_check = sum(storm_time_data)"
   ]
  },
  {
   "attachments": {},
   "cell_type": "markdown",
   "metadata": {},
   "source": [
    "PLOT OVERALL PRECIPITATION TIME VS. INTERSTORM TIME"
   ]
  },
  {
   "cell_type": "code",
   "execution_count": null,
   "metadata": {},
   "outputs": [],
   "source": [
    "#Instantiate figure as empty plot\n",
    "figelev = plt.figure()\n",
    "\n",
    "#Instantiate subplot as empty plot\n",
    "plot = plt.subplot()\n",
    "plot.plot(storm_amt_data, interstorm_time_data,linestyle='--', marker='o')\n",
    "plt.xlabel(\"Storm Event\")\n",
    "plt.ylabel(\"Interstorm Duration (hr)\")\n",
    "plt.xticks(np.arange(1,x,1))\n",
    "print(interstorm_time_data)\n",
    "total_t_check += sum(interstorm_time_data)\n",
    "print(total_t_check)"
   ]
  },
  {
   "cell_type": "code",
   "execution_count": null,
   "metadata": {},
   "outputs": [],
   "source": [
    "outlet_node_to_sample = 304\n",
    "outlet_link_to_sample = mg.links_at_node[outlet_node_to_sample][3]\n",
    "upstream_node_to_sample = 1954\n",
    "upstream_link_to_sample = mg.links_at_node[upstream_node_to_sample][3]\n",
    "midstream_node_to_sample = 6596\n",
    "midstream_link_to_sample = mg.links_at_node[midstream_node_to_sample][3]\n",
    "\n",
    "\n",
    "\n",
    "## Lists for saving data\n",
    "discharge_at_outlet = []\n",
    "discharge_upstream = []\n",
    "discharge_midstream = []\n",
    "hydrograph_time = []\n",
    "\n",
    "## Setting initial fields...\n",
    "mg[\"node\"][\"surface_water__discharge\"] = np.zeros(mg.number_of_nodes)"
   ]
  },
  {
   "cell_type": "code",
   "execution_count": null,
   "metadata": {},
   "outputs": [],
   "source": [
    "plt.figure(1)\n",
    "imshow_grid(mg, z)  # plot the DEM\n",
    "plt.plot(mg.node_x[outlet_node_to_sample], mg.node_y[outlet_node_to_sample], \"yo\")\n",
    "plt.plot(mg.node_x[upstream_node_to_sample], mg.node_y[upstream_node_to_sample], \"bo\")\n",
    "plt.plot(\n",
    "    mg.node_x[midstream_node_to_sample], mg.node_y[midstream_node_to_sample], \"go\"\n",
    ")"
   ]
  },
  {
   "cell_type": "code",
   "execution_count": null,
   "metadata": {},
   "outputs": [],
   "source": [
    "\n",
    "mg.at_node['surface_water__depth'].fill(1.e-12)  # a veneer of water stabilises the model\n",
    "mg.at_node['surface_water__depth'] += mg.at_node['rainfall__flux'] * storm_t\n",
    "    # storm_t here is the duration of the rainfall, from the rainfall component\n",
    "    # We're going to assume the rainfall arrives effectively instantaneously, but\n",
    "    # adding discharge during the run is completely viable\n",
    "\n",
    "node_of_max_q = outlet_id #this is discharge point \n",
    "outlet_depth = []\n",
    "outlet_times = []\n",
    "post_storm_elapsed_time = x #(s)\n",
    "last_storm_loop_tracker = 10\n",
    "\n",
    "i = 0\n",
    "while post_storm_elapsed_time < of_total_time:  #time in (s)\n",
    "    \n",
    "    dt = of.calc_time_step()\n",
    "    of.run_one_step(dt=dt)\n",
    "    post_storm_elapsed_time += dt\n",
    "    hydrograph_time.append(post_storm_elapsed_time)\n",
    "    print(post_storm_elapsed_time)\n",
    "    storm_loop_tracker = post_storm_elapsed_time % 3600.  # show every 3 min\n",
    "        # NB: Do NOT allow this plotting if there are multiple files in the folder\n",
    "    if storm_loop_tracker < of_total_time:#last_storm_loop_tracker:\n",
    "        #Instantiate figure as empty plot\n",
    "        figelev = plt.figure()\n",
    "\n",
    "        #Instantiate subplot as empty plot\n",
    "        plot = plt.subplot()\n",
    "        imshow_grid(mg,'surface_water__depth',var_name='Stage (m)')\n",
    "        plt.title('Stage at t=' + str(post_storm_elapsed_time//1) + 's')\n",
    "        plt.show()\n",
    "        last_storm_loop_tracker = storm_loop_tracker\n",
    "        outlet_depth.append(mg.at_node['surface_water__depth'][node_of_max_q])\n",
    "        outlet_times.append(post_storm_elapsed_time)\n",
    "        \n",
    "        ## Append time and discharge to their lists to save data and for plotting.\n",
    "        \n",
    "        q = mg.at_link[\"surface_water__discharge\"]\n",
    "        discharge_at_outlet.append(np.abs(q[outlet_link_to_sample]) * mg.dx)\n",
    "        discharge_upstream.append(np.abs(q[upstream_link_to_sample]) * mg.dx)\n",
    "        discharge_midstream.append(np.abs(q[midstream_link_to_sample]) * mg.dx)\n",
    "        print(post_storm_elapsed_time)\n"
   ]
  },
  {
   "cell_type": "code",
   "execution_count": null,
   "metadata": {},
   "outputs": [],
   "source": [
    "#Instantiate figure as empty plot\n",
    "figelev = plt.figure()\n",
    "\n",
    "#Instantiate subplot as empty plot\n",
    "plot = plt.subplot()\n",
    "imshow_grid(mg,'surface_water__depth',var_name='Stage (m)')\n",
    "plt.title('Stage at t=' + str(post_storm_elapsed_time//1) + 's')\n",
    "plt.show()"
   ]
  },
  {
   "cell_type": "code",
   "execution_count": null,
   "metadata": {},
   "outputs": [],
   "source": [
    "#Instantiate figure as empty plot\n",
    "figelev = plt.figure()\n",
    "\n",
    "#Instantiate subplot as empty plot\n",
    "plot = plt.subplot()\n",
    "\n",
    "#Create a topographic elevation plot that shows the elevation of the landscape in diff colors - using landlab utility imshow_grid\n",
    "imshow_grid(mg, 'topographic__elevation', plot_name='Topographic Elevation', var_name = 'Elevation', var_units=r'm', grid_units=('m', 'm'), cmap='terrain',color_for_background=None)"
   ]
  },
  {
   "cell_type": "code",
   "execution_count": null,
   "metadata": {},
   "outputs": [],
   "source": [
    "## Code Block 7\n",
    "\n",
    "## Calculate equilibrium discharge at each point for reference\n",
    "outlet_eq_q = mg.at_node[\"drainage_area\"][outlet_node_to_sample]\n",
    "midstream_eq_q = (\n",
    "    mg.at_node[\"drainage_area\"][midstream_node_to_sample]\n",
    ")\n",
    "upstream_eq_q = (\n",
    "    mg.at_node[\"drainage_area\"][upstream_node_to_sample]\n",
    ")\n",
    "\n",
    "\n",
    "## Plotting hydrographs and equilibrium discharge\n",
    "plt.figure(2)\n",
    "plt.plot(hydrograph_time, discharge_at_outlet, \"y-\", label=\"outlet\")\n",
    "plt.plot(\n",
    "    [np.min(hydrograph_time), np.max(hydrograph_time)],\n",
    "    [outlet_eq_q, outlet_eq_q],\n",
    "    \"y--\",\n",
    "    label=\"outlet eq Q\",\n",
    ")\n",
    "plt.plot(hydrograph_time, discharge_midstream, \"g-\", label=\"midstream\")\n",
    "plt.plot(\n",
    "    [np.min(hydrograph_time), np.max(hydrograph_time)],\n",
    "    [midstream_eq_q, midstream_eq_q],\n",
    "    \"g--\",\n",
    "    label=\"midstream eq Q\",\n",
    ")\n",
    "plt.plot(hydrograph_time, discharge_upstream, \"b-\", label=\"upstream\")\n",
    "plt.plot([np.min(hydrograph_time), np.max(hydrograph_time)],\n",
    "    [upstream_eq_q, upstream_eq_q],\n",
    "    \"b--\",\n",
    "    label=\"upstream eq Q\",\n",
    ")\n",
    "\n",
    "## Plot storm end and center of storm for reference\n",
    "plt.plot(\n",
    "    [of_total_time, of_total_time], [0, 100], \"k-\", linewidth=2, label=\"storm end\"\n",
    ")\n",
    "plt.plot(\n",
    "    [of_total_time / 2, of_total_time / 2], [0, 100], \"k:\", label=\"storm mid point\"\n",
    ")\n",
    "\n",
    "plt.ylabel(\"Discharge (cms)\")\n",
    "plt.xlabel(\"Time (seconds)\")\n",
    "plt.legend(loc=\"upper right\")\n",
    "title_text = \"Hydrographs, Storm is \" + \", Watershed is \" \n",
    "plt.title(title_text)\n",
    "plt.axis([0, np.max(hydrograph_time), 0, 100])"
   ]
  },
  {
   "cell_type": "code",
   "execution_count": null,
   "metadata": {},
   "outputs": [],
   "source": []
  }
 ],
 "metadata": {
  "kernelspec": {
   "display_name": "landlab_dev",
   "language": "python",
   "name": "python3"
  },
  "language_info": {
   "codemirror_mode": {
    "name": "ipython",
    "version": 3
   },
   "file_extension": ".py",
   "mimetype": "text/x-python",
   "name": "python",
   "nbconvert_exporter": "python",
   "pygments_lexer": "ipython3",
   "version": "3.10.8 | packaged by conda-forge | (main, Nov 22 2022, 08:26:04) [GCC 10.4.0]"
  },
  "orig_nbformat": 4,
  "vscode": {
   "interpreter": {
    "hash": "a70ac97c7442ac6328dc1488f55c7c72cd71eb5636777258989ac68eeb1b5f04"
   }
  }
 },
 "nbformat": 4,
 "nbformat_minor": 2
}
