{
 "cells": [
  {
   "cell_type": "markdown",
   "metadata": {},
   "source": [
    "All of the necessary imports"
   ]
  },
  {
   "cell_type": "code",
   "execution_count": 1,
   "metadata": {},
   "outputs": [
    {
     "ename": "ModuleNotFoundError",
     "evalue": "No module named 'landlab'",
     "output_type": "error",
     "traceback": [
      "\u001b[1;31m---------------------------------------------------------------------------\u001b[0m",
      "\u001b[1;31mModuleNotFoundError\u001b[0m                       Traceback (most recent call last)",
      "Input \u001b[1;32mIn [1]\u001b[0m, in \u001b[0;36m<cell line: 6>\u001b[1;34m()\u001b[0m\n\u001b[0;32m      3\u001b[0m \u001b[38;5;28;01mfrom\u001b[39;00m \u001b[38;5;21;01mmatplotlib\u001b[39;00m\u001b[38;5;21;01m.\u001b[39;00m\u001b[38;5;21;01mpyplot\u001b[39;00m \u001b[38;5;28;01mimport\u001b[39;00m figure, legend, plot, show, title, xlabel, ylabel, ylim\n\u001b[0;32m      5\u001b[0m \u001b[38;5;66;03m## Import Landlab components\u001b[39;00m\n\u001b[1;32m----> 6\u001b[0m \u001b[38;5;28;01mfrom\u001b[39;00m \u001b[38;5;21;01mlandlab\u001b[39;00m\u001b[38;5;21;01m.\u001b[39;00m\u001b[38;5;21;01mcomponents\u001b[39;00m \u001b[38;5;28;01mimport\u001b[39;00m DepressionFinderAndRouter \u001b[38;5;66;03m#Pit filling\u001b[39;00m\n\u001b[0;32m      7\u001b[0m \u001b[38;5;28;01mfrom\u001b[39;00m \u001b[38;5;21;01mlandlab\u001b[39;00m\u001b[38;5;21;01m.\u001b[39;00m\u001b[38;5;21;01mcomponents\u001b[39;00m \u001b[38;5;28;01mimport\u001b[39;00m PriorityFloodFlowRouter \u001b[38;5;66;03m#Flow routing\u001b[39;00m\n\u001b[0;32m      8\u001b[0m \u001b[38;5;28;01mfrom\u001b[39;00m \u001b[38;5;21;01mlandlab\u001b[39;00m\u001b[38;5;21;01m.\u001b[39;00m\u001b[38;5;21;01mcomponents\u001b[39;00m \u001b[38;5;28;01mimport\u001b[39;00m FlowAccumulator \u001b[38;5;66;03m#FlowAccumulator \u001b[39;00m\n",
      "\u001b[1;31mModuleNotFoundError\u001b[0m: No module named 'landlab'"
     ]
    }
   ],
   "source": [
    "import numpy as np #basic python library\n",
    "import matplotlib.pyplot as plt #For plotting results\n",
    "from matplotlib.pyplot import figure, legend, plot, show, title, xlabel, ylabel, ylim\n",
    "\n",
    "## Import Landlab components\n",
    "from landlab.components import DepressionFinderAndRouter #Pit filling\n",
    "from landlab.components import PriorityFloodFlowRouter #Flow routing\n",
    "from landlab.components import FlowAccumulator #FlowAccumulator \n",
    "from landlab.components import ChannelProfiler \n",
    "from landlab.components import SteepnessFinder\n",
    "from landlab.components import ChiFinder\n",
    "\n",
    "#SPACE model\n",
    "from landlab.components import Space #SPACE model\n",
    "from landlab.components import FastscapeEroder #calculates the amount of erosion at each node\n",
    "from landlab.components import SinkFillerBarnes #replaces pits with shallow gradients for draining\n",
    "\n",
    "## Import Landlab utilities\n",
    "from landlab import RasterModelGrid #Grid utility\n",
    "from landlab import imshow_grid #For plotting results\n",
    "from landlab.io import read_esri_ascii #to read in an ascii file\n",
    "from landlab.io import read_asc_header #to read in the header of the ascii file\n",
    "\n",
    "%matplotlib inline"
   ]
  },
  {
   "cell_type": "markdown",
   "metadata": {},
   "source": [
    "Retrieving the DEM files and importing into progam as a rasterModelGrid"
   ]
  },
  {
   "cell_type": "markdown",
   "metadata": {},
   "source": [
    "#Set directory paths to retrieve the asc file\n",
    "path_project = r\"C:/Users/gsbir/Documents/EES_393/\" # add the path to the asc file    #this should access my H drive\n",
    "filename_dem = \"saucon_30m.txt\" #the name of the ascii file\n",
    "path_dem = path_project + filename_dem #gets the entire path to the ascii file\n",
    "\n",
    "#now read the header of the asc file (where there is ncols nrows cell size and nodata value) into the string variable dem_header\n",
    "dem_header = read_asc_header(open(path_dem, 'r'))\n",
    "#use the above to see your grid dimensions, what the no data value is etc...\n",
    "\n",
    "#generate new grid and add DEM values into 'topographic__elevation'\n",
    "(mg, z) = read_esri_ascii(path_dem, name= 'topographic__elevation', halo = 1)\n",
    "\n",
    "#set the watershed boundary condition and the function returns a integer which is the outlet_id so this is set equal to a variable so we can view this\n",
    "outlet_id = mg.set_watershed_boundary_condition(z, nodata_value = -9999, return_outlet_id=True)\n",
    "#This should find your outlet node automatically and outlet_id will be empty if a single outlet was not found\n",
    "\n",
    "print(outlet_id) #prints out the outlet_id\n",
    "\n",
    "#print(mg.at_node.keys()) #Shows the node attributes\n",
    "\n",
    "# %% Hydrologically condition DEM (fill sinks)\n",
    "sfb = SinkFillerBarnes(mg, surface=z, method='D8', fill_flat=False) #creating an instance of sinkfillerbarnes \n",
    "sfb.run_one_step() #This is important to ensure that your future flow routing will work properly. - run the sinkfiller barnes once\n",
    "\n",
    "imshow_grid(mg, mg.status_at_node, color_for_closed = 'blue') #creates a graph showing the red and the closed boundaries are set to blue, black is the landscape and white is the outlet ID (cannot see it at this level)"
   ]
  },
  {
   "cell_type": "markdown",
   "metadata": {},
   "source": [
    "Adding new nodes to the rasterModelGrid: soil__depth, bedrock__elevation "
   ]
  },
  {
   "cell_type": "markdown",
   "metadata": {},
   "source": [
    "#Set grid parameters \n",
    "#these numbers are taken from the ascii header file\n",
    "num_columns = 647\n",
    "num_rows = 537\n",
    "node_next_to_outlet = num_columns + 1\n",
    "node_spacing = 30\n",
    "\n",
    "#Set model timestep\n",
    "timestep = 1 #years\n",
    "\n",
    "#Set model run time\n",
    "run_time = 2 #years\n",
    "uplift_rate = .001 # m/year\n",
    "uplift_per_timestep = uplift_rate * timestep\n",
    "\n",
    "\n",
    "#Add field 'soil__depth' to the grid with 0s for now\n",
    "mg.add_zeros('node', 'soil__depth')\n",
    "\n",
    "#Set 2 m of initial soil depth at core nodes\n",
    "mg.at_node['soil__depth'][mg.core_nodes] = 2.0 #meters \n",
    "\n",
    "#Add field 'bedrock__elevation' to the grid with 0s for now\n",
    "mg.add_zeros('bedrock__elevation', at='node')\n",
    "\n",
    "#Subtract 'soil__depth' and 'bedrock__elevation' to yield 'topographic elevation'\n",
    "mg.at_node['bedrock__elevation'][:] = mg.at_node['topographic__elevation'] - mg.at_node['soil__depth']\n",
    "\n"
   ]
  },
  {
   "cell_type": "markdown",
   "metadata": {},
   "source": [
    "Setting Boundary Conditions of the Grid"
   ]
  },
  {
   "cell_type": "code",
   "execution_count": null,
   "metadata": {},
   "outputs": [],
   "source": [
    "#Set grid parameters\n",
    "num_rows = 20\n",
    "num_columns = 20\n",
    "node_next_to_outlet = num_columns + 1\n",
    "node_spacing = 100.0\n",
    "\n",
    "#Set model timestep\n",
    "timestep = 1.0 #years\n",
    "\n",
    "#Set model run time\n",
    "run_time = 100 #years\n",
    "uplift_rate = .001 # m/year\n",
    "uplift_per_timestep = uplift_rate * timestep\n",
    "\n",
    "#Instantiate model grid\n",
    "mg = RasterModelGrid((num_rows, num_columns), node_spacing)\n",
    "\n",
    "#Add field ’topographic elevation’ to the grid\n",
    "mg.add_zeros('node', 'topographic__elevation')\n",
    "\n",
    "#Set constant random seed for consistent topographic roughness\n",
    "np.random.seed(seed = 5000)\n",
    "\n",
    "## Create initial model topography\n",
    "#plane tilted towards the lower−left corner\n",
    "topo = mg.node_y/100000 + mg.node_x/100000\n",
    "\n",
    "#topographic roughness\n",
    "random_noise = np.random.rand(len(mg.node_y)) /1000 #impose topography values on model grid\n",
    "mg['node']['topographic__elevation'] += (topo + random_noise) \n",
    "\n",
    "#Add field 'soil__depth' to the grid\n",
    "mg.add_zeros('node', 'soil__depth')\n",
    "\n",
    "#Set 2 m of initial soil depth at core nodes\n",
    "mg.at_node['soil__depth'][mg.core_nodes] = 2.0 #meters \n",
    "\n",
    "#Add field 'bedrock__elevation' to the grid\n",
    "mg.add_zeros('bedrock__elevation', at='node')\n",
    "\n",
    "#Sum 'soil__depth' and 'bedrock__elevation'\n",
    "#to yield 'topographic elevation'\n",
    "mg.at_node['bedrock__elevation'][:] = mg.at_node['topographic__elevation'] \n",
    "mg.at_node['topographic__elevation'][:] += mg.at_node['soil__depth']\n"
   ]
  },
  {
   "cell_type": "code",
   "execution_count": null,
   "metadata": {},
   "outputs": [],
   "source": [
    "#Close all model boundary edges\n",
    "mg.set_closed_boundaries_at_grid_edges(bottom_is_closed=True,left_is_closed=True,right_is_closed=True,top_is_closed=True)\n",
    "mg.set_watershed_boundary_condition_outlet_id(0,mg['node']['topographic__elevation'], -9999.)"
   ]
  },
  {
   "cell_type": "markdown",
   "metadata": {},
   "source": [
    "Instantiating all of the components"
   ]
  },
  {
   "cell_type": "code",
   "execution_count": null,
   "metadata": {},
   "outputs": [],
   "source": [
    "#Instantiate flow Router as fr\n",
    "#fr = PriorityFloodFlowRouter(mg,surface='topographic__elevation', flow_metric='D8', runoff_rate=None, update_flow_depressions=True, depression_handler='fill', exponent=1, epsilon=False, accumulate_flow=True, accumulate_flow_hill=False, separate_hill_flow=False, update_hill_depressions=False, update_hill_flow_instantaneous=False, hill_flow_metric='D8', hill_exponent=1, suppress_out=False)\n",
    "#fr.run_one_step() #run the flow router once \n",
    "\n",
    "K_sp = 1.0e-5  # units vary depending on m_sp and n_sp\n",
    "m_sp = 0.5  # exponent on drainage area in stream power equation\n",
    "n_sp = 1.0  # exponent on slope in stream power equation\n",
    "\n",
    "#Instantiate the Flow accumulator\n",
    "fa = FlowAccumulator(mg, flow_director='D8')  \n",
    "fa.run_one_step() #run one step of flow doesnt get stuck in pits\n",
    "\n",
    "#Instantiate the depressionfinder and router as df\n",
    "df = DepressionFinderAndRouter(mg,pits = 'flow__sink_flag', reroute_flow = True) \n",
    "\n",
    "#instantiate the fascape eroder as fsc \n",
    "#fsc = FastscapeEroder(mg, K_sp=.001,m_sp=.5, n_sp=1)  \n",
    "#fsc.run_one_step(1)\n",
    "\n",
    "#Instantiate SPACE model with chosen parameters as sp\n",
    "sp = Space(mg, K_sed=0.01, K_br=0.001, F_f=0., phi=0., H_star=1., v_s=5.0, m_sp=0.5, n_sp=1.0, sp_crit_sed=0, sp_crit_br=0)\n",
    "\n",
    "theta = m_sp / n_sp\n",
    "sf = SteepnessFinder(mg, reference_concavity = theta, min_drainage_area = 1000000.0)\n",
    "\n",
    "cf = ChiFinder(mg,min_drainage_area=1000000.0,reference_concavity=theta, use_true_dx=True)"
   ]
  },
  {
   "cell_type": "code",
   "execution_count": null,
   "metadata": {},
   "outputs": [
    {
     "name": "stdout",
     "output_type": "stream",
     "text": [
      "['topographic__elevation', 'soil__depth', 'bedrock__elevation', 'water__unit_flux_in', 'drainage_area', 'flow__data_structure_delta', 'flow__upstream_node_order', 'surface_water__discharge', 'flow__sink_flag', 'flow__link_to_receiver_node', 'flow__receiver_node', 'topographic__steepest_slope', 'depression__depth', 'depression__outlet_node', 'is_pit', 'flood_status_code', 'sediment__flux', 'channel__steepness_index', 'channel__chi_index']\n",
      "3240000.0\n",
      "[  0   1   2   3   4   5   6   7   8   9  10  11  12  13  14  15  16  17\n",
      "  18  19  20  21  22  23  24  25  26  27  28  29  30  31  32  33  34  35\n",
      "  36  37  38  39  40  41  42  43  44  45  46  47  48  49  50  51  52  53\n",
      "  54  55  56  57  58  59  60  61  62  63  64  65  66  67  68  69  70  71\n",
      "  72  73  74  75  76  77  78  79  80  81  82  83  84  85  86  87  88  89\n",
      "  90  91  92  93  94  95  96  97  98  99 100 101 102 103 104 105 106 107\n",
      " 108 109 110 111 112 113 114 115 116 117 118 119 120 121 122 123 124 125\n",
      " 126 127 128 129 130 131 132 133 134 135 136 137 138 139 140 141 142 143\n",
      " 144 145 146 147 148 149 150 151 152 153 154 155 156 157 158 159 160 161\n",
      " 162 163 164 165 166 167 168 169 170 171 172 173 174 175 176 177 178 179\n",
      " 180 181 182 183 184 185 186 187 188 189 190 191 192 193 194 195 196 197\n",
      " 198 199 200 201 202 203 204 205 206 207 208 209 210 211 212 213 214 215\n",
      " 216 217 218 219 220 221 222 223 224 225 226 227 228 229 230 231 232 233\n",
      " 234 235 236 237 238 239 240 241 242 243 244 245 246 247 248 249 250 251\n",
      " 252 253 254 255 256 257 258 259 260 261 262 263 264 265 266 267 268 269\n",
      " 270 271 272 273 274 275 276 277 278 279 280 281 282 283 284 285 286 287\n",
      " 288 289 290 291 292 293 294 295 296 297 298 299 300 301 302 303 304 305\n",
      " 306 307 308 309 310 311 312 313 314 315 316 317 318 319 320 321 322 323\n",
      " 324 325 326 327 328 329 330 331 332 333 334 335 336 337 338 339 340 341\n",
      " 342 343 344 345 346 347 348 349 350 351 352 353 354 355 356 357 358 359\n",
      " 360 361 362 363 364 365 366 367 368 369 370 371 372 373 374 375 376 377\n",
      " 378 379 380 381 382 383 384 385 386 387 388 389 390 391 392 393 394 395\n",
      " 396 397 398 399]\n"
     ]
    },
    {
     "data": {
      "image/png": "[encoded data removed]",
      "text/plain": [
       "<Figure size 432x288 with 2 Axes>"
      ]
     },
     "metadata": {
      "needs_background": "light"
     },
     "output_type": "display_data"
    }
   ],
   "source": [
    "print(mg.at_node.keys()) #prints out all of the information that the nodes contain\n",
    "imshow_grid(mg, 'drainage_area') #makes a graph of the node information 'drainage_area\n",
    "print(np.max(mg.at_node['drainage_area']))\n",
    "\n",
    "x = mg.node_x[mg.at_node['sediment__flux'] == np.max(mg.at_node['sediment__flux'])]\n",
    "y =mg.node_y[mg.at_node['sediment__flux'] == np.max(mg.at_node['sediment__flux'])]\n",
    "print(mg.find_nearest_node([x,y]))"
   ]
  },
  {
   "cell_type": "markdown",
   "metadata": {},
   "source": [
    "Run the Model "
   ]
  },
  {
   "cell_type": "code",
   "execution_count": null,
   "metadata": {},
   "outputs": [
    {
     "name": "stdout",
     "output_type": "stream",
     "text": [
      "0\n",
      "1\n",
      "2\n",
      "3\n",
      "4\n",
      "5\n",
      "6\n",
      "7\n",
      "8\n",
      "9\n",
      "10\n",
      "11\n",
      "12\n",
      "13\n",
      "14\n",
      "15\n",
      "16\n",
      "17\n",
      "18\n",
      "19\n",
      "20\n",
      "21\n",
      "22\n",
      "23\n",
      "24\n",
      "25\n",
      "26\n",
      "27\n",
      "28\n",
      "29\n",
      "30\n",
      "31\n",
      "32\n",
      "33\n",
      "34\n",
      "35\n",
      "36\n",
      "37\n",
      "38\n",
      "39\n",
      "40\n",
      "41\n",
      "42\n",
      "43\n",
      "44\n",
      "45\n",
      "46\n",
      "47\n",
      "48\n",
      "49\n",
      "50\n",
      "51\n",
      "52\n",
      "53\n",
      "54\n",
      "55\n",
      "56\n",
      "57\n",
      "58\n",
      "59\n",
      "60\n",
      "61\n",
      "62\n",
      "63\n",
      "64\n",
      "65\n",
      "66\n",
      "67\n",
      "68\n",
      "69\n",
      "70\n",
      "71\n",
      "72\n",
      "73\n",
      "74\n",
      "75\n",
      "76\n",
      "77\n",
      "78\n",
      "79\n",
      "80\n",
      "81\n",
      "82\n",
      "83\n",
      "84\n",
      "85\n",
      "86\n",
      "87\n",
      "88\n",
      "89\n",
      "90\n",
      "91\n",
      "92\n",
      "93\n",
      "94\n",
      "95\n",
      "96\n",
      "97\n",
      "98\n",
      "99\n"
     ]
    }
   ],
   "source": [
    "#Set elapsed time to zero\n",
    "elapsed_time = 0\n",
    "\n",
    "#Set timestep count to zero\n",
    "count = 0\n",
    "\n",
    "#Array to save sediment flux values and is currently filled with 0s\n",
    "sed_flux = [0] * (run_time)                                \n",
    "\n",
    "#This will iterate through all of the years needed and will essentially run the model\n",
    "while elapsed_time < run_time: #time units of years\n",
    "    mg.at_node['bedrock__elevation'] += uplift_per_timestep  #adding uplift to the bedrock\n",
    "    mg.at_node['topographic__elevation'] = mg.at_node['bedrock__elevation'] + mg.at_node['soil__depth'] #changing the elevation to account for the uplift\n",
    "    \n",
    "    #Run the flow router for one step (one step for each year)\n",
    "    #for x in range(timestep): #loops through each year (how large the timestep is) and run the flow router\n",
    "    fa.run_one_step()\n",
    "\n",
    "    \n",
    "    df.map_depressions()\n",
    "    #Get list of nodes in depressions; only used if using DepressionFinderAndRouter\n",
    "    #flooded = np.where(df.flood_status==3)[0] #flooded is a list of nodes of the depressions in the landscape -- orig status number was 3\n",
    "    \n",
    "    sp.run_one_step(dt = timestep) #runs the space model (sp) for one timestep - it iterates itself to run for each year in the timestep\n",
    "    \n",
    "    #Save sediment flux value to array\n",
    "    sed_flux[count] = mg.at_node['sediment__flux'][21] ##creates the array sed_flux  and adds the sediment_flux value from the node into it\n",
    "    \n",
    "    elapsed_time += timestep #Add timestep value to elapsed time\n",
    "    \n",
    "    print(count) #prints out a number that is increaseing for each year - this is to keep track of the model as it is running for a large amount of time\n",
    "    count += 1 #Increase timestep count\n",
    "\n",
    "\n",
    "    "
   ]
  },
  {
   "cell_type": "code",
   "execution_count": null,
   "metadata": {},
   "outputs": [
    {
     "name": "stdout",
     "output_type": "stream",
     "text": [
      "3545.3680479\n"
     ]
    }
   ],
   "source": [
    "print(np.max(sed_flux))\n",
    "\n",
    "\n",
    "\n",
    "prf = ChannelProfiler(mg,\n",
    "                      number_of_watersheds=1,\n",
    "                      main_channel_only=True,\n",
    "                      minimum_channel_threshold=node_spacing**2)\n",
    "\n",
    "prf.run_one_step()"
   ]
  },
  {
   "cell_type": "code",
   "execution_count": null,
   "metadata": {},
   "outputs": [
    {
     "data": {
      "image/png": "[encoded data removed]",
      "text/plain": [
       "<Figure size 432x288 with 1 Axes>"
      ]
     },
     "metadata": {
      "needs_background": "light"
     },
     "output_type": "display_data"
    }
   ],
   "source": [
    "plt.figure(1)\n",
    "title_text = f\"$K_{{sp}}$={.001}; $time$={elapsed_time} yr; $dx$={timestep} m\"\n",
    "prf.plot_profiles(xlabel='distance upstream (m)',\n",
    "                  ylabel='elevation (m)',\n",
    "                  title=title_text)"
   ]
  },
  {
   "cell_type": "code",
   "execution_count": null,
   "metadata": {},
   "outputs": [
    {
     "data": {
      "text/plain": [
       "Text(0.5, 1.0, '$K_{sp}$=1e-05; $time$=100.0 yr; $dx$=100.0 m')"
      ]
     },
     "execution_count": 9,
     "metadata": {},
     "output_type": "execute_result"
    },
    {
     "data": {
      "image/png": "[encoded data removed]",
      "text/plain": [
       "<Figure size 432x288 with 1 Axes>"
      ]
     },
     "metadata": {
      "needs_background": "light"
     },
     "output_type": "display_data"
    }
   ],
   "source": [
    "#binning the drainage area and averaging out the slopes for that bin\n",
    "\n",
    "\n",
    "K_sp = 1.0e-5\n",
    "\n",
    "for i, outlet_id in enumerate(prf.data_structure):\n",
    "    for j, segment_id in enumerate(prf.data_structure[outlet_id]):\n",
    "        if j == 0:\n",
    "            label = \"channel {i}\".format(i=i + 1)\n",
    "        else:\n",
    "            label = '_nolegend_'\n",
    "        segment = prf.data_structure[outlet_id][segment_id]\n",
    "        profile_ids = segment[\"ids\"]\n",
    "        color = segment[\"color\"]\n",
    "        plt.loglog(\n",
    "            mg.at_node[\"drainage_area\"][profile_ids],\n",
    "            mg.at_node[\"topographic__steepest_slope\"][profile_ids],\n",
    "            '.',\n",
    "            color=color,\n",
    "            label=label,\n",
    "        )\n",
    "\n",
    "plt.legend(loc=\"lower left\")\n",
    "plt.xlabel(\"drainage area (m^2)\")\n",
    "plt.ylabel(\"channel slope [m/m]\")\n",
    "title_text = f\"$K_{{sp}}$={K_sp}; $time$={elapsed_time} yr; $dx$={node_spacing} m\"\n",
    "plt.title(title_text)"
   ]
  },
  {
   "cell_type": "code",
   "execution_count": null,
   "metadata": {},
   "outputs": [
    {
     "data": {
      "text/plain": [
       "Text(0.5, 1.0, '$K_{sp}$=1e-05; $time$=100.0 yr; $dx$=1.0 m; concavity=0.5')"
      ]
     },
     "execution_count": 10,
     "metadata": {},
     "output_type": "execute_result"
    },
    {
     "data": {
      "image/png": "[encoded data removed]",
      "text/plain": [
       "<Figure size 432x288 with 1 Axes>"
      ]
     },
     "metadata": {
      "needs_background": "light"
     },
     "output_type": "display_data"
    },
    {
     "data": {
      "image/png": "[encoded data removed]",
      "text/plain": [
       "<Figure size 432x288 with 2 Axes>"
      ]
     },
     "metadata": {
      "needs_background": "light"
     },
     "output_type": "display_data"
    }
   ],
   "source": [
    "# Code Block 12\n",
    "\n",
    "# calculate channel steepness\n",
    "sf.calculate_steepnesses()\n",
    "\n",
    "# plots of steepnes vs. distance upstream in the profiled channels\n",
    "plt.figure(6)\n",
    "\n",
    "for i, outlet_id in enumerate(prf.data_structure):\n",
    "    for j, segment_id in enumerate(prf.data_structure[outlet_id]):\n",
    "        if j == 0:\n",
    "            label = \"channel {i}\".format(i=i + 1)\n",
    "        else:\n",
    "            label = '_nolegend_'\n",
    "        segment = prf.data_structure[outlet_id][segment_id]\n",
    "        profile_ids = segment[\"ids\"]\n",
    "        distance_upstream = segment[\"distances\"]\n",
    "        color = segment[\"color\"]\n",
    "        plt.plot(\n",
    "            distance_upstream,\n",
    "            mg.at_node[\"channel__steepness_index\"][profile_ids],\n",
    "            'x',\n",
    "            color=color,\n",
    "            label=label,\n",
    "        )\n",
    "\n",
    "plt.xlabel(\"distance upstream (m)\")\n",
    "plt.ylabel(\"steepness index\")\n",
    "plt.legend(loc=\"upper left\")\n",
    "plt.title(\n",
    "    f\"$K_{{sp}}$={K_sp}; $time$={elapsed_time} yr; $dx$={timestep} m; concavity={theta}\"\n",
    ")\n",
    "\n",
    "# channel steepness map\n",
    "plt.figure(7)\n",
    "imshow_grid(\n",
    "    mg,\n",
    "    \"channel__steepness_index\",\n",
    "    grid_units=(\"m\", \"m\"),\n",
    "    var_name=\"Steepness index \",\n",
    "    cmap=\"jet\", limits =(0,500)\n",
    ")\n",
    "title_text = (\"$K_{sp}$=\" + str(K_sp) + \"; $time$=\" + str(elapsed_time) +\n",
    "              \"yr; $dx$=\" + str(timestep) + \"m\" + \"; concavity=\" + str(theta))\n",
    "plt.title(\n",
    "    f\"$K_{{sp}}$={K_sp}; $time$={elapsed_time} yr; $dx$={timestep} m; concavity={theta}\"\n",
    ")"
   ]
  },
  {
   "cell_type": "code",
   "execution_count": null,
   "metadata": {},
   "outputs": [
    {
     "data": {
      "text/plain": [
       "Text(0.5, 1.0, '$K_{sp}$=1e-05; $time$=100.0 yr; $dx$=1.0 m; concavity=0.5')"
      ]
     },
     "execution_count": 11,
     "metadata": {},
     "output_type": "execute_result"
    },
    {
     "data": {
      "image/png": "[encoded data removed]",
      "text/plain": [
       "<Figure size 432x288 with 1 Axes>"
      ]
     },
     "metadata": {
      "needs_background": "light"
     },
     "output_type": "display_data"
    },
    {
     "data": {
      "image/png": "[encoded data removed]",
      "text/plain": [
       "<Figure size 432x288 with 2 Axes>"
      ]
     },
     "metadata": {
      "needs_background": "light"
     },
     "output_type": "display_data"
    }
   ],
   "source": [
    "# Code Block 11\n",
    "\n",
    "# calculate the chi index\n",
    "cf.calculate_chi()\n",
    "\n",
    "# chi-elevation plots in the profiled channels\n",
    "plt.figure(4)\n",
    "plt.ylim(0,175)\n",
    "for i, outlet_id in enumerate(prf.data_structure):\n",
    "    for j, segment_id in enumerate(prf.data_structure[outlet_id]):\n",
    "        if j == 0:\n",
    "            label = \"channel {i}\".format(i=i + 1)\n",
    "        else:\n",
    "            label = '_nolegend_'\n",
    "        segment = prf.data_structure[outlet_id][segment_id]\n",
    "        profile_ids = segment[\"ids\"]\n",
    "        color = segment[\"color\"]\n",
    "        plt.plot(\n",
    "            mg.at_node[\"channel__chi_index\"][profile_ids],\n",
    "            mg.at_node[\"topographic__elevation\"][profile_ids],\n",
    "            color=color,\n",
    "            label=label,\n",
    "        )\n",
    "\n",
    "plt.xlabel(\"chi index (m)\")\n",
    "plt.ylabel(\"elevation (m)\")\n",
    "plt.legend(loc=\"lower right\")\n",
    "title_text = f\"$K_{{sp}}$={K_sp}; $time$={elapsed_time} yr; $dx$={timestep} m; concavity={theta}\"\n",
    "plt.title(title_text)\n",
    "\n",
    "# chi map\n",
    "plt.figure(5)\n",
    "imshow_grid(\n",
    "    mg,\n",
    "    \"channel__chi_index\",\n",
    "    grid_units=(\"m\", \"m\"),\n",
    "    var_name=\"Chi index (m)\",\n",
    "    cmap=\"jet\",\n",
    ")\n",
    "title_text = f\"$K_{{sp}}$={K_sp}; $time$={elapsed_time} yr; $dx$={timestep} m; concavity={theta}\"\n",
    "plt.title(title_text)"
   ]
  },
  {
   "cell_type": "code",
   "execution_count": null,
   "metadata": {},
   "outputs": [
    {
     "name": "stdout",
     "output_type": "stream",
     "text": [
      "0.0\n",
      "0.0\n",
      "0.0\n",
      "0.0\n",
      "0.0\n",
      "0.0\n",
      "0.0\n",
      "0.0\n",
      "0.0\n",
      "0.0\n",
      "0.0\n",
      "0.0\n",
      "0.0\n",
      "0.0\n",
      "0.0\n",
      "0.0\n",
      "0.0\n",
      "0.0\n",
      "0.0\n",
      "0.0\n",
      "0.0\n",
      "3202.3848422\n",
      "1187.87597675\n",
      "1174.60854609\n",
      "1129.17615258\n",
      "1075.0707457\n",
      "1001.1759147\n",
      "455.271814807\n",
      "358.22568569\n",
      "249.669133005\n",
      "155.652348631\n",
      "87.1201437898\n",
      "34.5568750113\n",
      "11.2026049421\n",
      "3.8218594345\n",
      "0.903851230191\n",
      "0.227717665961\n",
      "0.0899707637117\n",
      "0.0211348169658\n",
      "0.0\n",
      "0.0\n",
      "1424.20427859\n",
      "585.338732869\n",
      "20.7373052172\n",
      "14.6494921688\n",
      "17.1779442221\n",
      "15.0457087835\n",
      "455.70882096\n",
      "10.8528376951\n",
      "5.56093413119\n",
      "3.42089200906\n",
      "1.88186416079\n",
      "11.2486932447\n",
      "3.44724424635\n",
      "0.137461748187\n",
      "0.683554760236\n",
      "0.191165574811\n",
      "0.0297967421522\n",
      "0.024560127765\n",
      "0.0\n",
      "0.0\n",
      "1412.11801763\n",
      "21.1190960405\n",
      "549.415477204\n",
      "16.2088293906\n",
      "7.79140523084\n",
      "7.78151357108\n",
      "10.8665252892\n",
      "327.229078457\n",
      "6.78637697528\n",
      "6.35981352006\n",
      "0.219907945173\n",
      "0.245647609342\n",
      "1.91560086267\n",
      "0.600858516351\n",
      "0.0333258892099\n",
      "0.303271946932\n",
      "0.0945389260282\n",
      "0.0211210015593\n",
      "0.0\n",
      "0.0\n",
      "1368.792168\n",
      "19.693489974\n",
      "16.209097524\n",
      "447.968566096\n",
      "326.787819462\n",
      "8.33520499091\n",
      "4.92518597304\n",
      "6.89751227713\n",
      "208.476481286\n",
      "3.80297418265\n",
      "1.25429878106\n",
      "0.597022127963\n",
      "0.0507907103428\n",
      "0.450050676527\n",
      "0.248950686545\n",
      "0.0269247263236\n",
      "0.159827129187\n",
      "0.0260288856979\n",
      "0.0\n",
      "0.0\n",
      "607.692810722\n",
      "706.272923353\n",
      "16.637441142\n",
      "11.6527843966\n",
      "8.38567707278\n",
      "217.560472192\n",
      "4.71013200436\n",
      "2.69048514981\n",
      "3.80067344297\n",
      "111.742881359\n",
      "55.6537534119\n",
      "0.860866300927\n",
      "0.497975707361\n",
      "0.0348047353339\n",
      "0.213902539506\n",
      "0.164361796688\n",
      "0.0677295386969\n",
      "0.028644331188\n",
      "0.0\n",
      "0.0\n",
      "548.661969654\n",
      "16.6359516173\n",
      "608.656943329\n",
      "12.9838625204\n",
      "6.63229354528\n",
      "4.76147936168\n",
      "121.325172455\n",
      "2.30224503973\n",
      "1.18308650927\n",
      "1.77370061791\n",
      "1.27228883942\n",
      "23.003130662\n",
      "0.312925590074\n",
      "0.0640335712776\n",
      "0.0632677846228\n",
      "0.0762979634856\n",
      "0.113678639159\n",
      "0.0213022752432\n",
      "0.0\n",
      "0.0\n",
      "469.317568141\n",
      "10.2217658825\n",
      "13.0061569451\n",
      "491.693182719\n",
      "9.27333904712\n",
      "4.1101571352\n",
      "2.29836322394\n",
      "58.0971067246\n",
      "0.955016645201\n",
      "0.229049241251\n",
      "0.21189340816\n",
      "0.310172624879\n",
      "8.34177346869\n",
      "0.11352223052\n",
      "0.307911823447\n",
      "0.0251388811491\n",
      "0.0234114730302\n",
      "0.0546163944506\n",
      "0.0\n",
      "0.0\n",
      "349.499100066\n",
      "16.8745204071\n",
      "6.63520460099\n",
      "9.2836422962\n",
      "355.245889791\n",
      "5.88820432039\n",
      "0.662291900653\n",
      "0.958794386779\n",
      "23.9016890267\n",
      "0.350407508223\n",
      "0.073281704696\n",
      "0.0690311314275\n",
      "0.111541472287\n",
      "3.4059395271\n",
      "0.0536586867527\n",
      "0.187660679487\n",
      "0.0576017348489\n",
      "0.0238834401789\n",
      "0.0\n",
      "0.0\n",
      "250.67306432\n",
      "5.1988258715\n",
      "0.727915592425\n",
      "4.20327996671\n",
      "237.810125662\n",
      "4.22576412041\n",
      "1.31259996335\n",
      "0.241186622347\n",
      "0.356794861953\n",
      "8.9999087591\n",
      "0.134479178544\n",
      "0.0725738702401\n",
      "0.031096887047\n",
      "0.0584864331459\n",
      "1.5130803784\n",
      "0.0450775697772\n",
      "0.0660881151348\n",
      "0.0182258474643\n",
      "0.0\n",
      "0.0\n",
      "164.965658395\n",
      "3.33073314129\n",
      "0.818300196186\n",
      "26.9123774607\n",
      "3.86333923498\n",
      "121.655087809\n",
      "1.85292354189\n",
      "0.536437951194\n",
      "0.0824559014378\n",
      "0.135672229894\n",
      "3.71396287877\n",
      "0.0585766292774\n",
      "0.0309803604214\n",
      "0.0248944944199\n",
      "0.683498626793\n",
      "0.375707737981\n",
      "0.0330330105372\n",
      "0.0238846027498\n",
      "0.0\n",
      "0.0\n",
      "61.5913721625\n",
      "40.4166267124\n",
      "0.797330057711\n",
      "5.8674538313\n",
      "1.31361064052\n",
      "1.83805084201\n",
      "58.3765664809\n",
      "0.764719580179\n",
      "0.201321510028\n",
      "0.0363397210968\n",
      "0.0631561888383\n",
      "1.91794295301\n",
      "0.0453126203665\n",
      "0.0195623755326\n",
      "0.419712296244\n",
      "0.0827707531443\n",
      "0.171678271741\n",
      "0.0262198440572\n",
      "0.0\n",
      "0.0\n",
      "26.7027293035\n",
      "0.874324789872\n",
      "12.0367027848\n",
      "0.203391065716\n",
      "0.789650114321\n",
      "0.534564082697\n",
      "0.750911204205\n",
      "25.7329999251\n",
      "0.260345833638\n",
      "0.193249400936\n",
      "0.025556096998\n",
      "0.0524027499752\n",
      "1.33169845834\n",
      "0.0463804706077\n",
      "0.278455258479\n",
      "0.0324152223358\n",
      "0.0272420283947\n",
      "0.0574862467792\n",
      "0.0\n",
      "0.0\n",
      "10.3044115811\n",
      "0.353927338839\n",
      "3.82305895677\n",
      "0.151312852466\n",
      "0.0441516275511\n",
      "0.0922137047485\n",
      "0.196244145489\n",
      "7.53312498289\n",
      "4.84745983664\n",
      "0.0884629766609\n",
      "0.030026266985\n",
      "0.0239290748285\n",
      "0.046670810799\n",
      "0.912536422623\n",
      "0.0426655684883\n",
      "0.189516532927\n",
      "0.0265339446278\n",
      "0.0194587343643\n",
      "0.0\n",
      "0.0\n",
      "1.41710810434\n",
      "2.51653932303\n",
      "0.0573589364894\n",
      "1.2720148181\n",
      "0.0337869573752\n",
      "0.0265018670771\n",
      "0.89969960324\n",
      "0.107286315194\n",
      "1.84289530842\n",
      "1.41977065264\n",
      "0.802712982902\n",
      "0.557803771526\n",
      "0.242299408732\n",
      "0.0361437038772\n",
      "0.644229486513\n",
      "0.0341856339596\n",
      "0.0968778496426\n",
      "0.0229961152268\n",
      "0.0\n",
      "0.0\n",
      "0.307783734666\n",
      "1.04995645816\n",
      "0.0589969317743\n",
      "0.0687096947554\n",
      "0.595537343768\n",
      "0.0302482347331\n",
      "0.0279020144889\n",
      "0.359888840077\n",
      "0.0458453807887\n",
      "0.900160477629\n",
      "0.0444290134069\n",
      "0.0380537887206\n",
      "0.19490304535\n",
      "0.154436366887\n",
      "0.0312340564405\n",
      "0.420604871929\n",
      "0.0253880421088\n",
      "0.0272025774976\n",
      "0.0\n",
      "0.0\n",
      "0.124179705885\n",
      "0.198760331823\n",
      "0.412711544107\n",
      "0.0327542320148\n",
      "0.0231697481492\n",
      "0.38444157773\n",
      "0.126324215623\n",
      "0.0312939329396\n",
      "0.217988780942\n",
      "0.0410996378489\n",
      "0.622609783211\n",
      "0.294593373817\n",
      "0.118179979221\n",
      "0.112108600651\n",
      "0.100588968362\n",
      "0.0335292487695\n",
      "0.214318892781\n",
      "0.0332961722072\n",
      "0.0\n",
      "0.0\n",
      "0.0660821284705\n",
      "0.0653708097001\n",
      "0.0295382257896\n",
      "0.205688905315\n",
      "0.0636706283808\n",
      "0.0701215324723\n",
      "0.0793843670779\n",
      "0.0608812950244\n",
      "0.0749393737084\n",
      "0.0778151484907\n",
      "0.0932954601384\n",
      "0.0931549660211\n",
      "0.0731228773384\n",
      "0.058145162432\n",
      "0.0541870874735\n",
      "0.0550293185148\n",
      "0.0607544161772\n",
      "0.028162081348\n",
      "0.0\n",
      "0.0\n",
      "0.0178985480366\n",
      "0.0251755564643\n",
      "0.0187811501999\n",
      "0.0288223444638\n",
      "0.0272858131568\n",
      "0.024947477882\n",
      "0.0251744993016\n",
      "0.0249936477299\n",
      "0.0217251176955\n",
      "0.0206813492745\n",
      "0.0212735951642\n",
      "0.0225218512024\n",
      "0.0206921933216\n",
      "0.0257915238451\n",
      "0.0236242126635\n",
      "0.0203431072809\n",
      "0.02185142978\n",
      "0.0261738261656\n",
      "0.0\n",
      "0.0\n",
      "0.0\n",
      "0.0\n",
      "0.0\n",
      "0.0\n",
      "0.0\n",
      "0.0\n",
      "0.0\n",
      "0.0\n",
      "0.0\n",
      "0.0\n",
      "0.0\n",
      "0.0\n",
      "0.0\n",
      "0.0\n",
      "0.0\n",
      "0.0\n",
      "0.0\n",
      "0.0\n",
      "0.0\n"
     ]
    }
   ],
   "source": [
    "for x in range(0, len(mg.at_node[\"sediment__flux\"])):\n",
    "    print(mg.at_node[\"sediment__flux\"][x])\n"
   ]
  },
  {
   "cell_type": "markdown",
   "metadata": {},
   "source": [
    "Create the Sediment Flux Figure"
   ]
  },
  {
   "cell_type": "code",
   "execution_count": null,
   "metadata": {},
   "outputs": [
    {
     "data": {
      "image/png": "[encoded data removed]",
      "text/plain": [
       "<Figure size 432x288 with 2 Axes>"
      ]
     },
     "metadata": {
      "needs_background": "light"
     },
     "output_type": "display_data"
    }
   ],
   "source": [
    "#Instantiate an empty plot\n",
    "figsed = plt.figure()\n",
    "\n",
    "#Instantiate subplot empty\n",
    "plot = plt.subplot()\n",
    "\n",
    "#Create sed_flux graph that shows the landscape with the nodes where ther is sediment flux in different colors- using landlab utility imshow_grid\n",
    "imshow_grid(mg, 'sediment__flux', plot_name='Sediment flux', var_name = 'Sediment flux', var_units=r'm$^3$/yr', grid_units=('m', 'm'), cmap='terrain')"
   ]
  },
  {
   "cell_type": "markdown",
   "metadata": {},
   "source": [
    "Create the Topographic Elevation Figure"
   ]
  },
  {
   "cell_type": "code",
   "execution_count": null,
   "metadata": {},
   "outputs": [
    {
     "data": {
      "image/png": "[encoded data removed]",
      "text/plain": [
       "<Figure size 432x288 with 2 Axes>"
      ]
     },
     "metadata": {
      "needs_background": "light"
     },
     "output_type": "display_data"
    }
   ],
   "source": [
    "#Instantiate figure as empty plot\n",
    "figelev = plt.figure()\n",
    "\n",
    "#Instantiate subplot as empty plot\n",
    "plot = plt.subplot()\n",
    "\n",
    "#Create a topographic elevation plot that shows the elevation of the landscape in diff colors - using landlab utility imshow_grid\n",
    "imshow_grid(mg, 'topographic__elevation', plot_name='Topographic Elevation', var_name = 'Elevation', var_units=r'm', grid_units=('m', 'm'), cmap='terrain',color_for_background=None)"
   ]
  },
  {
   "cell_type": "markdown",
   "metadata": {},
   "source": [
    "Create the Soil Depth Figure"
   ]
  },
  {
   "cell_type": "code",
   "execution_count": null,
   "metadata": {},
   "outputs": [
    {
     "data": {
      "image/png": "[encoded data removed]",
      "text/plain": [
       "<Figure size 432x288 with 2 Axes>"
      ]
     },
     "metadata": {
      "needs_background": "light"
     },
     "output_type": "display_data"
    }
   ],
   "source": [
    "#Instantiate figure as empty plot\n",
    "fig = plt.figure()\n",
    "\n",
    "#Instantiate subplot as empty plot\n",
    "plot = plt.subplot()\n",
    "\n",
    "#Create a graph showing the soil depth at each node in the landscape - using landlab utility imshow_grid\n",
    "imshow_grid(mg, 'soil__depth', plot_name='Soil Depth', var_name = 'Depth', var_units=r'm', grid_units=('m', 'm'), cmap='terrain')"
   ]
  },
  {
   "cell_type": "markdown",
   "metadata": {},
   "source": [
    "Create the Bedrock Elevation Figure"
   ]
  },
  {
   "cell_type": "code",
   "execution_count": null,
   "metadata": {},
   "outputs": [
    {
     "data": {
      "image/png": "[encoded data removed]",
      "text/plain": [
       "<Figure size 432x288 with 2 Axes>"
      ]
     },
     "metadata": {
      "needs_background": "light"
     },
     "output_type": "display_data"
    }
   ],
   "source": [
    "#Instantiate figure as empty plot\n",
    "fig = plt.figure()\n",
    "\n",
    "#Instantiate subplot as empty plot\n",
    "plot = plt.subplot()\n",
    "\n",
    "#Create a graph showing the bedrock elevation of the landscape - using landlab utility imshow_grid\n",
    "imshow_grid(mg, 'bedrock__elevation', plot_name='Bedrock Elevation', var_name = 'Elevation', var_units=r'm', grid_units=('m', 'm'), cmap='terrain')"
   ]
  },
  {
   "cell_type": "markdown",
   "metadata": {},
   "source": [
    "Create the Sedimentograph"
   ]
  },
  {
   "cell_type": "code",
   "execution_count": null,
   "metadata": {},
   "outputs": [
    {
     "data": {
      "text/plain": [
       "Text(0, 0.5, 'Sediment flux [m$^3$/yr]')"
      ]
     },
     "execution_count": 17,
     "metadata": {},
     "output_type": "execute_result"
    },
    {
     "data": {
      "image/png": "[encoded data removed]",
      "text/plain": [
       "<Figure size 432x288 with 1 Axes>"
      ]
     },
     "metadata": {
      "needs_background": "light"
     },
     "output_type": "display_data"
    }
   ],
   "source": [
    "#Instantiate figure as an empty plot\n",
    "fig = plt.figure()\n",
    "\n",
    "#Instantiate subplot as an empty plot\n",
    "sedfluxplot = plt.subplot()\n",
    "\n",
    "#Creates the information in the graph with the runtim values from 0 to the end of the run_time , and the sed_flux array creates while the model was running\n",
    "sedfluxplot.plot(np.arange(run_time),sed_flux, color = 'k', linewidth = 3)\n",
    "\n",
    "#Add axis labels to the plot \n",
    "sedfluxplot.set_title('Sedimentograph') #title\n",
    "sedfluxplot.set_xlabel('Time [yr]') #x axis label\n",
    "sedfluxplot.set_ylabel(r'Sediment flux [m$^3$/yr]') #y axis label"
   ]
  }
 ],
 "metadata": {
  "interpreter": {
   "hash": "0abccfbd2c22ff3ab4d7b44909cfe0feef52cedff933ad1333dcb5cce75dbabf"
  },
  "kernelspec": {
   "display_name": "Python 3 (ipykernel)",
   "language": "python",
   "name": "python3"
  },
  "language_info": {
   "codemirror_mode": {
    "name": "ipython",
    "version": 3
   },
   "file_extension": ".py",
   "mimetype": "text/x-python",
   "name": "python",
   "nbconvert_exporter": "python",
   "pygments_lexer": "ipython3",
   "version": "3.9.12"
  }
 },
 "nbformat": 4,
 "nbformat_minor": 2
}
