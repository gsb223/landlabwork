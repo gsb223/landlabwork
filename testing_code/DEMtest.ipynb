{
 "cells": [
  {
   "cell_type": "code",
   "execution_count": null,
   "metadata": {},
   "outputs": [],
   "source": [
    "from landlab.io import read_esri_ascii\n",
    "from landlab.plot.imshow import imshow_grid"
   ]
  },
  {
   "cell_type": "code",
   "execution_count": null,
   "metadata": {},
   "outputs": [],
   "source": [
    "(mg, z) = read_esri_ascii(\"west_bijou_gully.asc\", name=\"topographic__elevation\")\n",
    "%matplotlib inline\n",
    "imshow_grid(mg, \"topographic__elevation\")"
   ]
  },
  {
   "cell_type": "code",
   "execution_count": null,
   "metadata": {},
   "outputs": [],
   "source": [
    "import numpy as np\n",
    "\n",
    "min_z = np.min(z[np.where(z > 0)])\n",
    "max_z = np.max(z[np.where(z > 0)])\n",
    "# help(imshow_grid)\n",
    "imshow_grid(mg, \"topographic__elevation\", limits=(min_z, max_z))"
   ]
  },
  {
   "cell_type": "code",
   "execution_count": null,
   "metadata": {},
   "outputs": [],
   "source": [
    "mg.number_of_node_rows\n",
    "mg.number_of_node_columns"
   ]
  }
 ],
 "metadata": {
  "language_info": {
   "name": "python"
  },
  "orig_nbformat": 4
 },
 "nbformat": 4,
 "nbformat_minor": 2
}
