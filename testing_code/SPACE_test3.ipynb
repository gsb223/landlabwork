{
 "cells": [
  {
   "cell_type": "markdown",
   "metadata": {},
   "source": [
    "This code was from components page on landlab"
   ]
  },
  {
   "cell_type": "code",
   "execution_count": null,
   "metadata": {},
   "outputs": [],
   "source": [
    "\n",
    "import numpy as np\n",
    "from landlab import RasterModelGrid\n",
    "from landlab.components import (FlowAccumulator, DepressionFinderAndRouter, Space, FastscapeEroder)\n",
    "np.random.seed(seed = 5000)"
   ]
  },
  {
   "cell_type": "code",
   "execution_count": null,
   "metadata": {},
   "outputs": [],
   "source": [
    "mg = RasterModelGrid((5,5), xy_spacing=10.0)\n",
    "_ = mg.add_zeros('topographic__elevation', at='node')\n",
    "mg.at_node['topographic__elevation'] += (mg.node_y / 10. + mg.node_x / 10. + np.random.rand(len(mg.node_y)) / 10.)\n",
    "\n",
    "mg.set_closed_boundaries_at_grid_edges(bottom_is_closed=True, left_is_closed=True,right_is_closed=True,top_is_closed=True)\n",
    "mg.set_watershed_boundary_condition_outlet_id(0, mg.at_node['topographic__elevation'], -9999.)\n",
    "fsc_dt = 100.\n",
    "space_dt = 100.\n",
    "\n",
    "\n"
   ]
  },
  {
   "cell_type": "code",
   "execution_count": null,
   "metadata": {},
   "outputs": [],
   "source": [
    "fr = FlowAccumulator(mg, flow_director='D8')\n",
    "df = DepressionFinderAndRouter(mg)\n",
    "fsc = FastscapeEroder(mg, K_sp = .001,m_sp=.5, n_sp=1)\n"
   ]
  },
  {
   "cell_type": "code",
   "execution_count": null,
   "metadata": {},
   "outputs": [],
   "source": [
    "for x in range(100):\n",
    "    fr.run_one_step()\n",
    "    df.map_depressions()\n",
    "    fsc.run_one_step(dt=fsc_dt)\n",
    "    mg.at_node['topographic__elevation'][0] -= 0.001 # Uplift\n"
   ]
  },
  {
   "cell_type": "code",
   "execution_count": null,
   "metadata": {},
   "outputs": [],
   "source": [
    "_ = mg.add_zeros('soil__depth', at='node', dtype=float)\n",
    "mg.at_node['soil__depth'] += 0.5\n",
    "mg.at_node['topographic__elevation'] += mg.at_node['soil__depth']\n"
   ]
  },
  {
   "cell_type": "code",
   "execution_count": null,
   "metadata": {},
   "outputs": [],
   "source": [
    "ha = Space(mg, K_sed=0.00001,K_br=0.00000000001,F_f=0.5, phi=0.1, H_star=1., v_s=0.001, m_sp=0.5,  n_sp = 1.0, sp_crit_sed=0, sp_crit_br=0)\n"
   ]
  },
  {
   "cell_type": "code",
   "execution_count": null,
   "metadata": {},
   "outputs": [],
   "source": [
    "for x in range(2000): #Space component loop\n",
    "    fr.run_one_step()\n",
    "    df.map_depressions()\n",
    "    ha.run_one_step(dt=space_dt)\n",
    "    mg.at_node['bedrock__elevation'][0] -= 2e-6 * space_dt"
   ]
  },
  {
   "cell_type": "code",
   "execution_count": null,
   "metadata": {},
   "outputs": [],
   "source": [
    "np.around(mg.at_node['soil__depth'], decimals=3) # doctest: +NORMALIZE_WHITESPACE\n"
   ]
  },
  {
   "cell_type": "code",
   "execution_count": null,
   "metadata": {},
   "outputs": [],
   "source": [
    "np.around(mg.at_node['topographic__elevation'], decimals=3) "
   ]
  },
  {
   "cell_type": "code",
   "execution_count": null,
   "metadata": {},
   "outputs": [],
   "source": [
    "_name = \"Space\"\n",
    "_unit_agnostic = True\n",
    "\n",
    "_info = {\n",
    "    \"flow__link_to_receiver_node\": {\n",
    "        \"dtype\": int,\n",
    "        \"intent\": \"in\",\n",
    "        \"optional\": False,\n",
    "        \"units\": \"-\",\n",
    "        \"mapping\": \"node\",\n",
    "        \"doc\": \"ID of link downstream of each node, which carries the discharge\",\n",
    "    },\n",
    "    \"flow__receiver_node\": {\n",
    "        \"dtype\": int,\n",
    "        \"intent\": \"in\",\n",
    "        \"optional\": False,\n",
    "        \"units\": \"-\",\n",
    "        \"mapping\": \"node\",\n",
    "        \"doc\": \"Node array of receivers (node that receives flow from current node)\",\n",
    "    },\n",
    "    \"flow__upstream_node_order\": {\n",
    "        \"dtype\": int,\n",
    "        \"intent\": \"in\",\n",
    "        \"optional\": False,\n",
    "        \"units\": \"-\",\n",
    "        \"mapping\": \"node\",\n",
    "        \"doc\": \"Node array containing downstream-to-upstream ordered list of node IDs\",\n",
    "    },\n",
    "    \"sediment__influx\": {\n",
    "        \"dtype\": float,\n",
    "        \"intent\": \"out\",\n",
    "        \"optional\": False,\n",
    "        \"units\": \"m3/s\",\n",
    "        \"mapping\": \"node\",\n",
    "        \"doc\": \"Sediment flux (volume per unit time of sediment entering each node)\",\n",
    "    },\n",
    "    \"sediment__outflux\": {\n",
    "        \"dtype\": float,\n",
    "        \"intent\": \"out\",\n",
    "        \"optional\": False,\n",
    "        \"units\": \"m3/s\",\n",
    "        \"mapping\": \"node\",\n",
    "        \"doc\": \"Sediment flux (volume per unit time of sediment leaving each node)\",\n",
    "    },\n",
    "    \"soil__depth\": {\n",
    "        \"dtype\": float,\n",
    "        \"intent\": \"inout\",\n",
    "        \"optional\": False,\n",
    "        \"units\": \"m\",\n",
    "        \"mapping\": \"node\",\n",
    "        \"doc\": \"Depth of soil or weathered bedrock\",\n",
    "    },\n",
    "    \"surface_water__discharge\": {\n",
    "        \"dtype\": float,\n",
    "        \"intent\": \"in\",\n",
    "        \"optional\": False,\n",
    "        \"units\": \"m**3/s\",\n",
    "        \"mapping\": \"node\",\n",
    "        \"doc\": \"Volumetric discharge of surface water\",\n",
    "    },\n",
    "    \"topographic__elevation\": {\n",
    "        \"dtype\": float,\n",
    "        \"intent\": \"inout\",\n",
    "        \"optional\": False,\n",
    "        \"units\": \"m\",\n",
    "        \"mapping\": \"node\",\n",
    "        \"doc\": \"Land surface topographic elevation\",\n",
    "    },\n",
    "    \"topographic__steepest_slope\": {\n",
    "        \"dtype\": float,\n",
    "        \"intent\": \"in\",\n",
    "        \"optional\": False,\n",
    "        \"units\": \"-\",\n",
    "        \"mapping\": \"node\",\n",
    "        \"doc\": \"The steepest *downhill* slope\",\n",
    "    },\n",
    "}\n"
   ]
  },
  {
   "cell_type": "code",
   "execution_count": null,
   "metadata": {},
   "outputs": [],
   "source": [
    "def __init__(\n",
    "    self,\n",
    "    grid,\n",
    "    K_sed=0.002,\n",
    "    K_br=0.002,\n",
    "    F_f=0.0,\n",
    "    phi=0.3,\n",
    "    H_star=0.1,\n",
    "    v_s=1.0,\n",
    "    m_sp=0.5,\n",
    "    n_sp=1.0,\n",
    "    sp_crit_sed=0.0,\n",
    "    sp_crit_br=0.0,\n",
    "    discharge_field=\"surface_water__discharge\",\n",
    "    solver=\"basic\",\n",
    "    dt_min=DEFAULT_MINIMUM_TIME_STEP,):"
   ]
  }
 ],
 "metadata": {
  "interpreter": {
   "hash": "0abccfbd2c22ff3ab4d7b44909cfe0feef52cedff933ad1333dcb5cce75dbabf"
  },
  "kernelspec": {
   "display_name": "Python 3.9.10 ('landlab_notebooks')",
   "language": "python",
   "name": "python3"
  },
  "language_info": {
   "codemirror_mode": {
    "name": "ipython",
    "version": 3
   },
   "file_extension": ".py",
   "mimetype": "text/x-python",
   "name": "python",
   "nbconvert_exporter": "python",
   "pygments_lexer": "ipython3",
   "version": "3.9.10"
  },
  "orig_nbformat": 4
 },
 "nbformat": 4,
 "nbformat_minor": 2
}
