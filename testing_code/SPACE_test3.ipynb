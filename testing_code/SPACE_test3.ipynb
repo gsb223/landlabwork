{
 "cells": [
  {
   "cell_type": "markdown",
   "metadata": {},
   "source": [
    "This code was from components page on landlab"
   ]
  },
  {
   "cell_type": "code",
   "execution_count": 10,
   "metadata": {},
   "outputs": [],
   "source": [
    "\n",
    "import numpy as np\n",
    "from landlab import imshow_grid #For plotting results; optional\n",
    "import matplotlib.pyplot as plt #For plotting results; optional\n",
    "from landlab import RasterModelGrid\n",
    "from landlab.components import (FlowAccumulator, DepressionFinderAndRouter, Space, FastscapeEroder)\n",
    "np.random.seed(seed = 5000)"
   ]
  },
  {
   "cell_type": "code",
   "execution_count": 11,
   "metadata": {},
   "outputs": [],
   "source": [
    "mg = RasterModelGrid((5,5), xy_spacing=10.0)\n",
    "_ = mg.add_zeros('topographic__elevation', at='node')\n",
    "mg.at_node['topographic__elevation'] += (mg.node_y / 10. + mg.node_x / 10. + np.random.rand(len(mg.node_y)) / 10.)\n",
    "\n",
    "mg.set_closed_boundaries_at_grid_edges(bottom_is_closed=True, left_is_closed=True,right_is_closed=True,top_is_closed=True)\n",
    "mg.set_watershed_boundary_condition_outlet_id(0, mg.at_node['topographic__elevation'], -9999.)\n",
    "fsc_dt = 100.\n",
    "space_dt = 100.\n",
    "\n",
    "\n"
   ]
  },
  {
   "cell_type": "code",
   "execution_count": 12,
   "metadata": {},
   "outputs": [],
   "source": [
    "fr = FlowAccumulator(mg, flow_director='D8')\n",
    "df = DepressionFinderAndRouter(mg)\n",
    "fsc = FastscapeEroder(mg, K_sp = .001, m_sp=.5, n_sp=1)\n"
   ]
  },
  {
   "cell_type": "code",
   "execution_count": 13,
   "metadata": {},
   "outputs": [],
   "source": [
    "for x in range(100):\n",
    "    fr.run_one_step()\n",
    "    df.map_depressions()\n",
    "    fsc.run_one_step(dt=fsc_dt)\n",
    "    mg.at_node['topographic__elevation'][0] -= 0.001 # Uplift\n"
   ]
  },
  {
   "cell_type": "code",
   "execution_count": 14,
   "metadata": {},
   "outputs": [],
   "source": [
    "_ = mg.add_zeros('soil__depth', at='node', dtype=float)\n",
    "mg.at_node['soil__depth'] += 0.5\n",
    "mg.at_node['topographic__elevation'] += mg.at_node['soil__depth']\n"
   ]
  },
  {
   "cell_type": "code",
   "execution_count": 15,
   "metadata": {},
   "outputs": [],
   "source": [
    "ha = Space(mg, K_sed=0.00001,K_br=0.00000000001,F_f=0.5, phi=0.1, H_star=1., v_s=0.001, m_sp=0.5,  n_sp = 1.0, sp_crit_sed=0, sp_crit_br=0)\n"
   ]
  },
  {
   "cell_type": "code",
   "execution_count": 16,
   "metadata": {},
   "outputs": [],
   "source": [
    "for x in range(2000): #Space component loop\n",
    "    fr.run_one_step()\n",
    "    df.map_depressions()\n",
    "    ha.run_one_step(dt=space_dt)\n",
    "    mg.at_node['bedrock__elevation'][0] -= 2e-6 * space_dt"
   ]
  },
  {
   "cell_type": "code",
   "execution_count": 17,
   "metadata": {},
   "outputs": [
    {
     "data": {
      "text/plain": [
       "array([ 0.5  ,  0.5  ,  0.5  ,  0.5  ,  0.5  ,  0.5  ,  0.495,  0.492,\n",
       "        0.491,  0.5  ,  0.5  ,  0.492,  0.492,  0.49 ,  0.5  ,  0.5  ,\n",
       "        0.491,  0.49 ,  0.484,  0.5  ,  0.5  ,  0.5  ,  0.5  ,  0.5  ,\n",
       "        0.5  ])"
      ]
     },
     "execution_count": 17,
     "metadata": {},
     "output_type": "execute_result"
    }
   ],
   "source": [
    "np.around(mg.at_node['soil__depth'], decimals=3) # doctest: +NORMALIZE_WHITESPACE\n"
   ]
  },
  {
   "cell_type": "code",
   "execution_count": 18,
   "metadata": {},
   "outputs": [
    {
     "data": {
      "text/plain": [
       "array([ 0.423,  1.536,  2.573,  3.511,  4.561,  1.582,  0.424,  0.428,\n",
       "        0.438,  5.51 ,  2.54 ,  0.428,  0.428,  0.438,  6.526,  3.559,\n",
       "        0.438,  0.438,  0.45 ,  7.553,  4.559,  5.541,  6.57 ,  7.504,\n",
       "        8.51 ])"
      ]
     },
     "execution_count": 18,
     "metadata": {},
     "output_type": "execute_result"
    }
   ],
   "source": [
    "np.around(mg.at_node['topographic__elevation'], decimals=3) "
   ]
  },
  {
   "cell_type": "code",
   "execution_count": 19,
   "metadata": {},
   "outputs": [
    {
     "data": {
      "image/png": "[encoded data removed]",
      "text/plain": [
       "<Figure size 432x288 with 2 Axes>"
      ]
     },
     "metadata": {
      "needs_background": "light"
     },
     "output_type": "display_data"
    }
   ],
   "source": [
    "#Instantiate figure\n",
    "fig = plt.figure()\n",
    "\n",
    "#Instantiate subplot\n",
    "plot = plt.subplot()\n",
    "\n",
    "#Show sediment flux map\n",
    "imshow_grid(mg, 'topographic__elevation', plot_name='Topographic Elevation', var_name = 'Elevation', var_units=r'm$^3$/yr', grid_units=('m', 'm'), cmap='terrain')"
   ]
  }
 ],
 "metadata": {
  "interpreter": {
   "hash": "0abccfbd2c22ff3ab4d7b44909cfe0feef52cedff933ad1333dcb5cce75dbabf"
  },
  "kernelspec": {
   "display_name": "Python 3.9.10 ('landlab_notebooks')",
   "language": "python",
   "name": "python3"
  },
  "language_info": {
   "codemirror_mode": {
    "name": "ipython",
    "version": 3
   },
   "file_extension": ".py",
   "mimetype": "text/x-python",
   "name": "python",
   "nbconvert_exporter": "python",
   "pygments_lexer": "ipython3",
   "version": "3.9.10"
  },
  "orig_nbformat": 4
 },
 "nbformat": 4,
 "nbformat_minor": 2
}
