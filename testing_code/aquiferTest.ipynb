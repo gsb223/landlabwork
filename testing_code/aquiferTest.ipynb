{
 "cells": [
  {
   "cell_type": "code",
   "execution_count": 8,
   "metadata": {},
   "outputs": [],
   "source": [
    "from landlab import RasterModelGrid\n",
    "from landlab.components import GroundwaterDupuitPercolator\n",
    "from landlab.components import FlowAccumulator\n",
    "import numpy as np"
   ]
  },
  {
   "cell_type": "code",
   "execution_count": 9,
   "metadata": {},
   "outputs": [],
   "source": [
    "#initialize the grid and component"
   ]
  },
  {
   "cell_type": "code",
   "execution_count": 10,
   "metadata": {},
   "outputs": [],
   "source": [
    "grid = RasterModelGrid((10, 10), xy_spacing=10.0)\n",
    "elev = grid.add_zeros(\"topographic__elevation\", at=\"node\")\n",
    "abe = grid.add_zeros(\"aquifer_base__elevation\", at=\"node\")\n",
    "elev[:] = 5.0\n",
    "gdp = GroundwaterDupuitPercolator(grid)"
   ]
  },
  {
   "cell_type": "code",
   "execution_count": 11,
   "metadata": {},
   "outputs": [],
   "source": [
    "dt = 1E4\n",
    "for i in range(100):\n",
    "    gdp.run_one_step(dt)\n",
    "\n"
   ]
  },
  {
   "cell_type": "code",
   "execution_count": 12,
   "metadata": {},
   "outputs": [],
   "source": [
    "#Set boundary conditions and initialize grid\n",
    "grid = RasterModelGrid((5, 41), xy_spacing=10.0)\n",
    "grid.set_closed_boundaries_at_grid_edges(True, True, False, True)\n",
    "\n",
    "#Make a sloping, 3 m thick aquifer, initially fully saturated\n",
    "elev = grid.add_zeros(\"topographic__elevation\", at=\"node\")\n",
    "elev[:] = grid.x_of_node/100+3\n",
    "base = grid.add_zeros(\"aquifer_base__elevation\", at=\"node\")\n",
    "base[:] = grid.x_of_node/100\n",
    "wt = grid.add_zeros(\"water_table__elevation\", at=\"node\")\n",
    "wt[:] = grid.x_of_node/100 + 3"
   ]
  },
  {
   "cell_type": "code",
   "execution_count": 13,
   "metadata": {},
   "outputs": [],
   "source": [
    "#initialize components\n",
    "gdp = GroundwaterDupuitPercolator(grid, recharge_rate=1E-7)\n",
    "fa = FlowAccumulator(grid, runoff_rate='surface_water__specific_discharge')\n"
   ]
  },
  {
   "cell_type": "code",
   "execution_count": 14,
   "metadata": {},
   "outputs": [],
   "source": [
    "#Advance timestep. Default units are meters and seconds, though the component is unit agnostic.\n",
    "dt = 1E3\n",
    "for i in range(1000):\n",
    "    gdp.run_one_step(dt)\n",
    "\n",
    "#calculate curface water flux out of domain\n",
    "fa.run_one_step()\n",
    "\n",
    "np.testing.assert_almost_equal(gdp.calc_sw_flux_out(),0.0005077)\n",
    "\n"
   ]
  }
 ],
 "metadata": {
  "interpreter": {
   "hash": "0abccfbd2c22ff3ab4d7b44909cfe0feef52cedff933ad1333dcb5cce75dbabf"
  },
  "kernelspec": {
   "display_name": "Python 3.9.10 ('landlab_notebooks')",
   "language": "python",
   "name": "python3"
  },
  "language_info": {
   "codemirror_mode": {
    "name": "ipython",
    "version": 3
   },
   "file_extension": ".py",
   "mimetype": "text/x-python",
   "name": "python",
   "nbconvert_exporter": "python",
   "pygments_lexer": "ipython3",
   "version": "3.9.10"
  },
  "orig_nbformat": 4
 },
 "nbformat": 4,
 "nbformat_minor": 2
}
