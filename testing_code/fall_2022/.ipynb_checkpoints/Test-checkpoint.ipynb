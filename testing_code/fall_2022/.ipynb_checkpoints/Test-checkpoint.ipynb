{
 "cells": [
  {
   "cell_type": "code",
   "execution_count": 1,
   "metadata": {},
   "outputs": [],
   "source": [
    "import numpy as np #basic python library\n",
    "import matplotlib.pyplot as plt #For plotting results\n",
    "from matplotlib.pyplot import figure, legend, plot, show, title, xlabel, ylabel, ylim\n",
    "import cv2 \n",
    "import glob\n",
    "\n",
    "## Import Landlab components\n",
    "from landlab.components import DepressionFinderAndRouter #Pit filling\n",
    "from landlab.components import PriorityFloodFlowRouter #Flow routing\n",
    "from landlab.components import FlowAccumulator #FlowAccumulator \n",
    "from landlab.components import ChannelProfiler \n",
    "from landlab.components import SteepnessFinder\n",
    "from landlab.components import ChiFinder\n",
    "from landlab.components import ExponentialWeatherer\n",
    "from landlab.components import DepthDependentDiffuser\n",
    "\n",
    "#SPACE model\n",
    "from landlab.components import Space #SPACE model\n",
    "from landlab.components import SpaceLargeScaleEroder #basically SPACE 2.0 -- use this \n",
    "from landlab.components import FastscapeEroder #calculates the amount of erosion at each node\n",
    "from landlab.components import SinkFillerBarnes #replaces pits with shallow gradients for draining\n",
    "\n",
    "## Import Landlab utilities\n",
    "from landlab import RasterModelGrid #Grid utility\n",
    "from landlab import imshow_grid #For plotting results\n",
    "from landlab.io import read_esri_ascii #to read in an ascii file\n",
    "from landlab.io import read_asc_header #to read in the header of the ascii file\n",
    "from landlab.io import write_esri_ascii \n",
    "\n",
    "%matplotlib inline"
   ]
  },
  {
   "cell_type": "code",
   "execution_count": 2,
   "metadata": {},
   "outputs": [
    {
     "name": "stdout",
     "output_type": "stream",
     "text": [
      "0\n"
     ]
    }
   ],
   "source": [
    "#Set grid parameters\n",
    "num_rows = 100\n",
    "num_columns = 100\n",
    "node_spacing = 10.00\n",
    "node_next_to_outlet = num_columns + 1\n",
    "outlet_node = 0 \n",
    "\n",
    "#Set Model Time Parameters\n",
    "timestep = 100.0\n",
    "run_time = 10000 #years\n",
    "uplift_rate = .01 # m/year\n",
    "uplift_per_timestep = uplift_rate * timestep\n",
    "\n",
    "mg = RasterModelGrid((num_rows, num_columns), node_spacing)#Instantiate model grid\n",
    "\n",
    "#Close all model boundary edges\n",
    "mg.set_closed_boundaries_at_grid_edges(bottom_is_closed=True,left_is_closed=True,right_is_closed=True,top_is_closed=True)\n",
    "mg.status_at_node[outlet_node] = mg.BC_NODE_IS_FIXED_VALUE\n",
    "\n",
    "#Add field 'soil__depth' to the grid\n",
    "mg.add_zeros('node', 'soil__depth')\n",
    "mg.at_node['soil__depth'][:] = 2  #Set 2 m of initial soil depth at core nodes\n",
    "\n",
    "np.random.seed(seed = 5000)#Set constant random seed for consistent topographic roughness\n",
    "\n",
    "#Add field 'bedrock__elevation' to the grid\n",
    "mg.add_zeros('bedrock__elevation', at='node')\n",
    "mg.at_node[\"bedrock__elevation\"][:] += (np.random.rand(len(mg.node_y)) / 100) #cm scale rn \n",
    "mg.at_node['bedrock__elevation'][outlet_node] = 0 # do this before the mg.at node stuff above\n",
    "#Sum 'soil__depth' and 'bedrock__elevation' to yield 'topographic elevation' \n",
    "#when u change spacing high\n",
    "\n",
    "#Add field ’topographic elevation’ to the grid\n",
    "mg.add_zeros('node', 'topographic__elevation')\n",
    "mg.at_node[\"topographic__elevation\"][:] += mg.at_node[\"bedrock__elevation\"]# + mg.at_node['soil__depth'][:]\n",
    "mg.at_node[\"topographic__elevation\"][:] += mg.at_node[\"soil__depth\"]\n",
    "#mg.at_node[\"topographic__elevation\"][:] += mg.at_node[\"soil__depth\"]\n",
    "\n",
    "#outlet_node = mg.set_watershed_boundary_condition_outlet_id(0,mg['node']['topographic__elevation'], -9999.)\n",
    "#mg.at_node['bedrock__elevation'][outlet_node] = 1 # do this before the mg.at node stuff above\n",
    "#outlet_node = mg.set_watershed_boundary_condition_outlet_id(0,mg['node']['topographic__elevation'], -9999.)\n",
    "\n",
    "mg.at_node['topographic__elevation'][outlet_node] = 0\n",
    "mg.at_node['soil__depth'][outlet_node] = 0\n",
    "print(outlet_node)\n"
   ]
  },
  {
   "cell_type": "markdown",
   "metadata": {},
   "source": [
    "#Set grid parameters\n",
    "num_rows = 100\n",
    "num_columns = 100\n",
    "node_spacing = 10.00\n",
    "node_next_to_outlet = num_columns + 1\n",
    "outlet_node = 0 \n",
    "\n",
    "#Set Model Time Parameters\n",
    "timestep = 100.0\n",
    "run_time = 10000 #years\n",
    "uplift_rate = .01 # m/year\n",
    "uplift_per_timestep = uplift_rate * timestep\n",
    "\n",
    "mg = RasterModelGrid((num_rows, num_columns), node_spacing)#Instantiate model grid\n",
    "\n",
    "#Close all model boundary edges\n",
    "mg.set_closed_boundaries_at_grid_edges(bottom_is_closed=True,left_is_closed=True,right_is_closed=True,top_is_closed=True)\n",
    "mg.status_at_node[outlet_node] = mg.BC_NODE_IS_FIXED_VALUE\n",
    "\n",
    "(mg,_) = read_esri_ascii(r\"C:\\Users\\gsbir\\Documents\\EES_393\\Export\\sample_topo2_bedrock__elevation.txt\", name = \"bedrock__elevation\", grid = mg)\n",
    "(mg,_) = read_esri_ascii(r\"C:\\Users\\gsbir\\Documents\\EES_393\\Export\\sample_topo2_topographic__elevation.txt\", name = \"topographic__elevation\", grid = mg)\n",
    "(mg,_) = read_esri_ascii(r\"C:\\Users\\gsbir\\Documents\\EES_393\\Export\\sample_topo2_soil__depth.txt\", name = \"soil__depth\", grid = mg)"
   ]
  },
  {
   "cell_type": "code",
   "execution_count": 3,
   "metadata": {},
   "outputs": [
    {
     "data": {
      "image/png": "[encoded data removed]",
      "text/plain": [
       "<Figure size 432x288 with 2 Axes>"
      ]
     },
     "metadata": {
      "needs_background": "light"
     },
     "output_type": "display_data"
    }
   ],
   "source": [
    "#Instantiate figure as empty plot\n",
    "figelev = plt.figure()\n",
    "\n",
    "#Instantiate subplot as empty plot\n",
    "plot = plt.subplot()\n",
    "\n",
    "#Create a topographic elevation plot that shows the elevation of the landscape in diff colors - using landlab utility imshow_grid\n",
    "imshow_grid(mg, 'topographic__elevation', plot_name='Topographic Elevation', var_name = 'Elevation', var_units=r'm', grid_units=('m', 'm'), cmap='terrain',color_for_background=None)\n"
   ]
  },
  {
   "cell_type": "code",
   "execution_count": 4,
   "metadata": {},
   "outputs": [
    {
     "data": {
      "text/plain": [
       "False"
      ]
     },
     "execution_count": 4,
     "metadata": {},
     "output_type": "execute_result"
    }
   ],
   "source": [
    "#Parameters for SPACE and Fastscape\n",
    "K_sed = 0.0001\n",
    "K_sp = 0.001\n",
    "K_br = 0.0001\n",
    "F_f = 0.0\n",
    "phi = 0.0\n",
    "H_star = 1.0\n",
    "v_s = 5.0\n",
    "m_sp = 0.5\n",
    "n_sp = 1.0\n",
    "sp_crit_sed = 0\n",
    "sp_crit_br = 0\n",
    "\n",
    "#Instantiate the Flow accumulator\n",
    "fr = PriorityFloodFlowRouter(mg, flow_metric='D8', suppress_out = True)\n",
    "\n",
    "#Instantiate the Flow accumulator\n",
    "#fa = FlowAccumulator(mg, flow_director='D8') \n",
    "\n",
    "#Instantiate the depressionfinder and router as df\n",
    "#df = DepressionFinderAndRouter(mg,pits = 'flow__sink_flag', reroute_flow = True) \n",
    "\n",
    "#instantiate the fascape eroder as fsc \n",
    "fsc = FastscapeEroder(mg, K_sp, m_sp, n_sp)\n",
    "\n",
    "#Instantiate SPACE model with chosen parameters as sp\n",
    "sp = SpaceLargeScaleEroder(mg, K_sed, K_br, F_f, phi, H_star, v_s, m_sp, n_sp, sp_crit_sed, sp_crit_br)# K_sed, K_br, F_f, phi, H_star, v_s, m_sp, n_sp, sp_crit_sed, sp_crit_br \n",
    "\n",
    "expweath = ExponentialWeatherer(mg)\n",
    "DDdiff = DepthDependentDiffuser(mg)\n",
    "\n",
    "expweath.calc_soil_prod_rate()\n",
    "np.allclose(mg.at_node['soil_production__rate'][mg.core_nodes], 1.)\n"
   ]
  },
  {
   "cell_type": "markdown",
   "metadata": {},
   "source": [
    "TRY RUNNING AT 10 SPACING FOR 100000 "
   ]
  },
  {
   "cell_type": "code",
   "execution_count": null,
   "metadata": {},
   "outputs": [],
   "source": [
    "\n",
    "#run for 10 years\n",
    "for x in range(5000): # at 10000 topo look doesn't change much\n",
    "    mg.at_node['bedrock__elevation'][mg.core_nodes] += uplift_per_timestep  #adding uplift to the bedrock\n",
    "    mg.at_node['topographic__elevation'][mg.core_nodes] = mg.at_node['bedrock__elevation'][mg.core_nodes] + mg.at_node['soil__depth'][mg.core_nodes]  #adding uplift to the bedrock\n",
    "    #mg.at_node[\"topographic__elevation\"][0] -= 0.001 # Uplift\n",
    "    \n",
    "    #fa.run_one_step()\n",
    "    fr.run_one_step()        \n",
    "    fsc.run_one_step(timestep)\n",
    "    #DDdiff.run_one_step(1)\n",
    "    print(x) \n",
    "\n"
   ]
  },
  {
   "cell_type": "code",
   "execution_count": null,
   "metadata": {},
   "outputs": [],
   "source": [
    "#Instantiate figure as empty plot\n",
    "figelev = plt.figure()\n",
    "\n",
    "#Instantiate subplot as empty plot\n",
    "plot = plt.subplot()\n",
    "\n",
    "#Create a topographic elevation plot that shows the elevation of the landscape in diff colors - using landlab utility imshow_grid\n",
    "imshow_grid(mg, 'topographic__elevation', plot_name='Topographic Elevation', var_name = 'Elevation', var_units=r'm', grid_units=('m', 'm'), cmap='terrain',color_for_background=None)\n"
   ]
  },
  {
   "cell_type": "markdown",
   "metadata": {},
   "source": [
    "saving grid to ascii\n"
   ]
  },
  {
   "cell_type": "code",
   "execution_count": null,
   "metadata": {},
   "outputs": [],
   "source": [
    "grid_fields_to_save = [\"topographic__elevation\", \"bedrock__elevation\", \"soil__depth\"]\n",
    "\n",
    "fname = r\"C:\\Users\\gsbir\\Documents\\EES_393\"  + \"\\\\Export\\\\\" + \"sample_topo2.txt\"\n",
    "\n",
    "write_esri_ascii(fname, mg, grid_fields_to_save)"
   ]
  },
  {
   "cell_type": "markdown",
   "metadata": {},
   "source": [
    "Running SPACE"
   ]
  },
  {
   "cell_type": "code",
   "execution_count": null,
   "metadata": {},
   "outputs": [],
   "source": [
    "\n",
    "space_years = np.arange(1,1000,10000)\n",
    "\n",
    "#run for 10 years\n",
    "for x in range(1000): \n",
    "    mg.at_node['bedrock__elevation'][mg.core_nodes] += uplift_per_timestep  #adding uplift to the bedrock\n",
    "    mg.at_node['topographic__elevation'][mg.core_nodes]+= uplift_per_timestep  #adding uplift to the bedrock\n",
    "    #mg.at_node[\"topographic__elevation\"][0] -= 0.001 # Uplift\n",
    "    \n",
    "    fr.run_one_step()\n",
    "    #fa.run_one_step()\n",
    "    #df.map_depressions()\n",
    "    sp.run_one_step(dt = timestep)\n",
    "    #DDdiff.run_one_step(1)\n",
    "    print(x) \n",
    "\n"
   ]
  },
  {
   "cell_type": "code",
   "execution_count": null,
   "metadata": {},
   "outputs": [],
   "source": [
    "#Instantiate figure as empty plot\n",
    "figelev = plt.figure()\n",
    "\n",
    "#Instantiate subplot as empty plot\n",
    "plot = plt.subplot()\n",
    "\n",
    "#Create a topographic elevation plot that shows the elevation of the landscape in diff colors - using landlab utility imshow_grid\n",
    "imshow_grid(mg, 'topographic__elevation', plot_name='Topographic Elevation', var_name = 'Elevation', var_units=r'm', grid_units=('m', 'm'), cmap='terrain',color_for_background=None)\n"
   ]
  },
  {
   "cell_type": "code",
   "execution_count": null,
   "metadata": {},
   "outputs": [],
   "source": [
    "prf = ChannelProfiler(mg,\n",
    "                      number_of_watersheds=1,\n",
    "                      main_channel_only=True,\n",
    "                      minimum_channel_threshold=node_spacing**2)\n",
    "\n",
    "prf.run_one_step()\n",
    "\n",
    "#Show the profile\n",
    "plt.figure(1)\n",
    "title_text = f\"$K_{{sp}}$={.001}; $time$={1000000} yr; $dx$={1000000} m\"\n",
    "prf.plot_profiles(xlabel='distance upstream (m)', ylabel='elevation (m)', title=title_text)"
   ]
  }
 ],
 "metadata": {
  "kernelspec": {
   "display_name": "Python 3 (ipykernel)",
   "language": "python",
   "name": "python3"
  },
  "language_info": {
   "codemirror_mode": {
    "name": "ipython",
    "version": 3
   },
   "file_extension": ".py",
   "mimetype": "text/x-python",
   "name": "python",
   "nbconvert_exporter": "python",
   "pygments_lexer": "ipython3",
   "version": "3.9.12"
  },
  "vscode": {
   "interpreter": {
    "hash": "f0af7f0a68121cf4db8c5c6aa3bf3c33af80f9ab950506efefed885bdbaceb43"
   }
  }
 },
 "nbformat": 4,
 "nbformat_minor": 2
}
