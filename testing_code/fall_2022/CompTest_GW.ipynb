{
 "cells": [
  {
   "cell_type": "code",
   "execution_count": 1,
   "metadata": {},
   "outputs": [],
   "source": [
    "#this is final one from spring 2022 \n",
    "\n",
    "import numpy as np #basic python library\n",
    "import matplotlib.pyplot as plt #For plotting results\n",
    "from matplotlib.pyplot import figure, legend, plot, show, title, xlabel, ylabel, ylim\n",
    "import cv2 \n",
    "import glob\n",
    "\n",
    "## Import Landlab components\n",
    "from landlab.components import DepressionFinderAndRouter #Pit filling\n",
    "from landlab.components import PriorityFloodFlowRouter #Flow routing\n",
    "from landlab.components import FlowAccumulator #FlowAccumulator \n",
    "from landlab.components import ChannelProfiler \n",
    "from landlab.components import SteepnessFinder\n",
    "from landlab.components import ChiFinder\n",
    "from landlab.components import GroundwaterDupuitPercolator\n",
    "\n",
    "#SPACE model\n",
    "from landlab.components import Space #SPACE model\n",
    "from landlab.components import SpaceLargeScaleEroder #basically SPACE 2.0 -- use this \n",
    "from landlab.components import FastscapeEroder #calculates the amount of erosion at each node\n",
    "from landlab.components import SinkFillerBarnes #replaces pits with shallow gradients for draining\n",
    "\n",
    "## Import Landlab utilities\n",
    "from landlab import RasterModelGrid #Grid utility\n",
    "from landlab import imshow_grid #For plotting results\n",
    "from landlab.io import read_esri_ascii #to read in an ascii file\n",
    "from landlab.io import read_asc_header #to read in the header of the ascii file\n",
    "\n",
    "%matplotlib inline\n"
   ]
  },
  {
   "cell_type": "code",
   "execution_count": 2,
   "metadata": {},
   "outputs": [
    {
     "ename": "TypeError",
     "evalue": "'FieldDataset' object is not callable",
     "output_type": "error",
     "traceback": [
      "\u001b[0;31m---------------------------------------------------------------------------\u001b[0m",
      "\u001b[0;31mTypeError\u001b[0m                                 Traceback (most recent call last)",
      "Cell \u001b[0;32mIn[2], line 45\u001b[0m\n\u001b[1;32m     43\u001b[0m \u001b[39m#add aquifer\u001b[39;00m\n\u001b[1;32m     44\u001b[0m mg\u001b[39m.\u001b[39madd_zeros(\u001b[39m\"\u001b[39m\u001b[39mnode\u001b[39m\u001b[39m\"\u001b[39m, \u001b[39m\"\u001b[39m\u001b[39maquifer_base__elevation\u001b[39m\u001b[39m\"\u001b[39m)\n\u001b[0;32m---> 45\u001b[0m mg\u001b[39m.\u001b[39;49mat_node(\u001b[39m\"\u001b[39;49m\u001b[39maquifer_base__elevation\u001b[39;49m\u001b[39m\"\u001b[39;49m)[:] \u001b[39m+\u001b[39m\u001b[39m=\u001b[39m mg\u001b[39m.\u001b[39mat_node[\u001b[39m\"\u001b[39m\u001b[39mbedrock__elevation\u001b[39m\u001b[39m\"\u001b[39m]\n\u001b[1;32m     46\u001b[0m mg\u001b[39m.\u001b[39madd_zeros(\u001b[39m'\u001b[39m\u001b[39mnode\u001b[39m\u001b[39m'\u001b[39m, \u001b[39m'\u001b[39m\u001b[39mwater_table__elevation\u001b[39m\u001b[39m'\u001b[39m) \n\u001b[1;32m     47\u001b[0m mg\u001b[39m.\u001b[39mat_node(\u001b[39m'\u001b[39m\u001b[39mwater_table__elevation\u001b[39m\u001b[39m'\u001b[39m)[:] \u001b[39m+\u001b[39m\u001b[39m=\u001b[39m mg\u001b[39m.\u001b[39mat_node[\u001b[39m\"\u001b[39m\u001b[39maquifer_base__elevation\u001b[39m\u001b[39m\"\u001b[39m] \u001b[39m+\u001b[39m \u001b[39m3\u001b[39m\n",
      "\u001b[0;31mTypeError\u001b[0m: 'FieldDataset' object is not callable"
     ]
    }
   ],
   "source": [
    "#Set grid parameters\n",
    "num_rows = 50\n",
    "num_columns = 50\n",
    "node_spacing = 10.00\n",
    "node_next_to_outlet = num_columns + 1\n",
    "outlet_node = 0 \n",
    "\n",
    "#Set Model Time Parameters\n",
    "timestep = 100.0\n",
    "run_time = 5000 #years\n",
    "\n",
    "uplift_rate = .001 # m/year\n",
    "uplift_per_timestep = uplift_rate * timestep\n",
    "\n",
    "#Instantiate model grid\n",
    "mg = RasterModelGrid((num_rows, num_columns), node_spacing)\n",
    "\n",
    "#Close all model boundary edges\n",
    "mg.set_closed_boundaries_at_grid_edges(bottom_is_closed=True,left_is_closed=True,right_is_closed=True,top_is_closed=True)\n",
    "mg.status_at_node[outlet_node] = mg.BC_NODE_IS_FIXED_VALUE\n",
    "\n",
    "#Add field 'soil__depth' to the grid\n",
    "mg.add_zeros('node', 'soil__depth')\n",
    "\n",
    "#Set 2 m of initial soil depth at core nodes\n",
    "mg.at_node['soil__depth'][:] = 2 #meters \n",
    "\n",
    "#topographic roughness\n",
    "#random_noise = np.random.rand(len(mg.node_y)) /1000 #impose topography values on model grid\n",
    "\n",
    "#Set constant random seed for consistent topographic roughness\n",
    "np.random.seed(seed = 5000)\n",
    "\n",
    "#Add field 'bedrock__elevation' to the grid\n",
    "mg.add_zeros(\"bedrock__elevation\", at=\"node\")\n",
    "\n",
    "#Sum 'soil__depth' and 'bedrock__elevation' to yield 'topographic elevation' \n",
    "#when u change spacing high\n",
    "\n",
    "mg.at_node[\"bedrock__elevation\"][:] += (mg.node_y * .00001 + mg.node_x * .00001 + np.random.rand(len(mg.node_y)) / 100) #cm scale rn \n",
    "mg.at_node[\"bedrock__elevation\"][outlet_node] = 0 # do this before the mg.at node stuff above\n",
    "\n",
    "#add aquifer\n",
    "mg.add_zeros(\"node\", \"aquifer_base__elevation\")\n",
    "mg.at_node(\"aquifer_base__elevation\")[:] += mg.at_node[\"bedrock__elevation\"]\n",
    "mg.add_zeros('node', 'water_table__elevation') \n",
    "mg.at_node('water_table__elevation')[:] += mg.at_node[\"aquifer_base__elevation\"] + 3\n",
    "\n",
    "#Add field ’topographic elevation’ to the grid\n",
    "mg.add_zeros('node', 'topographic__elevation')\n",
    "mg.at_node[\"topographic__elevation\"][:] += mg.at_node[\"bedrock__elevation\"]# + mg.at_node['soil__depth'][:]\n",
    "mg.at_node[\"topographic__elevation\"][:] += mg.at_node[\"soil__depth\"] + mg.at_node[\"water_table__elevation\"]\n",
    "#mg.at_node[\"topographic__elevation\"][:] += mg.at_node[\"soil__depth\"]\n",
    "\n",
    "#outlet_node = mg.set_watershed_boundary_condition_outlet_id(0,mg['node']['topographic__elevation'], -9999.)\n",
    "#mg.at_node['bedrock__elevation'][outlet_node] = 1 # do this before the mg.at node stuff above\n",
    "#outlet_node = mg.set_watershed_boundary_condition_outlet_id(0,mg['node']['topographic__elevation'], -9999.)\n",
    "\n",
    "mg.at_node['topographic__elevation'][outlet_node] = 0\n",
    "mg.at_node['soil__depth'][outlet_node] = 0\n",
    "mg.at_node['water_table__elevation'] = 0\n",
    "print(outlet_node)"
   ]
  },
  {
   "cell_type": "code",
   "execution_count": null,
   "metadata": {},
   "outputs": [],
   "source": [
    "#Parameters for SPACE and Fastscape\n",
    "K_sed = 0.0001\n",
    "K_sp = 0.001\n",
    "K_br = 0.0001 # depends on size of spatial scale #doubles it from .00001 to get it quicker\n",
    "F_f = 0.0\n",
    "phi = 0.0\n",
    "H_star = 1.0\n",
    "v_s = 5.0\n",
    "m_sp = 0.5\n",
    "n_sp = 1.0\n",
    "sp_crit_sed = 0\n",
    "sp_crit_br = 0\n",
    "\n",
    "#Instantiate the Flow accumulator\n",
    "fr = PriorityFloodFlowRouter(mg, flow_metric='D8', suppress_out = True)\n",
    "\n",
    "#Instantiate the Flow accumulator\n",
    "fa = FlowAccumulator(mg, flow_director='D8') \n",
    "\n",
    "#Instantiate the depressionfinder and router as df\n",
    "df = DepressionFinderAndRouter(mg,pits = 'flow__sink_flag', reroute_flow = True) \n",
    "\n",
    "#instantiate the fascape eroder as fsc \n",
    "fsc = FastscapeEroder(mg, K_sp, m_sp, n_sp)  \n",
    "\n",
    "#Instantiate SPACE model with chosen parameters as sp\n",
    "sp = SpaceLargeScaleEroder(mg, K_sed, K_br, F_f, phi, H_star, v_s, m_sp, n_sp, sp_crit_sed, sp_crit_br)\n",
    "\n",
    "#instantiate groundwater\n",
    "gdp = GroundwaterDupuitPercolator(mg, recharge_rate=1E-7)"
   ]
  },
  {
   "cell_type": "markdown",
   "metadata": {},
   "source": [
    "Plot of Topography (pre fastscape)"
   ]
  },
  {
   "cell_type": "code",
   "execution_count": null,
   "metadata": {},
   "outputs": [],
   "source": [
    "#Instantiate figure as empty plot\n",
    "figelev = plt.figure()\n",
    "\n",
    "#Instantiate subplot as empty plot\n",
    "plot = plt.subplot()\n",
    "\n",
    "#Create a topographic elevation plot that shows the elevation of the landscape in diff colors - using landlab utility imshow_grid\n",
    "imshow_grid(mg, 'topographic__elevation', plot_name='Topographic Elevation', var_name = 'Elevation', var_units=r'm', grid_units=('m', 'm'), cmap='terrain',color_for_background=None)\n"
   ]
  },
  {
   "cell_type": "markdown",
   "metadata": {},
   "source": [
    "Plot of Water Table (pre fastscape)"
   ]
  },
  {
   "cell_type": "code",
   "execution_count": null,
   "metadata": {},
   "outputs": [],
   "source": [
    "#Instantiate figure as empty plot\n",
    "figelev = plt.figure()\n",
    "\n",
    "#Instantiate subplot as empty plot\n",
    "plot = plt.subplot()\n",
    "\n",
    "#Create a topographic elevation plot that shows the elevation of the landscape in diff colors - using landlab utility imshow_grid\n",
    "imshow_grid(mg, 'water_table__elevation', plot_name='Water Table Elevation', var_name = 'Elevation', var_units=r'm', grid_units=('m', 'm'), cmap='terrain',color_for_background=None)\n"
   ]
  },
  {
   "cell_type": "markdown",
   "metadata": {},
   "source": [
    "Run Fastscape"
   ]
  },
  {
   "cell_type": "code",
   "execution_count": null,
   "metadata": {},
   "outputs": [],
   "source": [
    "#run for 10 years\n",
    "for x in range(run_time):\n",
    "    #core nodes are anything except outer boundary\n",
    "    mg.at_node['bedrock__elevation'][mg.core_nodes] += uplift_per_timestep  #adding uplift to the bedrock\n",
    "    mg.at_node['topographic__elevation'] = mg.at_node['bedrock__elevation'] + mg.at_node['soil__depth']  + mg.at_node['water_table__elevation']#changing the elevation to account for the uplift\n",
    "    #DONT ADD MG.CORE_NODES OR : AFTER TOPO ELEVATION\n",
    "    #mg.at_node[\"topographic__elevation\"][0]-= 0.001 # Uplift\n",
    "    #mg.at_node[\"bedrock__elevation\"][0]-= 0.001 # Uplift\n",
    "\n",
    "    if x ==1000:\n",
    "        figelev = plt.figure()\n",
    "        plot = plt.subplot()\n",
    "        imshow_grid(mg, 'topographic__elevation', plot_name='Topographic Elevation', var_name = 'Elevation', var_units=r'm', grid_units=('m', 'm'), cmap='terrain',color_for_background=None)\n",
    "    gdp.run_one_step()\n",
    "    fa.run_one_step()\n",
    "    df.map_depressions()\n",
    "    fsc.run_one_step(timestep)\n",
    "    print(x)\n",
    "\n",
    "    #looks like runtime is 1 minute every 10,000 years (or 100 x) with kbr = .00002"
   ]
  },
  {
   "cell_type": "markdown",
   "metadata": {},
   "source": [
    "Plot of Topography (post fastscape)"
   ]
  },
  {
   "cell_type": "code",
   "execution_count": null,
   "metadata": {},
   "outputs": [],
   "source": [
    "#Instantiate figure as empty plot\n",
    "figelev = plt.figure()\n",
    "\n",
    "#Instantiate subplot as empty plot\n",
    "plot = plt.subplot()\n",
    "\n",
    "#Create a topographic elevation plot that shows the elevation of the landscape in diff colors - using landlab utility imshow_grid\n",
    "imshow_grid(mg, 'topographic__elevation', plot_name='Topographic Elevation', var_name = 'Elevation', var_units=r'm', grid_units=('m', 'm'), cmap='terrain',color_for_background=None)"
   ]
  },
  {
   "cell_type": "markdown",
   "metadata": {},
   "source": [
    "Plot of Water Table (post fastscape)"
   ]
  },
  {
   "cell_type": "code",
   "execution_count": null,
   "metadata": {},
   "outputs": [],
   "source": [
    "#Instantiate figure as empty plot\n",
    "figelev = plt.figure()\n",
    "\n",
    "#Instantiate subplot as empty plot\n",
    "plot = plt.subplot()\n",
    "\n",
    "#Create a topographic elevation plot that shows the elevation of the landscape in diff colors - using landlab utility imshow_grid\n",
    "imshow_grid(mg, 'water_table__elevation', plot_name='Water Table Elevation', var_name = 'Elevation', var_units=r'm', grid_units=('m', 'm'), cmap='terrain',color_for_background=None)"
   ]
  }
 ],
 "metadata": {
  "kernelspec": {
   "display_name": "landlab_dev",
   "language": "python",
   "name": "python3"
  },
  "language_info": {
   "codemirror_mode": {
    "name": "ipython",
    "version": 3
   },
   "file_extension": ".py",
   "mimetype": "text/x-python",
   "name": "python",
   "nbconvert_exporter": "python",
   "pygments_lexer": "ipython3",
   "version": "3.10.8"
  },
  "orig_nbformat": 4,
  "vscode": {
   "interpreter": {
    "hash": "a70ac97c7442ac6328dc1488f55c7c72cd71eb5636777258989ac68eeb1b5f04"
   }
  }
 },
 "nbformat": 4,
 "nbformat_minor": 2
}
