{
 "cells": [
  {
   "cell_type": "markdown",
   "metadata": {},
   "source": [
    "These are all the imports from python libraries and landlab components"
   ]
  },
  {
   "cell_type": "code",
   "execution_count": 1,
   "metadata": {},
   "outputs": [],
   "source": [
    "import numpy as np\n",
    "import matplotlib.pyplot as plt #For plotting results; optional\n",
    "\n",
    "## Import Landlab components\n",
    "#Pit filling; optional\n",
    "from landlab.components import DepressionFinderAndRouter\n",
    "#Flow routing\n",
    "from landlab.components import FlowAccumulator #FlowAccumulator instead of FlowRouter--- router is a deprecated component for landlab\n",
    "#from landlab.components.flow_accum.flow_accumulator import FlowAccumulator\n",
    "from landlab.components import PriorityFloodFlowRouter\n",
    "#SPACE model\n",
    "from landlab.components import Space #SPACE model\n",
    "from landlab.components import FastscapeEroder \n",
    "\n",
    "## Import Landlab utilities\n",
    "from landlab import RasterModelGrid #Grid utility\n",
    "from landlab import imshow_grid #For plotting results; optional\n",
    "from landlab.io import read_esri_ascii\n",
    "%matplotlib inline"
   ]
  },
  {
   "cell_type": "markdown",
   "metadata": {},
   "source": [
    "This section is for setting up the parameters of the Raster Model grid"
   ]
  },
  {
   "cell_type": "code",
   "execution_count": 2,
   "metadata": {},
   "outputs": [],
   "source": [
    "#Set grid parameters\n",
    "num_rows = 20\n",
    "num_columns = 20\n",
    "node_spacing = 100.0\n",
    "\n",
    "#Instantiate model grid\n",
    "mg = RasterModelGrid((num_rows, num_columns), node_spacing)\n",
    "#Add field ’topographic elevation’ to the grid\n",
    "mg.add_zeros('node', 'topographic__elevation')\n",
    "#Set constant random seed for consistent topographic roughness\n",
    "np.random.seed(seed = 5000)\n",
    "\n",
    "\n",
    "## Create initial model topography\n",
    "#plane tilted towards the lower−left corner\n",
    "topo = mg.node_y/100000 + mg.node_x/100000\n",
    "\n",
    "#topographic roughness\n",
    "random_noise = np.random.rand(len(mg.node_y)) /1000 #impose topography values on model grid\n",
    "mg['node']['topographic__elevation'] += (topo + random_noise) \n",
    "\n",
    "#Add field 'soil__depth' to the grid\n",
    "mg.add_zeros('node', 'soil__depth')\n",
    "\n",
    "\n",
    "#Set 2 m of initial soil depth at core nodes\n",
    "mg.at_node['soil__depth'][mg.core_nodes] = 2.0 #meters \n",
    "\n",
    "#Add field 'bedrock__elevation' to the grid\n",
    "mg.add_zeros('bedrock__elevation', at='node')\n",
    "\n",
    "#Sum 'soil__depth' and 'bedrock__elevation'\n",
    "#to yield 'topographic elevation'\n",
    "mg.at_node['bedrock__elevation'][:] = mg.at_node['topographic__elevation'] \n",
    "mg.at_node['topographic__elevation'][:] += mg.at_node['soil__depth']\n"
   ]
  },
  {
   "cell_type": "markdown",
   "metadata": {},
   "source": [
    "This section is to set the boundaries of the grid"
   ]
  },
  {
   "cell_type": "code",
   "execution_count": 3,
   "metadata": {},
   "outputs": [],
   "source": [
    "#Close all model boundary edges\n",
    "mg.set_closed_boundaries_at_grid_edges(bottom_is_closed=True,\n",
    "                                       left_is_closed=True,\n",
    "                                       right_is_closed=True,\n",
    "                                       top_is_closed=True)\n",
    "\n",
    "#Set lower-left (southwest) corner as an open boundary\n",
    "mg.set_watershed_boundary_condition_outlet_id(0,mg['node']['topographic__elevation'], -9999.)\n"
   ]
  },
  {
   "cell_type": "markdown",
   "metadata": {},
   "source": []
  },
  {
   "cell_type": "code",
   "execution_count": 6,
   "metadata": {},
   "outputs": [],
   "source": [
    "#Instantiate flow router\n",
    "fr = FlowAccumulator(mg, flow_director='D8')        #changed this to FlowAccumulator\n",
    "#flow_director='D8' was previously a parameter of the above function call\n",
    "#Instantiate depression finder and router; optional\n",
    "df = DepressionFinderAndRouter(mg)\n",
    "#fr = PriorityFloodFlowRouter(mg, separate_hill_flow = True, suppress_out = True)\n",
    "\n",
    "#Instantiate SPACE model with chosen parameters    , method='simple_stream_power'\n",
    "sp = Space(mg, K_sed=0.01, K_br=0.001, F_f=0., phi=0., H_star=1., v_s=5.0, m_sp=0.5, n_sp=1.0, sp_crit_sed=0, sp_crit_br=0)"
   ]
  },
  {
   "cell_type": "markdown",
   "metadata": {},
   "source": []
  },
  {
   "cell_type": "code",
   "execution_count": 21,
   "metadata": {},
   "outputs": [],
   "source": [
    "#Set model timestep\n",
    "timestep = 1.0 #years\n",
    "\n",
    "#Set elapsed time to zero\n",
    "elapsed_time = 0 #years\n",
    "\n",
    "#Set timestep count to zero\n",
    "#count = 0\n",
    "\n",
    "#Set model run time\n",
    "run_time = 500 #years\n",
    "\n",
    "#Array to save sediment flux values\n",
    "#sed_flux = np.zeros(int(run_time // timestep))\n",
    "sed_flux = [0] * int(500)                                       ###added this instead of the previous line\n",
    "while elapsed_time < run_time: #time units of years\n",
    "    #Run the flow router\n",
    "    fr.run_one_step()\n",
    "    \n",
    "    #Run the depression finder and router; optional\n",
    "    df.map_depressions()\n",
    "    \n",
    "    #Get list of nodes in depressions; only\n",
    "    #used if using DepressionFinderAndRouter\n",
    "    flooded = np.where(df.flood_status==3)[0]\n",
    "    sp.run_one_step(dt = timestep) #had to delete flooded_nodes=flooded\n",
    "    #print(mg.at_node['sediment__flux'])\n",
    "    #temp = mg.at_node['sediment__flux'][:]\n",
    "    #temp = sum(mg.at_node['sediment__flux'][:])\n",
    "    #sed_flux[count] = temp\n",
    "    #print(sed_flux[count])\n",
    "\n",
    "    sed_flux[:] = mg.at_node['sediment__flux']\n",
    "\n",
    "    #sed_flux[count] = mg.at_node['topographic__elevation']\n",
    "    #Save sediment flux value to array\n",
    "    #sed_flux[count] = mg.at_node['sediment__flux'][0]\n",
    "    #Add to value of elapsed time\n",
    "    elapsed_time += timestep\n",
    "    \n",
    "    #Increase timestep count\n",
    "    #count += 1"
   ]
  },
  {
   "cell_type": "markdown",
   "metadata": {},
   "source": []
  },
  {
   "cell_type": "code",
   "execution_count": 22,
   "metadata": {},
   "outputs": [
    {
     "data": {
      "image/png": "[encoded data removed]",
      "text/plain": [
       "<Figure size 432x288 with 2 Axes>"
      ]
     },
     "metadata": {
      "needs_background": "light"
     },
     "output_type": "display_data"
    }
   ],
   "source": [
    "#Instantiate figure\n",
    "fig = plt.figure()\n",
    "\n",
    "#Instantiate subplot\n",
    "plot = plt.subplot()\n",
    "\n",
    "#Show sediment flux map\n",
    "imshow_grid(mg, 'sediment__flux', plot_name='Sediment flux', var_name = 'Sediment flux', var_units=r'm$^3$/yr', grid_units=('m', 'm'), cmap='terrain')"
   ]
  },
  {
   "cell_type": "markdown",
   "metadata": {},
   "source": []
  },
  {
   "cell_type": "code",
   "execution_count": 23,
   "metadata": {},
   "outputs": [
    {
     "data": {
      "image/png": "[encoded data removed]",
      "text/plain": [
       "<Figure size 432x288 with 2 Axes>"
      ]
     },
     "metadata": {
      "needs_background": "light"
     },
     "output_type": "display_data"
    }
   ],
   "source": [
    "#Instantiate figure\n",
    "fig = plt.figure()\n",
    "\n",
    "#Instantiate subplot\n",
    "plot = plt.subplot()\n",
    "\n",
    "#Show sediment flux map\n",
    "imshow_grid(mg, 'topographic__elevation', plot_name='Topographic Elevation', var_name = 'Elevation', var_units=r'm', grid_units=('m', 'm'), cmap='terrain')"
   ]
  },
  {
   "cell_type": "code",
   "execution_count": 24,
   "metadata": {},
   "outputs": [],
   "source": [
    "#Export figure to image\n",
    "fig.savefig('sediment_flux_map.eps')"
   ]
  },
  {
   "cell_type": "code",
   "execution_count": 25,
   "metadata": {},
   "outputs": [
    {
     "data": {
      "text/plain": [
       "Text(0, 0.5, 'Sediment flux [m$^3$/yr]')"
      ]
     },
     "execution_count": 25,
     "metadata": {},
     "output_type": "execute_result"
    },
    {
     "data": {
      "image/png": "[encoded data removed]",
      "text/plain": [
       "<Figure size 432x288 with 1 Axes>"
      ]
     },
     "metadata": {
      "needs_background": "light"
     },
     "output_type": "display_data"
    }
   ],
   "source": [
    "#Instantiate figure\n",
    "fig = plt.figure()\n",
    "\n",
    "#Instantiate subplot\n",
    "sedfluxplot = plt.subplot()\n",
    "\n",
    "#Plot data\n",
    "sedfluxplot.plot(np.arange(400),sed_flux, color = 'k', linewidth = 3) ###Changed the arange(_) value from 500 to 400\n",
    "#Add axis labels\n",
    "sedfluxplot.set_title('Sedimentograph')\n",
    "sedfluxplot.set_xlabel('Time [yr]')\n",
    "sedfluxplot.set_ylabel(r'Sediment flux [m$^3$/yr]')"
   ]
  },
  {
   "cell_type": "code",
   "execution_count": 26,
   "metadata": {},
   "outputs": [],
   "source": [
    "#Export figure to image\n",
    "fig.savefig('sedimentograph.eps')"
   ]
  }
 ],
 "metadata": {
  "language_info": {
   "name": "python"
  },
  "orig_nbformat": 4
 },
 "nbformat": 4,
 "nbformat_minor": 2
}
