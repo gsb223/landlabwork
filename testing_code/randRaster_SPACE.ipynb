{
 "cells": [
  {
   "cell_type": "markdown",
   "metadata": {},
   "source": [
    "Imports"
   ]
  },
  {
   "cell_type": "code",
   "execution_count": 78,
   "metadata": {},
   "outputs": [],
   "source": [
    "import numpy as np #basic python library\n",
    "import matplotlib.pyplot as plt #For plotting results\n",
    "from matplotlib.pyplot import figure, legend, plot, show, title, xlabel, ylabel, ylim\n",
    "import cv2 \n",
    "import glob\n",
    "\n",
    "## Import Landlab components\n",
    "from landlab.components import DepressionFinderAndRouter #Pit filling\n",
    "from landlab.components import PriorityFloodFlowRouter #Flow routing\n",
    "from landlab.components import FlowAccumulator #FlowAccumulator \n",
    "from landlab.components import ChannelProfiler \n",
    "from landlab.components import SteepnessFinder\n",
    "from landlab.components import ChiFinder\n",
    "\n",
    "#SPACE model\n",
    "from landlab.components import Space #SPACE model\n",
    "from landlab.components import SpaceLargeScaleEroder #basically SPACE 2.0 -- use this \n",
    "from landlab.components import FastscapeEroder #calculates the amount of erosion at each node\n",
    "from landlab.components import StreamPowerEroder\n",
    "from landlab.components import SinkFillerBarnes #replaces pits with shallow gradients for draining\n",
    "\n",
    "## Import Landlab utilities\n",
    "from landlab import RasterModelGrid #Grid utility\n",
    "from landlab import imshow_grid #For plotting results\n",
    "from landlab.io import read_esri_ascii #to read in an ascii file\n",
    "from landlab.io import read_asc_header #to read in the header of the ascii file\n",
    "\n",
    "%matplotlib inline"
   ]
  },
  {
   "cell_type": "markdown",
   "metadata": {},
   "source": [
    "Setting up the Raster Model "
   ]
  },
  {
   "cell_type": "code",
   "execution_count": 79,
   "metadata": {},
   "outputs": [],
   "source": [
    "#Set grid parameters\n",
    "num_rows = 20\n",
    "num_columns = 20\n",
    "node_spacing = 2.00\n",
    "node_next_to_outlet = num_columns + 1\n",
    "\n",
    "\n",
    "#Set Model Time Parameters for Space\n",
    "timestep = 100\n",
    "run_time = 1000000 #years\n",
    "sp_interval = 1\n",
    "\n",
    "uplift_rate = .001 # m/year\n",
    "uplift_per_timestep = uplift_rate * timestep\n",
    "\n",
    "#Instantiate model grid\n",
    "mg = RasterModelGrid((num_rows, num_columns), node_spacing)\n",
    "\n",
    "#Set constant random seed for consistent topographic roughness\n",
    "np.random.seed(seed = 5000)\n",
    "\n",
    "#Add field ’topographic elevation’ to the grid\n",
    "mg.add_zeros('node', 'topographic__elevation')\n",
    "\n",
    "#topographic roughness\n",
    "random_noise = np.random.rand(len(mg.node_y)) /1000 #impose topography values on model grid\n",
    "\n",
    "\n",
    "#Add field 'soil__depth' to the grid\n",
    "mg.add_zeros('node', 'soil__depth')\n",
    "\n",
    "#Set 2 m of initial soil depth at core nodes\n",
    "mg.at_node['soil__depth'][mg.core_nodes] = 2.0 #meters \n",
    "\n",
    "#Add field 'bedrock__elevation' to the grid\n",
    "mg.add_zeros('bedrock__elevation', at='node')\n",
    "\n",
    "#Sum 'soil__depth' and 'bedrock__elevation' to yield 'topographic elevation'\n",
    "mg.at_node[\"topographic__elevation\"] += (mg.node_y / 10. + mg.node_x / 10. + np.random.rand(len(mg.node_y)) / 10.0)\n",
    "\n",
    "#topo = mg.node_y/100000 + mg.node_x/100000\n",
    "\n",
    "#topographic roughness\n",
    "#random_noise = np.random.rand(len(mg.node_y)) /1000 #impose topography values on model grid\n",
    "#mg['node']['topographic__elevation'] += (topo + random_noise) \n",
    "\n",
    "\n",
    "#mg.at_node[\"topographic__elevation\"][:] = mg.at_node[\"bedrock__elevation\"]\n",
    "mg.at_node[\"bedrock__elevation\"][:] = mg.at_node[\"topographic__elevation\"] - mg.at_node[\"soil__depth\"]\n",
    "#mg.at_node[\"topographic__elevation\"][:] += mg.at_node[\"soil__depth\"]\n",
    "\n"
   ]
  },
  {
   "cell_type": "markdown",
   "metadata": {},
   "source": [
    "Setting Boundary Conditions of the Model Grid"
   ]
  },
  {
   "cell_type": "code",
   "execution_count": 80,
   "metadata": {},
   "outputs": [
    {
     "name": "stdout",
     "output_type": "stream",
     "text": [
      "None\n"
     ]
    }
   ],
   "source": [
    "#Close all model boundary edges\n",
    "mg.set_closed_boundaries_at_grid_edges(bottom_is_closed=True,left_is_closed=True,right_is_closed=True,top_is_closed=True)\n",
    "outlet_node = mg.set_watershed_boundary_condition_outlet_id(0,mg['node']['topographic__elevation'], -9999.)\n",
    "print(outlet_node)\n"
   ]
  },
  {
   "cell_type": "markdown",
   "metadata": {},
   "source": [
    "Instantiate the Components"
   ]
  },
  {
   "cell_type": "markdown",
   "metadata": {},
   "source": []
  },
  {
   "cell_type": "code",
   "execution_count": 81,
   "metadata": {},
   "outputs": [],
   "source": [
    "#Parameters for SPACE and Fastscape\n",
    "K_sed = 0.01\n",
    "K_sp = 0.001\n",
    "K_br = 0.001\n",
    "F_f = 0.0\n",
    "phi = 0.0\n",
    "H_star = 1.0\n",
    "v_s = 5.0\n",
    "m_sp = 0.5\n",
    "n_sp = 1.0\n",
    "sp_crit_sed = 0\n",
    "sp_crit_br = 0\n",
    "\n",
    "#Instantiate the Flow accumulator\n",
    "fr = PriorityFloodFlowRouter(mg, flow_metric='D8', suppress_out = True)\n",
    "\n",
    "#Instantiate the Flow accumulator\n",
    "fa = FlowAccumulator(mg, flow_director='D8') \n",
    "\n",
    "#Instantiate the depressionfinder and router as df\n",
    "df = DepressionFinderAndRouter(mg,pits = 'flow__sink_flag', reroute_flow = True) \n",
    "\n",
    "#instantiate the fascape eroder as fsc \n",
    "fsc = FastscapeEroder(mg, K_sp, m_sp, n_sp)  \n",
    "\n",
    "#Instantiate SPACE model with chosen parameters as sp\n",
    "spe = SpaceLargeScaleEroder(mg, K_sed, K_br, F_f, phi, H_star, v_s, m_sp, n_sp, sp_crit_sed, sp_crit_br)\n",
    "sp = Space(mg, K_sed, K_br, F_f, phi, H_star, v_s, m_sp, n_sp, sp_crit_sed, sp_crit_br)\n",
    "\n",
    "#spe = StreamPowerEroder(mg, K_sp = K_sp)\n",
    "\n"
   ]
  },
  {
   "cell_type": "code",
   "execution_count": 82,
   "metadata": {},
   "outputs": [
    {
     "data": {
      "image/png": "[encoded data removed]",
      "text/plain": [
       "<Figure size 432x288 with 2 Axes>"
      ]
     },
     "metadata": {
      "needs_background": "light"
     },
     "output_type": "display_data"
    }
   ],
   "source": [
    "#Instantiate figure as empty plot\n",
    "figelev = plt.figure()\n",
    "\n",
    "#Instantiate subplot as empty plot\n",
    "plot = plt.subplot()\n",
    "\n",
    "#Create a topographic elevation plot that shows the elevation of the landscape in diff colors - using landlab utility imshow_grid\n",
    "imshow_grid(mg, 'topographic__elevation', plot_name='Topographic Elevation', var_name = 'Elevation', var_units=r'm', grid_units=('m', 'm'), cmap='terrain',color_for_background=None)"
   ]
  },
  {
   "cell_type": "markdown",
   "metadata": {},
   "source": [
    "remember: need to run fascape-- probably for like 100000 years to create the initial topography until it reaches the steady state \n",
    "\n",
    "also need to create a function to fine where to start collecting the sed_flux values"
   ]
  },
  {
   "cell_type": "markdown",
   "metadata": {},
   "source": [
    "Using Fastspace Bring the Model to steady state"
   ]
  },
  {
   "cell_type": "markdown",
   "metadata": {},
   "source": []
  },
  {
   "cell_type": "code",
   "execution_count": 83,
   "metadata": {},
   "outputs": [
    {
     "name": "stdout",
     "output_type": "stream",
     "text": [
      "0\n",
      "space0\n",
      "0\n",
      "1\n",
      "2\n",
      "3\n",
      "4\n",
      "5\n",
      "6\n",
      "7\n",
      "8\n",
      "9\n",
      "10\n",
      "10\n",
      "11\n",
      "12\n",
      "13\n",
      "14\n",
      "15\n",
      "16\n",
      "17\n",
      "18\n",
      "19\n",
      "20\n",
      "20\n",
      "21\n",
      "22\n",
      "23\n",
      "24\n",
      "25\n",
      "space25\n",
      "26\n",
      "27\n",
      "28\n",
      "29\n",
      "30\n",
      "30\n",
      "31\n",
      "32\n",
      "33\n",
      "34\n",
      "35\n",
      "36\n",
      "37\n",
      "38\n",
      "39\n",
      "40\n",
      "40\n",
      "41\n",
      "42\n",
      "43\n",
      "44\n",
      "45\n",
      "46\n",
      "47\n",
      "48\n",
      "49\n",
      "50\n",
      "space50\n",
      "50\n",
      "51\n",
      "52\n",
      "53\n",
      "54\n",
      "55\n",
      "56\n",
      "57\n",
      "58\n",
      "59\n",
      "60\n",
      "60\n",
      "61\n",
      "62\n",
      "63\n",
      "64\n",
      "65\n",
      "66\n",
      "67\n",
      "68\n",
      "69\n",
      "70\n",
      "70\n",
      "71\n",
      "72\n",
      "73\n",
      "74\n",
      "75\n",
      "space75\n",
      "76\n",
      "77\n",
      "78\n",
      "79\n",
      "80\n",
      "80\n",
      "81\n",
      "82\n",
      "83\n",
      "84\n",
      "85\n",
      "86\n",
      "87\n",
      "88\n",
      "89\n",
      "90\n",
      "90\n",
      "91\n",
      "92\n",
      "93\n",
      "94\n",
      "95\n",
      "96\n",
      "97\n",
      "98\n",
      "99\n",
      "100\n",
      "101\n",
      "102\n",
      "103\n",
      "104\n",
      "105\n",
      "106\n",
      "107\n",
      "108\n",
      "109\n",
      "110\n",
      "111\n",
      "112\n",
      "113\n",
      "114\n",
      "115\n",
      "116\n",
      "117\n",
      "118\n",
      "119\n",
      "120\n",
      "121\n",
      "122\n",
      "123\n",
      "124\n",
      "125\n",
      "126\n",
      "127\n",
      "128\n",
      "129\n",
      "130\n",
      "131\n",
      "132\n",
      "133\n",
      "134\n",
      "135\n",
      "136\n",
      "137\n",
      "138\n",
      "139\n",
      "140\n",
      "141\n",
      "142\n",
      "143\n",
      "144\n",
      "145\n",
      "146\n",
      "147\n",
      "148\n",
      "149\n",
      "150\n",
      "151\n",
      "152\n",
      "153\n",
      "154\n",
      "155\n",
      "156\n",
      "157\n",
      "158\n",
      "159\n",
      "160\n",
      "161\n",
      "162\n",
      "163\n",
      "164\n",
      "165\n",
      "166\n",
      "167\n",
      "168\n",
      "169\n",
      "170\n",
      "171\n",
      "172\n",
      "173\n",
      "174\n",
      "175\n",
      "176\n",
      "177\n",
      "178\n",
      "179\n",
      "180\n",
      "181\n",
      "182\n",
      "183\n",
      "184\n",
      "185\n",
      "186\n",
      "187\n",
      "188\n",
      "189\n",
      "190\n",
      "191\n",
      "192\n",
      "193\n",
      "194\n",
      "195\n",
      "196\n",
      "197\n",
      "198\n",
      "199\n"
     ]
    }
   ],
   "source": [
    "sp_fsc_yrs = np.arange(0, 100, 25) #for every 5 million yrs space will run for 10 years\n",
    "fsc_img_interval = np.arange(0, 100, 10) #creates a numpy array with numbers in the interval of 1000 between 1 and the 100000\n",
    "fsc_timestep = 100\n",
    "fsc_uplift_rate = .001\n",
    "fsc_tot_uplift = fsc_timestep*fsc_uplift_rate #total uplift per timestep\n",
    "\n",
    "#run for 45 million years \n",
    "for x in range(200): #actually do for 450000 in final model\n",
    "    #mg.at_node['bedrock__elevation'][:] += uplift_per_timestep  #adding uplift to the bedrock\n",
    "    #mg.at_node['topographic__elevation'][:]= mg.at_node['bedrock__elevation'] + mg.at_node['soil__depth'] #changing the elevation to account for the uplift\n",
    "    print(x)\n",
    "\n",
    "    if x in sp_fsc_yrs:\n",
    "        print(\"space\" + str(x))\n",
    "        fa.run_one_step()\n",
    "        df.map_depressions()\n",
    "        fsc.run_one_step(90)\n",
    "        #then run space for 10 years\n",
    "        for z in range(10):\n",
    "            fr.run_one_step()\n",
    "            spe.run_one_step(dt = 1) \n",
    "            mg.at_node['bedrock__elevation'][0]-= fsc_uplift_rate  #adding uplift to the bedrock\n",
    "            mg.at_node['topographic__elevation'][0]-= mg.at_node['bedrock__elevation'][0] - mg.at_node['soil__depth'][0] #changing the elevation to account for the uplift\n",
    "    \n",
    "            #mg.at_node[\"topographic__elevation\"][0]-= 0.001 # Uplift\n",
    "            #mg.at_node[\"bedrock__elevation\"][0]-= 0.001 # Uplift\n",
    "    else: \n",
    "        fa.run_one_step()\n",
    "        df.map_depressions()\n",
    "        fsc.run_one_step(100)\n",
    "\n",
    "    if x in fsc_img_interval: #then get an image\n",
    "        print(x)\n",
    "        #Instantiate figure as empty plot\n",
    "        fig = plt.figure()\n",
    "        #Instantiate subplot as empty plot\n",
    "        plot= plt.subplot()\n",
    "        #Create a topographic elevation plot that shows the elevation of the landscape in diff colors - using landlab utility imshow_grid\n",
    "        imshow_grid(mg,\"topographic__elevation\", plot_name='Topographic Elevation', var_name = 'Elevation', var_units=r'm', grid_units=('m', 'm'), cmap='terrain',color_for_background=None)\n",
    "        fig.savefig(\"fsc_topo_images/fsc_topo_\" + str(x) + \".png\")\n",
    "        plt.close()\n",
    "        \n",
    "    mg.at_node['bedrock__elevation'][0]-= fsc_tot_uplift  #adding uplift to the bedrock\n",
    "    mg.at_node['topographic__elevation'][0] = mg.at_node['bedrock__elevation'][0] - mg.at_node['soil__depth'][0] #changing the elevation to account for the uplift\n",
    "\n",
    "    "
   ]
  },
  {
   "cell_type": "markdown",
   "metadata": {},
   "source": [
    "fsc_img_interval = np.arange(500000, 30000000, 500000) #creates a numpy array with numbers in the interval of 1000 between 1 and the 100000\n",
    "#run for 5 million years\n",
    "fsc_tot_time = 30000000\n",
    "fsc_elapsed_time = 0\n",
    "fsc_timestep = 100\n",
    "fsc_steps = fsc_tot_time / fsc_timestep\n",
    "\n",
    "while fsc_elapsed_time < fsc_tot_time:\n",
    "    fa.run_one_step()\n",
    "    df.map_depressions()\n",
    "    fsc.run_one_step(dt = fsc_timestep)\n",
    "\n",
    "    if fsc_elapsed_time in fsc_img_interval: #if you are at the correct interval to retrieve a photo from \n",
    "        print(fsc_elapsed_time)\n",
    "        #Instantiate figure as empty plot\n",
    "        fig = plt.figure()\n",
    "        #Instantiate subplot as empty plot\n",
    "        plot= plt.subplot()\n",
    "        #Create a topographic elevation plot that shows the elevation of the landscape in diff colors - using landlab utility imshow_grid\n",
    "        imshow_grid(mg,\"topographic__elevation\", plot_name='Topographic Elevation', var_name = 'Elevation', var_units=r'm', grid_units=('m', 'm'), cmap='terrain',color_for_background=None)\n",
    "        fig.savefig(\"fsc_topo_images/fsc_topo_\" + str(fsc_elapsed_time) + \".png\")\n",
    "        plt.close()\n",
    "        \n",
    "    fsc_elapsed_time += fsc_timestep\n",
    "    \n",
    "    mg.at_node[\"bedrock__elevation\"][0] -= 0.001 # Uplift\n",
    "    mg.at_node[\"topographic__elevation\"][0] -= 0.001 #add uplift\n",
    "\n",
    "\n",
    "\n",
    "\n",
    "\n",
    "    "
   ]
  },
  {
   "cell_type": "code",
   "execution_count": 84,
   "metadata": {},
   "outputs": [],
   "source": [
    "#produce the video with all of the pngs\n",
    "fsc_topo_image_list = []\n",
    "fsc_topo_size = None\n",
    "for file in glob.glob('fsc_topo_images/*.png'):\n",
    "    img = cv2.imread(file)\n",
    "    height, width, layers = img.shape\n",
    "    fsc_topo_size = (width, height)\n",
    "    fsc_topo_image_list.append(img)\n",
    "\n",
    "fsc_topo_out = cv2.VideoWriter('fsc_topo_video.mp4',cv2.VideoWriter_fourcc(*'DIVX'), 15, fsc_topo_size)\n",
    "for i in range(len(fsc_topo_image_list)):\n",
    "    fsc_topo_out.write(fsc_topo_image_list[i])\n",
    "fsc_topo_out.release()"
   ]
  },
  {
   "cell_type": "markdown",
   "metadata": {},
   "source": [
    "Show the Topographic Elevation"
   ]
  },
  {
   "cell_type": "code",
   "execution_count": 85,
   "metadata": {},
   "outputs": [
    {
     "data": {
      "image/png": "[encoded data removed]",
      "text/plain": [
       "<Figure size 432x288 with 2 Axes>"
      ]
     },
     "metadata": {
      "needs_background": "light"
     },
     "output_type": "display_data"
    }
   ],
   "source": [
    "#Instantiate figure as empty plot\n",
    "figelev = plt.figure()\n",
    "\n",
    "#Instantiate subplot as empty plot\n",
    "plot = plt.subplot()\n",
    "\n",
    "#Create a topographic elevation plot that shows the elevation of the landscape in diff colors - using landlab utility imshow_grid\n",
    "imshow_grid(mg, 'topographic__elevation', plot_name='Topographic Elevation', var_name = 'Elevation', var_units=r'm', grid_units=('m', 'm'), cmap='terrain',color_for_background=None)"
   ]
  },
  {
   "cell_type": "code",
   "execution_count": 86,
   "metadata": {},
   "outputs": [
    {
     "name": "stderr",
     "output_type": "stream",
     "text": [
      "C:\\Users\\gsbir\\AppData\\Local\\Temp\\ipykernel_21592\\2872523809.py:11: UserWarning: Matplotlib is currently using module://matplotlib_inline.backend_inline, which is a non-GUI backend, so cannot show the figure.\n",
      "  prof_plot.show()\n"
     ]
    },
    {
     "data": {
      "image/png": "[encoded data removed]",
      "text/plain": [
       "<Figure size 432x288 with 1 Axes>"
      ]
     },
     "metadata": {
      "needs_background": "light"
     },
     "output_type": "display_data"
    }
   ],
   "source": [
    "#make channel profile\n",
    "prf = ChannelProfiler(mg,number_of_watersheds=1,main_channel_only=True,minimum_channel_threshold=node_spacing**2)\n",
    "\n",
    "prf.run_one_step()\n",
    "\n",
    "        #Show the profile\n",
    "prof_plot=plt.figure(1)\n",
    "title_text = f\"$K_{{sp}}$={.001}; $time$={450000} yr; $dx$={timestep} m\"\n",
    "prf.plot_profiles(xlabel='distance upstream (m)', ylabel='elevation (m)', title=title_text)\n",
    "prof_plot.savefig(\"prof_images/profile_\" + str(450000) + \".png\")\n",
    "prof_plot.show()"
   ]
  },
  {
   "cell_type": "markdown",
   "metadata": {},
   "source": [
    "Run the Model"
   ]
  },
  {
   "cell_type": "code",
   "execution_count": 87,
   "metadata": {},
   "outputs": [
    {
     "name": "stdout",
     "output_type": "stream",
     "text": [
      "10000\n",
      "20000\n",
      "30000\n",
      "40000\n",
      "50000\n",
      "60000\n",
      "70000\n",
      "80000\n"
     ]
    },
    {
     "ename": "ValueError",
     "evalue": "The number of watersheds requested by the ChannelProfiler is greater than the number in the domain with channel_definition_field area. [ 0.]",
     "output_type": "error",
     "traceback": [
      "\u001b[1;31m---------------------------------------------------------------------------\u001b[0m",
      "\u001b[1;31mValueError\u001b[0m                                Traceback (most recent call last)",
      "\u001b[1;32mc:\\Users\\gsbir\\Documents\\GitHub\\landlabwork\\testing_code\\randRaster_SPACE.ipynb Cell 21'\u001b[0m in \u001b[0;36m<cell line: 22>\u001b[1;34m()\u001b[0m\n\u001b[0;32m     <a href='vscode-notebook-cell:/c%3A/Users/gsbir/Documents/GitHub/landlabwork/testing_code/randRaster_SPACE.ipynb#ch0000019?line=74'>75</a>\u001b[0m plt\u001b[39m.\u001b[39mclose()\n\u001b[0;32m     <a href='vscode-notebook-cell:/c%3A/Users/gsbir/Documents/GitHub/landlabwork/testing_code/randRaster_SPACE.ipynb#ch0000019?line=76'>77</a>\u001b[0m \u001b[39m#make channel profile\u001b[39;00m\n\u001b[1;32m---> <a href='vscode-notebook-cell:/c%3A/Users/gsbir/Documents/GitHub/landlabwork/testing_code/randRaster_SPACE.ipynb#ch0000019?line=77'>78</a>\u001b[0m prf \u001b[39m=\u001b[39m ChannelProfiler(mg,number_of_watersheds\u001b[39m=\u001b[39;49m\u001b[39m1\u001b[39;49m,main_channel_only\u001b[39m=\u001b[39;49m\u001b[39mTrue\u001b[39;49;00m,minimum_channel_threshold\u001b[39m=\u001b[39;49mnode_spacing\u001b[39m*\u001b[39;49m\u001b[39m*\u001b[39;49m\u001b[39m2\u001b[39;49m)\n\u001b[0;32m     <a href='vscode-notebook-cell:/c%3A/Users/gsbir/Documents/GitHub/landlabwork/testing_code/randRaster_SPACE.ipynb#ch0000019?line=79'>80</a>\u001b[0m prf\u001b[39m.\u001b[39mrun_one_step()\n\u001b[0;32m     <a href='vscode-notebook-cell:/c%3A/Users/gsbir/Documents/GitHub/landlabwork/testing_code/randRaster_SPACE.ipynb#ch0000019?line=81'>82</a>\u001b[0m \u001b[39m#Show the profile\u001b[39;00m\n",
      "File \u001b[1;32mc:\\users\\gsbir\\documents\\github\\landlab\\landlab\\components\\profiler\\channel_profiler.py:605\u001b[0m, in \u001b[0;36mChannelProfiler.__init__\u001b[1;34m(self, grid, channel_definition_field, number_of_watersheds, minimum_outlet_threshold, main_channel_only, outlet_nodes, minimum_channel_threshold, cmap)\u001b[0m\n\u001b[0;32m    <a href='file:///c%3A/users/gsbir/documents/github/landlab/landlab/components/profiler/channel_profiler.py?line=601'>602</a>\u001b[0m     bad_wshed \u001b[39m=\u001b[39m \u001b[39mTrue\u001b[39;00m\n\u001b[0;32m    <a href='file:///c%3A/users/gsbir/documents/github/landlab/landlab/components/profiler/channel_profiler.py?line=603'>604</a>\u001b[0m \u001b[39mif\u001b[39;00m bad_wshed:\n\u001b[1;32m--> <a href='file:///c%3A/users/gsbir/documents/github/landlab/landlab/components/profiler/channel_profiler.py?line=604'>605</a>\u001b[0m     \u001b[39mraise\u001b[39;00m \u001b[39mValueError\u001b[39;00m(\n\u001b[0;32m    <a href='file:///c%3A/users/gsbir/documents/github/landlab/landlab/components/profiler/channel_profiler.py?line=605'>606</a>\u001b[0m         \u001b[39m\"\u001b[39m\u001b[39mThe number of watersheds requested by the ChannelProfiler is \u001b[39m\u001b[39m\"\u001b[39m\n\u001b[0;32m    <a href='file:///c%3A/users/gsbir/documents/github/landlab/landlab/components/profiler/channel_profiler.py?line=606'>607</a>\u001b[0m         \u001b[39m\"\u001b[39m\u001b[39mgreater than the number in the domain with channel_definition_field\u001b[39m\u001b[39m\"\u001b[39m\n\u001b[0;32m    <a href='file:///c%3A/users/gsbir/documents/github/landlab/landlab/components/profiler/channel_profiler.py?line=607'>608</a>\u001b[0m         \u001b[39mf\u001b[39m\u001b[39m\"\u001b[39m\u001b[39m area. \u001b[39m\u001b[39m{\u001b[39;00mstarting_da\u001b[39m}\u001b[39;00m\u001b[39m\"\u001b[39m\n\u001b[0;32m    <a href='file:///c%3A/users/gsbir/documents/github/landlab/landlab/components/profiler/channel_profiler.py?line=608'>609</a>\u001b[0m     )\n\u001b[0;32m    <a href='file:///c%3A/users/gsbir/documents/github/landlab/landlab/components/profiler/channel_profiler.py?line=610'>611</a>\u001b[0m \u001b[39mself\u001b[39m\u001b[39m.\u001b[39m_outlet_nodes \u001b[39m=\u001b[39m outlet_nodes\n",
      "\u001b[1;31mValueError\u001b[0m: The number of watersheds requested by the ChannelProfiler is greater than the number in the domain with channel_definition_field area. [ 0.]"
     ]
    }
   ],
   "source": [
    "#Set Model Time Parameters for Space\n",
    "timestep = 100\n",
    "run_time = 100000 #years\n",
    "sp_interval = 10000\n",
    "\n",
    "uplift_rate = .001 # m/year\n",
    "uplift_per_timestep = uplift_rate * timestep\n",
    "\n",
    "#Set elapsed time to zero\n",
    "elapsed_time = 0\n",
    "\n",
    "#Set timestep count to zero\n",
    "count = 0\n",
    "\n",
    "#Array to save sediment flux values and is currently filled with 0s\n",
    "sed_flux = [0] * (run_time) \n",
    "uplift_array = [0] * (run_time)\n",
    "\n",
    "space_img_interval = np.arange(0, run_time, sp_interval)\n",
    "uplift_interval = np.arange(500000,700000, 1)\n",
    "#This will iterate through all of the years needed and will essentially run the model\n",
    "while elapsed_time < run_time: #time units of years\n",
    "    if elapsed_time in uplift_interval:\n",
    "        uplift_rate = .002\n",
    "        uplift_per_timestep == .002 * timestep #half way through for a few years there will be an increase in uplift--- see how the system reacts  \n",
    "    else:\n",
    "        uplift_rate = .001\n",
    "        uplift_per_timestep == .001 * timestep\n",
    "    \n",
    "    mg.at_node['bedrock__elevation'][0] -= uplift_per_timestep  #adding uplift to the bedrock\n",
    "    mg.at_node['topographic__elevation'][0] = mg.at_node['bedrock__elevation'][0] - mg.at_node['soil__depth'][0] #changing the elevation to account for the uplift\n",
    "\n",
    "    fa.run_one_step()\n",
    "    sp.run_one_step(dt = timestep)\n",
    "    sed_flux[count] = mg.at_node[\"sediment__flux\"][node_next_to_outlet]\n",
    "    uplift_array[count] = uplift_rate\n",
    "    elapsed_time += timestep\n",
    "    \n",
    "\n",
    "    #save the figure to separate folder and make sure to close each figure (saves on memory)\n",
    "    \n",
    "    if elapsed_time in space_img_interval: #only produce image on the interval\n",
    "        print(elapsed_time)\n",
    "        #make sediment flux plot\n",
    "        #Instantiate figure as an empty plot\n",
    "        fig = plt.figure()\n",
    "\n",
    "        #Instantiate subplot as an empty plot\n",
    "        sedfluxplot = plt.subplot()\n",
    "\n",
    "        #Creates the information in the graph with the runtim values from 0 to the end of the run_time , and the sed_flux array creates while the model was running\n",
    "        sedfluxplot.plot(np.arange(run_time),sed_flux, color = 'k', linewidth = 3)\n",
    "\n",
    "        #Add axis labels to the plot \n",
    "        sedfluxplot.set_title('Sedimentograph') #title\n",
    "        sedfluxplot.set_xlabel('Time [yr]') #x axis label\n",
    "        sedfluxplot.set_ylabel(r'Sediment flux [m$^3$/yr]') #y axis label\n",
    "        fig.savefig(\"sed_images/sed_flux_\" + str(elapsed_time) + \".png\")\n",
    "        plt.close()\n",
    "\n",
    "        #make uplift plot\n",
    "        fig = plt.figure()\n",
    "\n",
    "        #Instantiate subplot as an empty plot\n",
    "        uplift_plt = plt.subplot()\n",
    "\n",
    "        #Creates the information in the graph with the runtim values from 0 to the end of the run_time , and the sed_flux array creates while the model was running\n",
    "        uplift_plt.plot(np.arange(run_time), uplift_array, color = 'k', linewidth = 3)\n",
    "\n",
    "        #Add axis labels to the plot \n",
    "        uplift_plt.set_title('Uplift Rate') #title\n",
    "        uplift_plt.set_xlabel('Time [yr]') #x axis label\n",
    "        uplift_plt.set_ylabel(r'Uplift [m$/yr]') #y axis label\n",
    "        fig.savefig(\"uplift_images/uplift_\" + str(elapsed_time) + \".png\")\n",
    "        plt.close()\n",
    "\n",
    "        #make channel profile\n",
    "        prf = ChannelProfiler(mg,number_of_watersheds=1,main_channel_only=True,minimum_channel_threshold=node_spacing**2)\n",
    "\n",
    "        prf.run_one_step()\n",
    "\n",
    "        #Show the profile\n",
    "        prof_plot=plt.figure(1)\n",
    "        title_text = f\"$K_{{sp}}$={.001}; $time$={elapsed_time} yr; $dx$={timestep} m\"\n",
    "        prf.plot_profiles(xlabel='distance upstream (m)', ylabel='elevation (m)', title=title_text)\n",
    "        prof_plot.savefig(\"prof_images/profile_\" + str(elapsed_time) + \".png\")\n",
    "        plt.close()\n",
    "        \n",
    "        #make topomap\n",
    "        #Instantiate figure as empty plot\n",
    "        figelev = plt.figure()\n",
    "\n",
    "        #Instantiate subplot as empty plot\n",
    "        plot = plt.subplot()\n",
    "\n",
    "        #Create a topographic elevation plot that shows the elevation of the landscape in diff colors - using landlab utility imshow_grid\n",
    "        imshow_grid(mg, 'topographic__elevation', plot_name='Topographic Elevation', var_name = 'Elevation', var_units=r'm', grid_units=('m', 'm'), cmap='terrain',color_for_background=None)\n",
    "        figelev.savefig(\"sp_topo_images/topo_\" + str(elapsed_time) + \".png\")\n",
    "        plt.close()\n",
    "        \n",
    "    count += timestep #have this as the very last thing in loop\n"
   ]
  },
  {
   "cell_type": "code",
   "execution_count": null,
   "metadata": {},
   "outputs": [
    {
     "data": {
      "image/png": "[encoded data removed]",
      "text/plain": [
       "<Figure size 432x288 with 2 Axes>"
      ]
     },
     "metadata": {
      "needs_background": "light"
     },
     "output_type": "display_data"
    }
   ],
   "source": [
    "#Instantiate figure as empty plot\n",
    "figelev = plt.figure()\n",
    "\n",
    "#Instantiate subplot as empty plot\n",
    "plot = plt.subplot()\n",
    "\n",
    "#Create a topographic elevation plot that shows the elevation of the landscape in diff colors - using landlab utility imshow_grid\n",
    "imshow_grid(mg, 'topographic__elevation', plot_name='Topographic Elevation', var_name = 'Elevation', var_units=r'm', grid_units=('m', 'm'), cmap='terrain',color_for_background=None)"
   ]
  },
  {
   "cell_type": "markdown",
   "metadata": {},
   "source": [
    "Making Videos of sedFlux, topomap and channel profile"
   ]
  },
  {
   "cell_type": "code",
   "execution_count": null,
   "metadata": {},
   "outputs": [],
   "source": [
    "#sed flux video\n",
    "sed_flux_image_list = []\n",
    "sed_flux_size = None\n",
    "for file in glob.glob('sed_flux_images/*.png'):\n",
    "    img = cv2.imread(file)\n",
    "    height, width, layers = img.shape\n",
    "    sed_flux_size = (width, height)\n",
    "    sed_flux_image_list.append(img)\n",
    "\n",
    "sed_flux_out = cv2.VideoWriter('sed_flux_SPACE.mp4',cv2.VideoWriter_fourcc(*'DIVX'), 15, fsc_topo_size)\n",
    "for i in range(len(sed_flux_image_list)):\n",
    "    sed_flux_out.write(sed_flux_image_list[i])\n",
    "sed_flux_out.release()\n",
    "\n",
    "#sed flux video\n",
    "uplift_image_list = []\n",
    "uplift_size = None\n",
    "for file in glob.glob('uplift_images/*.png'):\n",
    "    img = cv2.imread(file)\n",
    "    height, width, layers = img.shape\n",
    "    uplift_size = (width, height)\n",
    "    uplift_image_list.append(img)\n",
    "\n",
    "uplift_out = cv2.VideoWriter('uplift_SPACE.mp4',cv2.VideoWriter_fourcc(*'DIVX'), 15, fsc_topo_size)\n",
    "for i in range(len(uplift_image_list)):\n",
    "    uplift_out.write(uplift_image_list[i])\n",
    "uplift_out.release()\n",
    "\n",
    "#topo video\n",
    "topo_image_list = []\n",
    "topo_size = None\n",
    "for file in glob.glob('sp_topo_images/*.png'):\n",
    "    img = cv2.imread(file)\n",
    "    height, width, layers = img.shape\n",
    "    topo_size = (width, height)\n",
    "    topo_image_list.append(img)\n",
    "\n",
    "topo_out = cv2.VideoWriter('topo_SPACE.mp4',cv2.VideoWriter_fourcc(*'DIVX'), 15, fsc_topo_size)\n",
    "for i in range(len(topo_image_list)):\n",
    "    topo_out.write(topo_image_list[i])\n",
    "topo_out.release()\n",
    "\n",
    "#chanel profile video\n",
    "prof_image_list = []\n",
    "prof_size = None\n",
    "for file in glob.glob('prof_images/*.png'):\n",
    "    img = cv2.imread(file)\n",
    "    height, width, layers = img.shape\n",
    "    prof_size = (width, height)\n",
    "    prof_image_list.append(img)\n",
    "\n",
    "prof_out = cv2.VideoWriter('profile_SPACE.mp4',cv2.VideoWriter_fourcc(*'DIVX'), 15, fsc_topo_size)\n",
    "for i in range(len(prof_image_list)):\n",
    "    prof_out.write(prof_image_list[i])\n",
    "prof_out.release()"
   ]
  },
  {
   "cell_type": "markdown",
   "metadata": {},
   "source": [
    "Create Channel Profile"
   ]
  },
  {
   "cell_type": "markdown",
   "metadata": {},
   "source": [
    "prf = ChannelProfiler(mg,\n",
    "                      number_of_watersheds=1,\n",
    "                      main_channel_only=True,\n",
    "                      minimum_channel_threshold=node_spacing**2)\n",
    "\n",
    "prf.run_one_step()\n",
    "\n",
    "#Show the profile\n",
    "plt.figure(1)\n",
    "title_text = f\"$K_{{sp}}$={.001}; $time$={elapsed_time} yr; $dx$={timestep} m\"\n",
    "prf.plot_profiles(xlabel='distance upstream (m)', ylabel='elevation (m)', title=title_text)"
   ]
  },
  {
   "cell_type": "code",
   "execution_count": null,
   "metadata": {},
   "outputs": [
    {
     "data": {
      "text/plain": [
       "Text(0, 0.5, 'Sediment flux [m$^3$/yr]')"
      ]
     },
     "execution_count": 77,
     "metadata": {},
     "output_type": "execute_result"
    },
    {
     "data": {
      "image/png": "[encoded data removed]",
      "text/plain": [
       "<Figure size 432x288 with 1 Axes>"
      ]
     },
     "metadata": {
      "needs_background": "light"
     },
     "output_type": "display_data"
    }
   ],
   "source": [
    "#Instantiate figure as an empty plot\n",
    "fig = plt.figure()\n",
    "\n",
    "#Instantiate subplot as an empty plot\n",
    "sedfluxplot = plt.subplot()\n",
    "\n",
    "#Creates the information in the graph with the runtim values from 0 to the end of the run_time , and the sed_flux array creates while the model was running\n",
    "sedfluxplot.plot(np.arange(run_time),sed_flux,'-', color = 'k', linewidth = 3)\n",
    "\n",
    "#Add axis labels to the plot \n",
    "sedfluxplot.set_title('Sedimentograph') #title\n",
    "sedfluxplot.set_xlabel('Time [yr]') #x axis label\n",
    "sedfluxplot.set_ylabel(r'Sediment flux [m$^3$/yr]') #y axis label"
   ]
  },
  {
   "cell_type": "markdown",
   "metadata": {},
   "source": [
    "Saving into movies\n",
    "- sedimentograph\n",
    "- channel profile\n",
    "- tpop map"
   ]
  },
  {
   "cell_type": "markdown",
   "metadata": {},
   "source": [
    "#Sedimentograph\n",
    "all_image_list = []\n",
    "all_size = None\n",
    "for file in glob.glob('C:/Users/gsbir/Documents/Github/landlabwork/testing_code/all_images/*.png'):\n",
    "    img = cv2.imread(file)\n",
    "    height, width, layers = img.shape\n",
    "    all_size = (width, height)\n",
    "    all_image_list.append(img)\n",
    "\n",
    "all_out = cv2.VideoWriter('prof_video.avi',cv2.VideoWriter_fourcc(*'DIVX'), 15, all_size)\n",
    "for i in range(len(all_image_list)):\n",
    "    all_out.write(all_image_list[i])\n",
    "all_out.release()"
   ]
  },
  {
   "cell_type": "markdown",
   "metadata": {},
   "source": [
    "#function to create video\n",
    "\n",
    "\n",
    "#Sedimentograph\n",
    "sed_image_list = []\n",
    "sed_size = None\n",
    "for file in glob.glob('C:/Users/gsbir/Documents/Github/landlabwork/testing_code/*.png'):\n",
    "    img = cv2.imread(file)\n",
    "    height, width, layers = img.shape\n",
    "    sed_size = (width, height)\n",
    "    sed_image_list.append(img)\n",
    "\n",
    "sed_out = cv2.VideoWriter('sed_video.avi',cv2.VideoWriter_fourcc(*'DIVX'), 15, sed_size)\n",
    "for i in range(len(sed_image_list)):\n",
    "    sed_out.write(sed_image_list[i])\n",
    "sed_out.release()\n",
    "\n",
    "#Channel Profile\n",
    "prof_image_list = []\n",
    "for file in glob.glob('C:/Users/gsbir/Documents/Github/landlabwork/prof_images/*.png'):\n",
    "    img = cv2.imread(file)\n",
    "    height, width, layers = img.shape\n",
    "    prof_size = (width, height)\n",
    "    prof_image_list.append(img)\n",
    "  \n",
    "\n",
    "#Topo map\n",
    "topo_image_list = []\n",
    "for file in glob.glob('C:/Users/gsbir/Documents/Github/landlabwork/topo_images/*.png'):\n",
    "    img = cv2.imread(file)\n",
    "    height, width, layers = img.shape\n",
    "    topo_size = (width, height)\n",
    "    topo_image_list.append(img)\n",
    "    \n"
   ]
  }
 ],
 "metadata": {
  "interpreter": {
   "hash": "5fecff45fe638ebaf0c59c91e94352891ec03f9da0e2098f3a45e7c394b5032a"
  },
  "kernelspec": {
   "display_name": "Python 3.10.4 64-bit (windows store)",
   "language": "python",
   "name": "python3"
  },
  "language_info": {
   "codemirror_mode": {
    "name": "ipython",
    "version": 3
   },
   "file_extension": ".py",
   "mimetype": "text/x-python",
   "name": "python",
   "nbconvert_exporter": "python",
   "pygments_lexer": "ipython3",
   "version": "3.10.4"
  },
  "orig_nbformat": 4
 },
 "nbformat": 4,
 "nbformat_minor": 2
}
