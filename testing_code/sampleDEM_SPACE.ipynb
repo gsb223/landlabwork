{
 "cells": [
  {
   "cell_type": "markdown",
   "metadata": {},
   "source": [
    "Imports"
   ]
  },
  {
   "cell_type": "code",
   "execution_count": 1,
   "metadata": {},
   "outputs": [
    {
     "ename": "ModuleNotFoundError",
     "evalue": "No module named 'landlab'",
     "output_type": "error",
     "traceback": [
      "\u001b[1;31m---------------------------------------------------------------------------\u001b[0m",
      "\u001b[1;31mModuleNotFoundError\u001b[0m                       Traceback (most recent call last)",
      "\u001b[1;32mc:\\Users\\gsb223\\Documents\\GitHub\\landlabwork\\testing_code\\sampleDEM_SPACE.ipynb Cell 2'\u001b[0m in \u001b[0;36m<cell line: 2>\u001b[1;34m()\u001b[0m\n\u001b[0;32m      <a href='vscode-notebook-cell:/c%3A/Users/gsb223/Documents/GitHub/landlabwork/testing_code/sampleDEM_SPACE.ipynb#ch0000001?line=0'>1</a>\u001b[0m \u001b[39m## Import Landlab components\u001b[39;00m\n\u001b[1;32m----> <a href='vscode-notebook-cell:/c%3A/Users/gsb223/Documents/GitHub/landlabwork/testing_code/sampleDEM_SPACE.ipynb#ch0000001?line=1'>2</a>\u001b[0m \u001b[39mfrom\u001b[39;00m \u001b[39mlandlab\u001b[39;00m\u001b[39m.\u001b[39;00m\u001b[39mcomponents\u001b[39;00m \u001b[39mimport\u001b[39;00m DepressionFinderAndRouter \u001b[39m#Pit filling\u001b[39;00m\n\u001b[0;32m      <a href='vscode-notebook-cell:/c%3A/Users/gsb223/Documents/GitHub/landlabwork/testing_code/sampleDEM_SPACE.ipynb#ch0000001?line=2'>3</a>\u001b[0m \u001b[39mfrom\u001b[39;00m \u001b[39mlandlab\u001b[39;00m\u001b[39m.\u001b[39;00m\u001b[39mcomponents\u001b[39;00m \u001b[39mimport\u001b[39;00m PriorityFloodFlowRouter \u001b[39m#Flow routing\u001b[39;00m\n\u001b[0;32m      <a href='vscode-notebook-cell:/c%3A/Users/gsb223/Documents/GitHub/landlabwork/testing_code/sampleDEM_SPACE.ipynb#ch0000001?line=3'>4</a>\u001b[0m \u001b[39mfrom\u001b[39;00m \u001b[39mlandlab\u001b[39;00m\u001b[39m.\u001b[39;00m\u001b[39mcomponents\u001b[39;00m \u001b[39mimport\u001b[39;00m FlowAccumulator \u001b[39m#FlowAccumulator \u001b[39;00m\n",
      "\u001b[1;31mModuleNotFoundError\u001b[0m: No module named 'landlab'"
     ]
    }
   ],
   "source": [
    "## Import Landlab components\n",
    "from landlab.components import DepressionFinderAndRouter #Pit filling\n",
    "from landlab.components import PriorityFloodFlowRouter #Flow routing\n",
    "from landlab.components import FlowAccumulator #FlowAccumulator \n",
    "from landlab.components import ChannelProfiler \n",
    "from landlab.components import SteepnessFinder\n",
    "from landlab.components import ChiFinder\n",
    "\n",
    "#SPACE model\n",
    "from landlab.components import Space #SPACE model\n",
    "from landlab.components import FastscapeEroder #calculates the amount of erosion at each node\n",
    "from landlab.components import SinkFillerBarnes #replaces pits with shallow gradients for draining\n",
    "\n",
    "## Import Landlab utilities\n",
    "from landlab import RasterModelGrid #Grid utility\n",
    "from landlab import imshow_grid #For plotting results\n",
    "from landlab.io import read_esri_ascii #to read in an ascii file\n",
    "from landlab.io import read_asc_header #to read in the header of the ascii file\n",
    "\n",
    "%matplotlib inline"
   ]
  },
  {
   "cell_type": "markdown",
   "metadata": {},
   "source": [
    "Setting up the Raster Model "
   ]
  },
  {
   "cell_type": "code",
   "execution_count": null,
   "metadata": {},
   "outputs": [],
   "source": [
    "#Set grid parameters\n",
    "num_rows = 20\n",
    "num_columns = 20\n",
    "node_spacing = 100.00\n",
    "\n",
    "#Set Model Time Parameters\n",
    "timestep = 1.0\n",
    "run_time = 100 #years\n",
    "\n",
    "uplift_rate = .001 # m/year\n",
    "uplift_per_timestep = uplift_rate * timestep\n",
    "\n",
    "#Instantiate model grid\n",
    "mg = RasterModelGrid((num_rows, num_columns), node_spacing)\n",
    "\n",
    "#Add field ’topographic elevation’ to the grid\n",
    "mg.add_zeros('node', 'topographic__elevation')\n",
    "\n",
    "#Set constant random seed for consistent topographic roughness\n",
    "np.random.seed(seed = 5000)\n",
    "\n",
    "#topographic roughness\n",
    "random_noise = np.random.rand(len(mg.node_y)) /1000 #impose topography values on model grid\n",
    "mg['node']['topographic__elevation'] += (topo + random_noise) \n",
    "\n",
    "#Add field 'soil__depth' to the grid\n",
    "mg.add_zeros('node', 'soil__depth')\n",
    "\n",
    "#Set 2 m of initial soil depth at core nodes\n",
    "mg.at_node['soil__depth'][mg.core_nodes] = 2.0 #meters \n",
    "\n",
    "#Add field 'bedrock__elevation' to the grid\n",
    "mg.add_zeros('bedrock__elevation', at='node')\n",
    "\n",
    "#Sum 'soil__depth' and 'bedrock__elevation' to yield 'topographic elevation'\n",
    "mg.at_node[\"bedrock__elevation\"] += (mg.node_y / 10. + mg.node_x / 10. + np.random.rand(len(mg.node_y)) / 10.0)\n",
    "\n",
    "mg.at_node[\"bedrock__elevation\"][:] = mg.at_node[\"topographic__elevation\"]\n",
    "mg.at_node[\"topographic__elevation\"][:] += mg.at_node[\"soil__depth\"]\n",
    "\n"
   ]
  },
  {
   "cell_type": "markdown",
   "metadata": {},
   "source": [
    "Setting Boundary Conditions of the Model Grid"
   ]
  },
  {
   "cell_type": "code",
   "execution_count": null,
   "metadata": {},
   "outputs": [],
   "source": [
    "#Close all model boundary edges\n",
    "mg.set_closed_boundaries_at_grid_edges(bottom_is_closed=True,left_is_closed=True,right_is_closed=True,top_is_closed=True)\n",
    "outlet_node = mg.set_watershed_boundary_condition_outlet_id(0,mg['node']['topographic__elevation'], -9999.)\n"
   ]
  },
  {
   "cell_type": "markdown",
   "metadata": {},
   "source": [
    "Instantiate the Components"
   ]
  },
  {
   "cell_type": "code",
   "execution_count": null,
   "metadata": {},
   "outputs": [],
   "source": [
    "#Parameters for SPACE and Fastscape\n",
    "K_sed = 0.01\n",
    "K_br = 0.001\n",
    "F_f = 0.0\n",
    "phi = 0.0\n",
    "H_star = 1.0\n",
    "v_s = 5.0\n",
    "m_sp = 0.5\n",
    "n_sp = 1.0\n",
    "sp_crit_sed = 0\n",
    "sp_crit_br = 0\n",
    "\n",
    "#Instantiate the Flow accumulator\n",
    "fa = PriorityFloodFlowRouter(mg, flow_metric='D8', suppress_out = True)\n",
    "\n",
    "#instantiate the fascape eroder as fsc \n",
    "fsc = FastscapeEroder(mg, K_sp,m_sp, n_sp)  \n",
    "\n",
    "#Instantiate SPACE model with chosen parameters as sp\n",
    "sp = SpaceLargeScaleEroder(mg, K_sed, K_br, F_f, phi, H_star, v_s, m_sp, n_sp, sp_crit_sed, sp_crit_br)\n",
    "\n"
   ]
  },
  {
   "cell_type": "markdown",
   "metadata": {},
   "source": [
    "remember: need to run fascape-- probably for like 100 years to create the initial topography until it reaches the steady state \n",
    "\n",
    "also need to create a function to fine where to start collecting the sed_flux values"
   ]
  },
  {
   "cell_type": "markdown",
   "metadata": {},
   "source": [
    "Run the Model"
   ]
  },
  {
   "cell_type": "code",
   "execution_count": null,
   "metadata": {},
   "outputs": [],
   "source": [
    "#Set elapsed time to zero\n",
    "elapsed_time = 0\n",
    "\n",
    "#Set timestep count to zero\n",
    "count = 0\n",
    "\n",
    "#Array to save sediment flux values and is currently filled with 0s\n",
    "sed_flux = [0] * (run_time) \n",
    "\n",
    "#This will iterate through all of the years needed and will essentially run the model\n",
    "while elapsed_time < run_time: #time units of years\n",
    "    mg.at_node['bedrock__elevation'] += uplift_per_timestep  #adding uplift to the bedrock\n",
    "    mg.at_node['topographic__elevation'] = mg.at_node['bedrock__elevation'] + mg.at_node['soil__depth'] #changing the elevation to account for the uplift\n",
    "\n",
    "    fa.run_one_step()\n",
    "    sp.run_one_step(dt = timestep)\n",
    "    \n",
    "    #sed_flux[count] = mg.at_node[\"sediment__flux\"][node_next_to_outlet]"
   ]
  },
  {
   "cell_type": "markdown",
   "metadata": {},
   "source": [
    "Create Primary Channel Profile"
   ]
  },
  {
   "cell_type": "code",
   "execution_count": null,
   "metadata": {},
   "outputs": [],
   "source": []
  }
 ],
 "metadata": {
  "interpreter": {
   "hash": "5fecff45fe638ebaf0c59c91e94352891ec03f9da0e2098f3a45e7c394b5032a"
  },
  "kernelspec": {
   "display_name": "Python 3.10.4 64-bit (windows store)",
   "language": "python",
   "name": "python3"
  },
  "language_info": {
   "codemirror_mode": {
    "name": "ipython",
    "version": 3
   },
   "file_extension": ".py",
   "mimetype": "text/x-python",
   "name": "python",
   "nbconvert_exporter": "python",
   "pygments_lexer": "ipython3",
   "version": "3.10.4"
  },
  "orig_nbformat": 4
 },
 "nbformat": 4,
 "nbformat_minor": 2
}
