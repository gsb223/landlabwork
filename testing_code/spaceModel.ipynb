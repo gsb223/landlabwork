{
 "cells": [
  {
   "cell_type": "markdown",
   "metadata": {},
   "source": [
    "All of the necessary imports"
   ]
  },
  {
   "cell_type": "code",
   "execution_count": null,
   "metadata": {},
   "outputs": [],
   "source": [
    "import numpy as np #basic python library\n",
    "import matplotlib.pyplot as plt #For plotting results\n",
    "from matplotlib.pyplot import figure, legend, plot, show, title, xlabel, ylabel, ylim\n",
    "import glob\n",
    "\n",
    "## Import Landlab components\n",
    "from landlab.components import DepressionFinderAndRouter #Pit filling\n",
    "from landlab.components import PriorityFloodFlowRouter #Flow routing\n",
    "from landlab.components import FlowAccumulator #FlowAccumulator \n",
    "from landlab.components import ChannelProfiler \n",
    "from landlab.components import SteepnessFinder\n",
    "from landlab.components import ChiFinder\n",
    "\n",
    "#SPACE model\n",
    "from landlab.components import Space #SPACE model\n",
    "from landlab.components import FastscapeEroder #calculates the amount of erosion at each node\n",
    "from landlab.components import SinkFillerBarnes #replaces pits with shallow gradients for draining\n",
    "\n",
    "## Import Landlab utilities\n",
    "from landlab import RasterModelGrid #Grid utility\n",
    "from landlab import imshow_grid #For plotting results\n",
    "from landlab.io import read_esri_ascii #to read in an ascii file\n",
    "from landlab.io import read_asc_header #to read in the header of the ascii file\n",
    "\n",
    "%matplotlib inline"
   ]
  },
  {
   "cell_type": "markdown",
   "metadata": {},
   "source": [
    "Retrieving the DEM files and importing into progam as a rasterModelGrid"
   ]
  },
  {
   "cell_type": "code",
   "execution_count": null,
   "metadata": {
    "vscode": {
     "languageId": "plaintext"
    }
   },
   "outputs": [],
   "source": [
    "#Set directory paths to retrieve the asc file\n",
    "path_project = r\"C:/Users/gsbir/Documents/EES_393/\" # add the path to the asc file    #this should access my H drive\n",
    "filename_dem = \"saucon_30m.txt\" #the name of the ascii file\n",
    "path_dem = path_project + filename_dem #gets the entire path to the ascii file\n",
    "\n",
    "#now read the header of the asc file (where there is ncols nrows cell size and nodata value) into the string variable dem_header\n",
    "dem_header = read_asc_header(open(path_dem, 'r'))\n",
    "#use the above to see your grid dimensions, what the no data value is etc...\n",
    "\n",
    "#generate new grid and add DEM values into 'topographic__elevation'\n",
    "(mg, z) = read_esri_ascii(path_dem, name= 'topographic__elevation', halo = 1)\n",
    "\n",
    "#set the watershed boundary condition and the function returns a integer which is the outlet_id so this is set equal to a variable so we can view this\n",
    "outlet_id = mg.set_watershed_boundary_condition(z, nodata_value = -9999, return_outlet_id=True)\n",
    "#This should find your outlet node automatically and outlet_id will be empty if a single outlet was not found\n",
    "\n",
    "print(outlet_id) #prints out the outlet_id\n",
    "\n",
    "#print(mg.at_node.keys()) #Shows the node attributes\n",
    "\n",
    "# %% Hydrologically condition DEM (fill sinks)\n",
    "sfb = SinkFillerBarnes(mg, surface=z, method='D8', fill_flat=False) #creating an instance of sinkfillerbarnes \n",
    "sfb.run_one_step() #This is important to ensure that your future flow routing will work properly. - run the sinkfiller barnes once\n",
    "\n",
    "imshow_grid(mg, mg.status_at_node, color_for_closed = 'blue') #creates a graph showing the red and the closed boundaries are set to blue, black is the landscape and white is the outlet ID (cannot see it at this level)"
   ]
  },
  {
   "cell_type": "markdown",
   "metadata": {},
   "source": [
    "Adding new nodes to the rasterModelGrid: soil__depth, bedrock__elevation "
   ]
  },
  {
   "cell_type": "markdown",
   "metadata": {},
   "source": [
    "#Set grid parameters \n",
    "#these numbers are taken from the ascii header file\n",
    "num_columns = 647\n",
    "num_rows = 537\n",
    "node_next_to_outlet = num_columns + 1\n",
    "node_spacing = 30\n",
    "\n",
    "#Set model timestep\n",
    "timestep = 1 #years\n",
    "\n",
    "#Set model run time\n",
    "run_time = 2 #years\n",
    "uplift_rate = .001 # m/year\n",
    "uplift_per_timestep = uplift_rate * timestep\n",
    "\n",
    "\n",
    "#Add field 'soil__depth' to the grid with 0s for now\n",
    "mg.add_zeros('node', 'soil__depth')\n",
    "\n",
    "#Set 2 m of initial soil depth at core nodes\n",
    "mg.at_node['soil__depth'][mg.core_nodes] = 2.0 #meters \n",
    "\n",
    "#Add field 'bedrock__elevation' to the grid with 0s for now\n",
    "mg.add_zeros('bedrock__elevation', at='node')\n",
    "\n",
    "#Subtract 'soil__depth' and 'bedrock__elevation' to yield 'topographic elevation'\n",
    "mg.at_node['bedrock__elevation'][:] = mg.at_node['topographic__elevation'] - mg.at_node['soil__depth']\n",
    "\n"
   ]
  },
  {
   "cell_type": "markdown",
   "metadata": {},
   "source": [
    "Setting Boundary Conditions of the Grid"
   ]
  },
  {
   "cell_type": "code",
   "execution_count": null,
   "metadata": {},
   "outputs": [],
   "source": [
    "#Set grid parameters\n",
    "num_rows = 20\n",
    "num_columns = 20\n",
    "node_next_to_outlet = num_columns + 1\n",
    "node_spacing = 100.0\n",
    "\n",
    "#Set model timestep\n",
    "timestep = 1.0 #years\n",
    "\n",
    "#Set model run time\n",
    "run_time = 100 #years\n",
    "uplift_rate = .001 # m/year\n",
    "uplift_per_timestep = uplift_rate * timestep\n",
    "\n",
    "#Instantiate model grid\n",
    "mg = RasterModelGrid((num_rows, num_columns), node_spacing)\n",
    "\n",
    "#Add field ’topographic elevation’ to the grid\n",
    "mg.add_zeros('node', 'topographic__elevation')\n",
    "\n",
    "#Set constant random seed for consistent topographic roughness\n",
    "np.random.seed(seed = 5000)\n",
    "\n",
    "## Create initial model topography\n",
    "#plane tilted towards the lower−left corner\n",
    "topo = mg.node_y/100000 + mg.node_x/100000\n",
    "\n",
    "#topographic roughness\n",
    "random_noise = np.random.rand(len(mg.node_y)) /1000 #impose topography values on model grid\n",
    "mg['node']['topographic__elevation'] += (topo + random_noise) \n",
    "\n",
    "#Add field 'soil__depth' to the grid\n",
    "mg.add_zeros('node', 'soil__depth')\n",
    "\n",
    "#Set 2 m of initial soil depth at core nodes\n",
    "mg.at_node['soil__depth'][mg.core_nodes] = 2.0 #meters \n",
    "\n",
    "#Add field 'bedrock__elevation' to the grid\n",
    "mg.add_zeros('bedrock__elevation', at='node')\n",
    "\n",
    "#Sum 'soil__depth' and 'bedrock__elevation'\n",
    "#to yield 'topographic elevation'\n",
    "mg.at_node['bedrock__elevation'][:] = mg.at_node['topographic__elevation'] \n",
    "mg.at_node['topographic__elevation'][:] += mg.at_node['soil__depth']\n"
   ]
  },
  {
   "cell_type": "code",
   "execution_count": null,
   "metadata": {},
   "outputs": [],
   "source": [
    "#Close all model boundary edges\n",
    "mg.set_closed_boundaries_at_grid_edges(bottom_is_closed=True,left_is_closed=True,right_is_closed=True,top_is_closed=True)\n",
    "mg.set_watershed_boundary_condition_outlet_id(0,mg['node']['topographic__elevation'], -9999.)"
   ]
  },
  {
   "cell_type": "markdown",
   "metadata": {},
   "source": [
    "Instantiating all of the components"
   ]
  },
  {
   "cell_type": "code",
   "execution_count": null,
   "metadata": {},
   "outputs": [],
   "source": [
    "#Instantiate flow Router as fr\n",
    "#fr = PriorityFloodFlowRouter(mg,surface='topographic__elevation', flow_metric='D8', runoff_rate=None, update_flow_depressions=True, depression_handler='fill', exponent=1, epsilon=False, accumulate_flow=True, accumulate_flow_hill=False, separate_hill_flow=False, update_hill_depressions=False, update_hill_flow_instantaneous=False, hill_flow_metric='D8', hill_exponent=1, suppress_out=False)\n",
    "#fr.run_one_step() #run the flow router once \n",
    "\n",
    "K_sp = 1.0e-5  # units vary depending on m_sp and n_sp\n",
    "m_sp = 0.5  # exponent on drainage area in stream power equation\n",
    "n_sp = 1.0  # exponent on slope in stream power equation\n",
    "\n",
    "#Instantiate the Flow accumulator\n",
    "fa = FlowAccumulator(mg, flow_director='D8')  \n",
    "fa.run_one_step() #run one step of flow doesnt get stuck in pits\n",
    "\n",
    "#Instantiate the depressionfinder and router as df\n",
    "df = DepressionFinderAndRouter(mg,pits = 'flow__sink_flag', reroute_flow = True) \n",
    "\n",
    "#instantiate the fascape eroder as fsc \n",
    "fsc = FastscapeEroder(mg, K_sp=.001,m_sp=.5, n_sp=1)  \n",
    "#fsc.run_one_step(1)\n",
    "\n",
    "#Instantiate SPACE model with chosen parameters as sp\n",
    "sp = Space(mg, K_sed=0.01, K_br=0.001, F_f=0., phi=0., H_star=1., v_s=5.0, m_sp=0.5, n_sp=1.0, sp_crit_sed=0, sp_crit_br=0)\n",
    "\n",
    "theta = m_sp / n_sp\n",
    "sf = SteepnessFinder(mg, reference_concavity = theta, min_drainage_area = 1000000.0)\n",
    "\n",
    "cf = ChiFinder(mg,min_drainage_area=1000000.0,reference_concavity=theta, use_true_dx=True)"
   ]
  },
  {
   "cell_type": "code",
   "execution_count": null,
   "metadata": {},
   "outputs": [],
   "source": [
    "print(mg.at_node.keys()) #prints out all of the information that the nodes contain\n",
    "imshow_grid(mg, 'drainage_area') #makes a graph of the node information 'drainage_area\n",
    "print(np.max(mg.at_node['drainage_area']))\n",
    "\n",
    "x = mg.node_x[mg.at_node['sediment__flux'] == np.max(mg.at_node['sediment__flux'])]\n",
    "y =mg.node_y[mg.at_node['sediment__flux'] == np.max(mg.at_node['sediment__flux'])]\n",
    "print(mg.find_nearest_node([x,y]))"
   ]
  },
  {
   "cell_type": "markdown",
   "metadata": {},
   "source": [
    "Run the Model "
   ]
  },
  {
   "cell_type": "code",
   "execution_count": null,
   "metadata": {},
   "outputs": [],
   "source": [
    "#Set elapsed time to zero\n",
    "elapsed_time = 0\n",
    "\n",
    "#Set timestep count to zero\n",
    "count = 0\n",
    "\n",
    "#Array to save sediment flux values and is currently filled with 0s\n",
    "sed_flux = [0] * (run_time)                                \n",
    "\n",
    "#This will iterate through all of the years needed and will essentially run the model\n",
    "while elapsed_time < run_time: #time units of years\n",
    "    mg.at_node['bedrock__elevation'] += uplift_per_timestep  #adding uplift to the bedrock\n",
    "    mg.at_node['topographic__elevation'] = mg.at_node['bedrock__elevation'] + mg.at_node['soil__depth'] #changing the elevation to account for the uplift\n",
    "    \n",
    "    #Run the flow router for one step (one step for each year)\n",
    "    #for x in range(timestep): #loops through each year (how large the timestep is) and run the flow router\n",
    "    fa.run_one_step()\n",
    "\n",
    "    \n",
    "    df.map_depressions()\n",
    "    #Get list of nodes in depressions; only used if using DepressionFinderAndRouter\n",
    "    #flooded = np.where(df.flood_status==3)[0] #flooded is a list of nodes of the depressions in the landscape -- orig status number was 3\n",
    "    \n",
    "    sp.run_one_step(dt = timestep) #runs the space model (sp) for one timestep - it iterates itself to run for each year in the timestep\n",
    "    \n",
    "    #Save sediment flux value to array\n",
    "    sed_flux[count] = mg.at_node['sediment__flux'][21] ##creates the array sed_flux  and adds the sediment_flux value from the node into it\n",
    "    \n",
    "    elapsed_time += timestep #Add timestep value to elapsed time\n",
    "    \n",
    "    print(count) #prints out a number that is increaseing for each year - this is to keep track of the model as it is running for a large amount of time\n",
    "    count += 1 #Increase timestep count\n",
    "\n",
    "\n",
    "    "
   ]
  },
  {
   "cell_type": "code",
   "execution_count": null,
   "metadata": {},
   "outputs": [],
   "source": [
    "print(np.max(sed_flux))\n",
    "\n",
    "\n",
    "\n",
    "prf = ChannelProfiler(mg,\n",
    "                      number_of_watersheds=1,\n",
    "                      main_channel_only=True,\n",
    "                      minimum_channel_threshold=node_spacing**2)\n",
    "\n",
    "prf.run_one_step()"
   ]
  },
  {
   "cell_type": "code",
   "execution_count": null,
   "metadata": {},
   "outputs": [],
   "source": [
    "plt.figure(1)\n",
    "title_text = f\"$K_{{sp}}$={.001}; $time$={elapsed_time} yr; $dx$={timestep} m\"\n",
    "prf.plot_profiles(xlabel='distance upstream (m)',\n",
    "                  ylabel='elevation (m)',\n",
    "                  title=title_text)"
   ]
  },
  {
   "cell_type": "code",
   "execution_count": null,
   "metadata": {},
   "outputs": [],
   "source": [
    "#binning the drainage area and averaging out the slopes for that bin\n",
    "\n",
    "\n",
    "K_sp = 1.0e-5\n",
    "\n",
    "for i, outlet_id in enumerate(prf.data_structure):\n",
    "    for j, segment_id in enumerate(prf.data_structure[outlet_id]):\n",
    "        if j == 0:\n",
    "            label = \"channel {i}\".format(i=i + 1)\n",
    "        else:\n",
    "            label = '_nolegend_'\n",
    "        segment = prf.data_structure[outlet_id][segment_id]\n",
    "        profile_ids = segment[\"ids\"]\n",
    "        color = segment[\"color\"]\n",
    "        plt.loglog(\n",
    "            mg.at_node[\"drainage_area\"][profile_ids],\n",
    "            mg.at_node[\"topographic__steepest_slope\"][profile_ids],\n",
    "            '.',\n",
    "            color=color,\n",
    "            label=label,\n",
    "        )\n",
    "\n",
    "plt.legend(loc=\"lower left\")\n",
    "plt.xlabel(\"drainage area (m^2)\")\n",
    "plt.ylabel(\"channel slope [m/m]\")\n",
    "title_text = f\"$K_{{sp}}$={K_sp}; $time$={elapsed_time} yr; $dx$={node_spacing} m\"\n",
    "plt.title(title_text)"
   ]
  },
  {
   "cell_type": "code",
   "execution_count": null,
   "metadata": {},
   "outputs": [],
   "source": [
    "# Code Block 12\n",
    "\n",
    "# calculate channel steepness\n",
    "sf.calculate_steepnesses()\n",
    "\n",
    "# plots of steepnes vs. distance upstream in the profiled channels\n",
    "plt.figure(6)\n",
    "\n",
    "for i, outlet_id in enumerate(prf.data_structure):\n",
    "    for j, segment_id in enumerate(prf.data_structure[outlet_id]):\n",
    "        if j == 0:\n",
    "            label = \"channel {i}\".format(i=i + 1)\n",
    "        else:\n",
    "            label = '_nolegend_'\n",
    "        segment = prf.data_structure[outlet_id][segment_id]\n",
    "        profile_ids = segment[\"ids\"]\n",
    "        distance_upstream = segment[\"distances\"]\n",
    "        color = segment[\"color\"]\n",
    "        plt.plot(\n",
    "            distance_upstream,\n",
    "            mg.at_node[\"channel__steepness_index\"][profile_ids],\n",
    "            'x',\n",
    "            color=color,\n",
    "            label=label,\n",
    "        )\n",
    "\n",
    "plt.xlabel(\"distance upstream (m)\")\n",
    "plt.ylabel(\"steepness index\")\n",
    "plt.legend(loc=\"upper left\")\n",
    "plt.title(\n",
    "    f\"$K_{{sp}}$={K_sp}; $time$={elapsed_time} yr; $dx$={timestep} m; concavity={theta}\"\n",
    ")\n",
    "\n",
    "# channel steepness map\n",
    "plt.figure(7)\n",
    "imshow_grid(\n",
    "    mg,\n",
    "    \"channel__steepness_index\",\n",
    "    grid_units=(\"m\", \"m\"),\n",
    "    var_name=\"Steepness index \",\n",
    "    cmap=\"jet\", limits =(0,500)\n",
    ")\n",
    "title_text = (\"$K_{sp}$=\" + str(K_sp) + \"; $time$=\" + str(elapsed_time) +\n",
    "              \"yr; $dx$=\" + str(timestep) + \"m\" + \"; concavity=\" + str(theta))\n",
    "plt.title(\n",
    "    f\"$K_{{sp}}$={K_sp}; $time$={elapsed_time} yr; $dx$={timestep} m; concavity={theta}\"\n",
    ")"
   ]
  },
  {
   "cell_type": "code",
   "execution_count": null,
   "metadata": {},
   "outputs": [],
   "source": [
    "# Code Block 11\n",
    "\n",
    "# calculate the chi index\n",
    "cf.calculate_chi()\n",
    "\n",
    "# chi-elevation plots in the profiled channels\n",
    "plt.figure(4)\n",
    "plt.ylim(0,175)\n",
    "for i, outlet_id in enumerate(prf.data_structure):\n",
    "    for j, segment_id in enumerate(prf.data_structure[outlet_id]):\n",
    "        if j == 0:\n",
    "            label = \"channel {i}\".format(i=i + 1)\n",
    "        else:\n",
    "            label = '_nolegend_'\n",
    "        segment = prf.data_structure[outlet_id][segment_id]\n",
    "        profile_ids = segment[\"ids\"]\n",
    "        color = segment[\"color\"]\n",
    "        plt.plot(\n",
    "            mg.at_node[\"channel__chi_index\"][profile_ids],\n",
    "            mg.at_node[\"topographic__elevation\"][profile_ids],\n",
    "            color=color,\n",
    "            label=label,\n",
    "        )\n",
    "\n",
    "plt.xlabel(\"chi index (m)\")\n",
    "plt.ylabel(\"elevation (m)\")\n",
    "plt.legend(loc=\"lower right\")\n",
    "title_text = f\"$K_{{sp}}$={K_sp}; $time$={elapsed_time} yr; $dx$={timestep} m; concavity={theta}\"\n",
    "plt.title(title_text)\n",
    "\n",
    "# chi map\n",
    "plt.figure(5)\n",
    "imshow_grid(\n",
    "    mg,\n",
    "    \"channel__chi_index\",\n",
    "    grid_units=(\"m\", \"m\"),\n",
    "    var_name=\"Chi index (m)\",\n",
    "    cmap=\"jet\",\n",
    ")\n",
    "title_text = f\"$K_{{sp}}$={K_sp}; $time$={elapsed_time} yr; $dx$={timestep} m; concavity={theta}\"\n",
    "plt.title(title_text)"
   ]
  },
  {
   "cell_type": "code",
   "execution_count": null,
   "metadata": {},
   "outputs": [],
   "source": [
    "for x in range(0, len(mg.at_node[\"sediment__flux\"])):\n",
    "    print(mg.at_node[\"sediment__flux\"][x])\n"
   ]
  },
  {
   "cell_type": "markdown",
   "metadata": {},
   "source": [
    "Create the Sediment Flux Figure"
   ]
  },
  {
   "cell_type": "code",
   "execution_count": null,
   "metadata": {},
   "outputs": [],
   "source": [
    "#Instantiate an empty plot\n",
    "figsed = plt.figure()\n",
    "\n",
    "#Instantiate subplot empty\n",
    "plot = plt.subplot()\n",
    "\n",
    "#Create sed_flux graph that shows the landscape with the nodes where ther is sediment flux in different colors- using landlab utility imshow_grid\n",
    "imshow_grid(mg, 'sediment__flux', plot_name='Sediment flux', var_name = 'Sediment flux', var_units=r'm$^3$/yr', grid_units=('m', 'm'), cmap='terrain')"
   ]
  },
  {
   "cell_type": "markdown",
   "metadata": {},
   "source": [
    "Create the Topographic Elevation Figure"
   ]
  },
  {
   "cell_type": "code",
   "execution_count": null,
   "metadata": {},
   "outputs": [],
   "source": [
    "#Instantiate figure as empty plot\n",
    "figelev = plt.figure()\n",
    "\n",
    "#Instantiate subplot as empty plot\n",
    "plot = plt.subplot()\n",
    "\n",
    "#Create a topographic elevation plot that shows the elevation of the landscape in diff colors - using landlab utility imshow_grid\n",
    "imshow_grid(mg, 'topographic__elevation', plot_name='Topographic Elevation', var_name = 'Elevation', var_units=r'm', grid_units=('m', 'm'), cmap='terrain',color_for_background=None)"
   ]
  },
  {
   "cell_type": "markdown",
   "metadata": {},
   "source": [
    "Create the Soil Depth Figure"
   ]
  },
  {
   "cell_type": "code",
   "execution_count": null,
   "metadata": {},
   "outputs": [],
   "source": [
    "#Instantiate figure as empty plot\n",
    "fig = plt.figure()\n",
    "\n",
    "#Instantiate subplot as empty plot\n",
    "plot = plt.subplot()\n",
    "\n",
    "#Create a graph showing the soil depth at each node in the landscape - using landlab utility imshow_grid\n",
    "imshow_grid(mg, 'soil__depth', plot_name='Soil Depth', var_name = 'Depth', var_units=r'm', grid_units=('m', 'm'), cmap='terrain')"
   ]
  },
  {
   "cell_type": "markdown",
   "metadata": {},
   "source": [
    "Create the Bedrock Elevation Figure"
   ]
  },
  {
   "cell_type": "code",
   "execution_count": null,
   "metadata": {},
   "outputs": [],
   "source": [
    "#Instantiate figure as empty plot\n",
    "fig = plt.figure()\n",
    "\n",
    "#Instantiate subplot as empty plot\n",
    "plot = plt.subplot()\n",
    "\n",
    "#Create a graph showing the bedrock elevation of the landscape - using landlab utility imshow_grid\n",
    "imshow_grid(mg, 'bedrock__elevation', plot_name='Bedrock Elevation', var_name = 'Elevation', var_units=r'm', grid_units=('m', 'm'), cmap='terrain')"
   ]
  },
  {
   "cell_type": "markdown",
   "metadata": {},
   "source": [
    "Create the Sedimentograph"
   ]
  },
  {
   "cell_type": "code",
   "execution_count": null,
   "metadata": {},
   "outputs": [],
   "source": [
    "#Instantiate figure as an empty plot\n",
    "fig = plt.figure()\n",
    "\n",
    "#Instantiate subplot as an empty plot\n",
    "sedfluxplot = plt.subplot()\n",
    "\n",
    "#Creates the information in the graph with the runtim values from 0 to the end of the run_time , and the sed_flux array creates while the model was running\n",
    "sedfluxplot.plot(np.arange(run_time),sed_flux, color = 'k', linewidth = 3)\n",
    "\n",
    "#Add axis labels to the plot \n",
    "sedfluxplot.set_title('Sedimentograph') #title\n",
    "sedfluxplot.set_xlabel('Time [yr]') #x axis label\n",
    "sedfluxplot.set_ylabel(r'Sediment flux [m$^3$/yr]') #y axis label"
   ]
  },
  {
   "cell_type": "code",
   "execution_count": null,
   "metadata": {},
   "outputs": [],
   "source": []
  },
  {
   "cell_type": "code",
   "execution_count": null,
   "metadata": {},
   "outputs": [],
   "source": []
  }
 ],
 "metadata": {
  "interpreter": {
   "hash": "0abccfbd2c22ff3ab4d7b44909cfe0feef52cedff933ad1333dcb5cce75dbabf"
  },
  "kernelspec": {
   "display_name": "Python 3 (ipykernel)",
   "language": "python",
   "name": "python3"
  },
  "language_info": {
   "codemirror_mode": {
    "name": "ipython",
    "version": 3
   },
   "file_extension": ".py",
   "mimetype": "text/x-python",
   "name": "python",
   "nbconvert_exporter": "python",
   "pygments_lexer": "ipython3",
   "version": "3.9.12"
  }
 },
 "nbformat": 4,
 "nbformat_minor": 2
}
