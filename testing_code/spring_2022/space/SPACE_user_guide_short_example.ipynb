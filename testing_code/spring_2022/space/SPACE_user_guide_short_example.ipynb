{
 "cells": [
  {
   "cell_type": "markdown",
   "metadata": {},
   "source": [
    "# Simple SPACE model example\n",
    "\n",
    "Written by Charles M. Shobe to accompany the following publication:\n",
    "\n",
    "Shobe, C.M., Tucker, G.E., and Barnhart, K.B.: The SPACE 1.0 model: A Landlab component for 2-D calculation of sediment transport, bedrock erosion, and landscape evolution, submitted to Geoscientific Model Development.\n",
    "\n",
    "This notebook is an executable version of the code presented in the user manual. The steps listed here correspond to the text and code in the user manual.\n",
    "\n",
    "Written on 5th July 2017."
   ]
  },
  {
   "cell_type": "markdown",
   "metadata": {},
   "source": [
    "### Step 1: Import the necessary libraries "
   ]
  },
  {
   "cell_type": "code",
   "execution_count": 2,
   "metadata": {
    "collapsed": false
   },
   "outputs": [],
   "source": [
    "## Import Numpy and Matplotlib packages \n",
    "import numpy as np\n",
    "import matplotlib.pyplot as plt #For plotting results; optional\n",
    "\n",
    "## Import Landlab components\n",
    "#Pit filling; optional\n",
    "from landlab.components import DepressionFinderAndRouter\n",
    "#Flow routing\n",
    "from landlab.components import FlowRouter #Flow router\n",
    "\n",
    "#SPACE model\n",
    "from landlab.components import Space #SPACE model\n",
    "\n",
    "## Import Landlab utilities\n",
    "from landlab import RasterModelGrid #Grid utility\n",
    "from landlab import imshow_grid #For plotting results; optional\n",
    "%matplotlib inline\n"
   ]
  },
  {
   "cell_type": "markdown",
   "metadata": {},
   "source": [
    "### Step 2: Define the model domain and initial conditions"
   ]
  },
  {
   "cell_type": "code",
   "execution_count": 3,
   "metadata": {
    "collapsed": false
   },
   "outputs": [],
   "source": [
    "## Set grid parameters\n",
    "num_rows = 20\n",
    "num_columns = 20 \n",
    "node_spacing = 100.0\n",
    "\n",
    "#Instantiate model grid\n",
    "mg = RasterModelGrid((num_rows, num_columns), node_spacing)\n",
    "#Add field ’topographic elevation’ to the grid\n",
    "mg.add_zeros('node', 'topographic__elevation')\n",
    "#Set constant random seed for consistent topographic roughness\n",
    "np.random.seed(seed = 5000)\n",
    "\n",
    "## Create initial model topography\n",
    "#plane tilted towards the lower−left corner \n",
    "topo = mg.node_y/100000 + mg.node_x/100000\n",
    "\n",
    "#topographic roughness\n",
    "random_noise = np.random.rand(len(mg.node_y)) /1000 #impose topography values on model grid\n",
    "mg['node']['topographic__elevation'] += (topo + random_noise) \n",
    "\n",
    "#Add field 'soil__depth' to the grid\n",
    "mg.add_zeros('node', 'soil__depth')\n",
    "\n",
    "#Set 2 m of initial soil depth at core nodes\n",
    "mg.at_node['soil__depth'][mg.core_nodes] = 2.0 #meters \n",
    "\n",
    "#Add field 'bedrock__elevation' to the grid\n",
    "mg.add_zeros('bedrock__elevation', at='node')\n",
    "\n",
    "#Sum 'soil__depth' and 'bedrock__elevation'\n",
    "#to yield 'topographic elevation'\n",
    "mg.at_node['bedrock__elevation'][:] = mg.at_node['topographic__elevation'] \n",
    "mg.at_node['topographic__elevation'][:] += mg.at_node['soil__depth']"
   ]
  },
  {
   "cell_type": "markdown",
   "metadata": {},
   "source": [
    "### Step 3: Set the boundary conditions"
   ]
  },
  {
   "cell_type": "code",
   "execution_count": 4,
   "metadata": {
    "collapsed": true
   },
   "outputs": [],
   "source": [
    "#Close all model boundary edges\n",
    "mg.set_closed_boundaries_at_grid_edges(bottom_is_closed=True,\n",
    "                                       left_is_closed=True,\n",
    "                                       right_is_closed=True,\n",
    "                                       top_is_closed=True)\n",
    "\n",
    "#Set lower-left (southwest) corner as an open boundary\n",
    "mg.set_watershed_boundary_condition_outlet_id(0,mg['node']['topographic__elevation'], -9999.)\n"
   ]
  },
  {
   "cell_type": "markdown",
   "metadata": {},
   "source": [
    "### Step 4: Initialize the SPACE component and any other components used"
   ]
  },
  {
   "cell_type": "code",
   "execution_count": 5,
   "metadata": {
    "collapsed": true
   },
   "outputs": [
    {
     "ename": "TypeError",
     "evalue": "__init__() got an unexpected keyword argument 'method'",
     "output_type": "error",
     "traceback": [
      "\u001b[1;31m---------------------------------------------------------------------------\u001b[0m",
      "\u001b[1;31mTypeError\u001b[0m                                 Traceback (most recent call last)",
      "\u001b[1;32m~\\AppData\\Local\\Temp/ipykernel_11028/1518225121.py\u001b[0m in \u001b[0;36m<module>\u001b[1;34m\u001b[0m\n\u001b[0;32m      6\u001b[0m \u001b[1;33m\u001b[0m\u001b[0m\n\u001b[0;32m      7\u001b[0m \u001b[1;31m#Instantiate SPACE model with chosen parameters\u001b[0m\u001b[1;33m\u001b[0m\u001b[1;33m\u001b[0m\u001b[0m\n\u001b[1;32m----> 8\u001b[1;33m sp = Space(mg, K_sed=0.01, K_br=0.001, \n\u001b[0m\u001b[0;32m      9\u001b[0m            \u001b[0mF_f\u001b[0m\u001b[1;33m=\u001b[0m\u001b[1;36m0.\u001b[0m\u001b[1;33m,\u001b[0m \u001b[0mphi\u001b[0m\u001b[1;33m=\u001b[0m\u001b[1;36m0.\u001b[0m\u001b[1;33m,\u001b[0m \u001b[0mH_star\u001b[0m\u001b[1;33m=\u001b[0m\u001b[1;36m1.\u001b[0m\u001b[1;33m,\u001b[0m \u001b[0mv_s\u001b[0m\u001b[1;33m=\u001b[0m\u001b[1;36m5.0\u001b[0m\u001b[1;33m,\u001b[0m \u001b[0mm_sp\u001b[0m\u001b[1;33m=\u001b[0m\u001b[1;36m0.5\u001b[0m\u001b[1;33m,\u001b[0m \u001b[0mn_sp\u001b[0m\u001b[1;33m=\u001b[0m\u001b[1;36m1.0\u001b[0m\u001b[1;33m,\u001b[0m\u001b[1;33m\u001b[0m\u001b[1;33m\u001b[0m\u001b[0m\n\u001b[0;32m     10\u001b[0m            sp_crit_sed=0, sp_crit_br=0, method='simple_stream_power')\n",
      "\u001b[1;31mTypeError\u001b[0m: __init__() got an unexpected keyword argument 'method'"
     ]
    }
   ],
   "source": [
    "#Instantiate flow router\n",
    "fr = FlowRouter(mg)\n",
    "\n",
    "#Instantiate depression finder and router; optional\n",
    "df = DepressionFinderAndRouter(mg)\n",
    "\n",
    "#Instantiate SPACE model with chosen parameters\n",
    "sp = Space(mg, K_sed=0.01, K_br=0.001, \n",
    "           F_f=0., phi=0., H_star=1., v_s=5.0, m_sp=0.5, n_sp=1.0,\n",
    "           sp_crit_sed=0, sp_crit_br=0, method='simple_stream_power')"
   ]
  },
  {
   "cell_type": "markdown",
   "metadata": {},
   "source": [
    "### Step 5: Run the time loop"
   ]
  },
  {
   "cell_type": "code",
   "execution_count": null,
   "metadata": {
    "collapsed": false
   },
   "outputs": [],
   "source": [
    "#Set model timestep\n",
    "timestep = 1.0 #years\n",
    "\n",
    "#Set elapsed time to zero\n",
    "elapsed_time = 0 #years\n",
    "\n",
    "#Set timestep count to zero\n",
    "count = 0\n",
    "\n",
    "#Set model run time\n",
    "run_time = 500 #years\n",
    "\n",
    "#Array to save sediment flux values\n",
    "sed_flux = np.zeros(int(run_time // timestep))\n",
    "while elapsed_time < run_time: #time units of years\n",
    "    #Run the flow router\n",
    "    fr.run_one_step()\n",
    "    \n",
    "    #Run the depression finder and router; optional\n",
    "    df.map_depressions()\n",
    "    \n",
    "    #Get list of nodes in depressions; only\n",
    "    #used if using DepressionFinderAndRouter\n",
    "    flooded = np.where(df.flood_status==3)[0]\n",
    "    sp.run_one_step(dt = timestep, flooded_nodes=flooded)\n",
    "    \n",
    "    #Save sediment flux value to array\n",
    "    sed_flux[count] = mg.at_node['sediment__flux'][0]\n",
    "    \n",
    "    #Add to value of elapsed time\n",
    "    elapsed_time += timestep\n",
    "    \n",
    "    #Increase timestep count\n",
    "    count += 1"
   ]
  },
  {
   "cell_type": "markdown",
   "metadata": {},
   "source": [
    "## Visualization of results"
   ]
  },
  {
   "cell_type": "markdown",
   "metadata": {},
   "source": [
    "### Sediment flux map"
   ]
  },
  {
   "cell_type": "code",
   "execution_count": null,
   "metadata": {
    "collapsed": false
   },
   "outputs": [
    {
     "data": {
      "image/png": "[encoded data removed]",
      "text/plain": [
       "<matplotlib.figure.Figure at 0x11a27de50>"
      ]
     },
     "metadata": {},
     "output_type": "display_data"
    }
   ],
   "source": [
    "#Instantiate figure\n",
    "fig = plt.figure()\n",
    "\n",
    "#Instantiate subplot\n",
    "plot = plt.subplot()\n",
    "\n",
    "#Show sediment flux map\n",
    "imshow_grid(mg, 'sediment__flux', plot_name='Sediment flux', var_name = 'Sediment flux', var_units=r'm$^3$/yr', grid_units=('m', 'm'), cmap='terrain')"
   ]
  },
  {
   "cell_type": "code",
   "execution_count": null,
   "metadata": {
    "collapsed": false
   },
   "outputs": [],
   "source": [
    "#Export figure to image\n",
    "fig.savefig('sediment_flux_map.eps')"
   ]
  },
  {
   "cell_type": "markdown",
   "metadata": {},
   "source": []
  },
  {
   "cell_type": "markdown",
   "metadata": {},
   "source": [
    "### Sedimentograph"
   ]
  },
  {
   "cell_type": "code",
   "execution_count": null,
   "metadata": {
    "collapsed": false
   },
   "outputs": [
    {
     "data": {
      "text/plain": [
       "<matplotlib.text.Text at 0x11db17150>"
      ]
     },
     "execution_count": 8,
     "metadata": {},
     "output_type": "execute_result"
    },
    {
     "data": {
      "image/png": "[encoded data removed]",
      "text/plain": [
       "<matplotlib.figure.Figure at 0x11db03ed0>"
      ]
     },
     "metadata": {},
     "output_type": "display_data"
    }
   ],
   "source": [
    "#Instantiate figure\n",
    "fig = plt.figure()\n",
    "\n",
    "#Instantiate subplot\n",
    "sedfluxplot = plt.subplot()\n",
    "\n",
    "#Plot data\n",
    "sedfluxplot.plot(np.arange(500),sed_flux, color = 'k', linewidth = 3)\n",
    "\n",
    "#Add axis labels\n",
    "sedfluxplot.set_xlabel('Time [yr]')\n",
    "sedfluxplot.set_ylabel(r'Sediment flux [m$^3$/yr]')"
   ]
  },
  {
   "cell_type": "code",
   "execution_count": null,
   "metadata": {
    "collapsed": true
   },
   "outputs": [],
   "source": [
    "#Export figure to image\n",
    "fig.savefig('sedimentograph.eps')"
   ]
  }
 ],
 "metadata": {
  "interpreter": {
   "hash": "0abccfbd2c22ff3ab4d7b44909cfe0feef52cedff933ad1333dcb5cce75dbabf"
  },
  "kernelspec": {
   "display_name": "Python 2",
   "language": "python",
   "name": "python3"
  },
  "language_info": {
   "codemirror_mode": {
    "name": "ipython",
    "version": 3
   },
   "file_extension": ".py",
   "mimetype": "text/x-python",
   "name": "python",
   "nbconvert_exporter": "python",
   "pygments_lexer": "ipython3",
   "version": "3.9.10"
  }
 },
 "nbformat": 4,
 "nbformat_minor": 2
}
